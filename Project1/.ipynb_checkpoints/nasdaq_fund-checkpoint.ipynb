{
 "cells": [
  {
   "cell_type": "code",
   "execution_count": 2,
   "metadata": {},
   "outputs": [],
   "source": [
    "import os\n",
    "import requests\n",
    "import numpy as np\n",
    "import pandas as pd\n",
    "import seaborn as sns\n",
    "import matplotlib.pyplot as plt\n",
    "from dotenv import load_dotenv\n",
    "import datetime as dt\n",
    "import chart_studio.plotly as py\n",
    "from plotly.offline import download_plotlyjs,init_notebook_mode,plot,iplot\n",
    "import cufflinks as cf\n",
    "import alpaca_trade_api as tradeapi\n",
    "%matplotlib inline"
   ]
  },
  {
   "cell_type": "code",
   "execution_count": 3,
   "metadata": {},
   "outputs": [
    {
     "data": {
      "text/plain": [
       "True"
      ]
     },
     "execution_count": 3,
     "metadata": {},
     "output_type": "execute_result"
    }
   ],
   "source": [
    "load_dotenv()"
   ]
  },
  {
   "cell_type": "code",
   "execution_count": 4,
   "metadata": {},
   "outputs": [],
   "source": [
    "alpaca_api_key = os.getenv(\"ALPACA_API_KEY\")\n",
    "alpaca_secret_key = os.getenv(\"ALPACA_SECRET_KEY\")"
   ]
  },
  {
   "cell_type": "code",
   "execution_count": 5,
   "metadata": {},
   "outputs": [],
   "source": [
    "# Create the Alpaca API Object\n",
    "alpaca = tradeapi.REST(\n",
    "alpaca_api_key,\n",
    "alpaca_secret_key,\n",
    "api_version=\"v2\"\n",
    "\n",
    ")"
   ]
  },
  {
   "cell_type": "code",
   "execution_count": 6,
   "metadata": {},
   "outputs": [],
   "source": [
    "# format current date as ISO format\n",
    "exchanges = 'nasdaq'\n",
    "start = pd.Timestamp(\"2021-01-01\", tz=\"America/New_York\").isoformat()\n",
    "end = pd.Timestamp(\"2021-12-31\", tz=\"America/New_York\").isoformat()\n"
   ]
  },
  {
   "cell_type": "code",
   "execution_count": 7,
   "metadata": {},
   "outputs": [],
   "source": [
    "tickers = ['AAPL', 'AMZN','AMD','ABNB','ALGN','AEP','ADI','ANSS','AMAT','ASML']\n",
    "colnames = []"
   ]
  },
  {
   "cell_type": "code",
   "execution_count": 8,
   "metadata": {},
   "outputs": [],
   "source": [
    "# Set timeframe to one day (\"1Day\") for the Alpaca API\n",
    "timeframe = \"1Day\"\n"
   ]
  },
  {
   "cell_type": "code",
   "execution_count": 9,
   "metadata": {},
   "outputs": [
    {
     "data": {
      "text/html": [
       "<div>\n",
       "<style scoped>\n",
       "    .dataframe tbody tr th:only-of-type {\n",
       "        vertical-align: middle;\n",
       "    }\n",
       "\n",
       "    .dataframe tbody tr th {\n",
       "        vertical-align: top;\n",
       "    }\n",
       "\n",
       "    .dataframe thead th {\n",
       "        text-align: right;\n",
       "    }\n",
       "</style>\n",
       "<table border=\"1\" class=\"dataframe\">\n",
       "  <thead>\n",
       "    <tr style=\"text-align: right;\">\n",
       "      <th></th>\n",
       "      <th>open</th>\n",
       "      <th>high</th>\n",
       "      <th>low</th>\n",
       "      <th>close</th>\n",
       "      <th>volume</th>\n",
       "      <th>trade_count</th>\n",
       "      <th>vwap</th>\n",
       "      <th>symbol</th>\n",
       "    </tr>\n",
       "    <tr>\n",
       "      <th>timestamp</th>\n",
       "      <th></th>\n",
       "      <th></th>\n",
       "      <th></th>\n",
       "      <th></th>\n",
       "      <th></th>\n",
       "      <th></th>\n",
       "      <th></th>\n",
       "      <th></th>\n",
       "    </tr>\n",
       "  </thead>\n",
       "  <tbody>\n",
       "    <tr>\n",
       "      <th>2021-01-04 05:00:00+00:00</th>\n",
       "      <td>133.56</td>\n",
       "      <td>133.6116</td>\n",
       "      <td>126.760</td>\n",
       "      <td>129.41</td>\n",
       "      <td>143302687</td>\n",
       "      <td>1310228</td>\n",
       "      <td>129.732580</td>\n",
       "      <td>AAPL</td>\n",
       "    </tr>\n",
       "    <tr>\n",
       "      <th>2021-01-05 05:00:00+00:00</th>\n",
       "      <td>128.98</td>\n",
       "      <td>131.7400</td>\n",
       "      <td>128.430</td>\n",
       "      <td>131.01</td>\n",
       "      <td>97667342</td>\n",
       "      <td>707584</td>\n",
       "      <td>130.717944</td>\n",
       "      <td>AAPL</td>\n",
       "    </tr>\n",
       "    <tr>\n",
       "      <th>2021-01-06 05:00:00+00:00</th>\n",
       "      <td>127.53</td>\n",
       "      <td>131.0499</td>\n",
       "      <td>126.382</td>\n",
       "      <td>126.60</td>\n",
       "      <td>155104120</td>\n",
       "      <td>1202580</td>\n",
       "      <td>128.350036</td>\n",
       "      <td>AAPL</td>\n",
       "    </tr>\n",
       "    <tr>\n",
       "      <th>2021-01-07 05:00:00+00:00</th>\n",
       "      <td>128.38</td>\n",
       "      <td>131.6300</td>\n",
       "      <td>127.860</td>\n",
       "      <td>130.92</td>\n",
       "      <td>109581117</td>\n",
       "      <td>718363</td>\n",
       "      <td>130.153889</td>\n",
       "      <td>AAPL</td>\n",
       "    </tr>\n",
       "    <tr>\n",
       "      <th>2021-01-08 05:00:00+00:00</th>\n",
       "      <td>132.50</td>\n",
       "      <td>132.6300</td>\n",
       "      <td>130.230</td>\n",
       "      <td>132.05</td>\n",
       "      <td>105158675</td>\n",
       "      <td>800071</td>\n",
       "      <td>131.565744</td>\n",
       "      <td>AAPL</td>\n",
       "    </tr>\n",
       "    <tr>\n",
       "      <th>...</th>\n",
       "      <td>...</td>\n",
       "      <td>...</td>\n",
       "      <td>...</td>\n",
       "      <td>...</td>\n",
       "      <td>...</td>\n",
       "      <td>...</td>\n",
       "      <td>...</td>\n",
       "      <td>...</td>\n",
       "    </tr>\n",
       "    <tr>\n",
       "      <th>2021-12-27 05:00:00+00:00</th>\n",
       "      <td>794.40</td>\n",
       "      <td>813.5900</td>\n",
       "      <td>794.360</td>\n",
       "      <td>811.43</td>\n",
       "      <td>527151</td>\n",
       "      <td>21600</td>\n",
       "      <td>808.015490</td>\n",
       "      <td>ASML</td>\n",
       "    </tr>\n",
       "    <tr>\n",
       "      <th>2021-12-28 05:00:00+00:00</th>\n",
       "      <td>817.30</td>\n",
       "      <td>817.3000</td>\n",
       "      <td>803.090</td>\n",
       "      <td>804.77</td>\n",
       "      <td>547337</td>\n",
       "      <td>20082</td>\n",
       "      <td>807.097323</td>\n",
       "      <td>ASML</td>\n",
       "    </tr>\n",
       "    <tr>\n",
       "      <th>2021-12-29 05:00:00+00:00</th>\n",
       "      <td>798.11</td>\n",
       "      <td>805.2350</td>\n",
       "      <td>794.400</td>\n",
       "      <td>801.98</td>\n",
       "      <td>404385</td>\n",
       "      <td>15998</td>\n",
       "      <td>800.735631</td>\n",
       "      <td>ASML</td>\n",
       "    </tr>\n",
       "    <tr>\n",
       "      <th>2021-12-30 05:00:00+00:00</th>\n",
       "      <td>803.95</td>\n",
       "      <td>808.2900</td>\n",
       "      <td>799.920</td>\n",
       "      <td>800.22</td>\n",
       "      <td>412064</td>\n",
       "      <td>16067</td>\n",
       "      <td>803.479354</td>\n",
       "      <td>ASML</td>\n",
       "    </tr>\n",
       "    <tr>\n",
       "      <th>2021-12-31 05:00:00+00:00</th>\n",
       "      <td>801.51</td>\n",
       "      <td>805.2792</td>\n",
       "      <td>795.880</td>\n",
       "      <td>796.14</td>\n",
       "      <td>236422</td>\n",
       "      <td>11003</td>\n",
       "      <td>798.856799</td>\n",
       "      <td>ASML</td>\n",
       "    </tr>\n",
       "  </tbody>\n",
       "</table>\n",
       "<p>2520 rows × 8 columns</p>\n",
       "</div>"
      ],
      "text/plain": [
       "                             open      high      low   close     volume  \\\n",
       "timestamp                                                                 \n",
       "2021-01-04 05:00:00+00:00  133.56  133.6116  126.760  129.41  143302687   \n",
       "2021-01-05 05:00:00+00:00  128.98  131.7400  128.430  131.01   97667342   \n",
       "2021-01-06 05:00:00+00:00  127.53  131.0499  126.382  126.60  155104120   \n",
       "2021-01-07 05:00:00+00:00  128.38  131.6300  127.860  130.92  109581117   \n",
       "2021-01-08 05:00:00+00:00  132.50  132.6300  130.230  132.05  105158675   \n",
       "...                           ...       ...      ...     ...        ...   \n",
       "2021-12-27 05:00:00+00:00  794.40  813.5900  794.360  811.43     527151   \n",
       "2021-12-28 05:00:00+00:00  817.30  817.3000  803.090  804.77     547337   \n",
       "2021-12-29 05:00:00+00:00  798.11  805.2350  794.400  801.98     404385   \n",
       "2021-12-30 05:00:00+00:00  803.95  808.2900  799.920  800.22     412064   \n",
       "2021-12-31 05:00:00+00:00  801.51  805.2792  795.880  796.14     236422   \n",
       "\n",
       "                           trade_count        vwap symbol  \n",
       "timestamp                                                  \n",
       "2021-01-04 05:00:00+00:00      1310228  129.732580   AAPL  \n",
       "2021-01-05 05:00:00+00:00       707584  130.717944   AAPL  \n",
       "2021-01-06 05:00:00+00:00      1202580  128.350036   AAPL  \n",
       "2021-01-07 05:00:00+00:00       718363  130.153889   AAPL  \n",
       "2021-01-08 05:00:00+00:00       800071  131.565744   AAPL  \n",
       "...                                ...         ...    ...  \n",
       "2021-12-27 05:00:00+00:00        21600  808.015490   ASML  \n",
       "2021-12-28 05:00:00+00:00        20082  807.097323   ASML  \n",
       "2021-12-29 05:00:00+00:00        15998  800.735631   ASML  \n",
       "2021-12-30 05:00:00+00:00        16067  803.479354   ASML  \n",
       "2021-12-31 05:00:00+00:00        11003  798.856799   ASML  \n",
       "\n",
       "[2520 rows x 8 columns]"
      ]
     },
     "execution_count": 9,
     "metadata": {},
     "output_type": "execute_result"
    }
   ],
   "source": [
    "# Get current closing prices for tickers\n",
    "df_portfolio = alpaca.get_bars(\n",
    "    tickers,\n",
    "    timeframe,\n",
    "    start = start,\n",
    "    end = end\n",
    ").df\n",
    "\n",
    "# Display sample data\n",
    "df_portfolio"
   ]
  },
  {
   "cell_type": "code",
   "execution_count": 10,
   "metadata": {},
   "outputs": [
    {
     "data": {
      "text/html": [
       "<div>\n",
       "<style scoped>\n",
       "    .dataframe tbody tr th:only-of-type {\n",
       "        vertical-align: middle;\n",
       "    }\n",
       "\n",
       "    .dataframe tbody tr th {\n",
       "        vertical-align: top;\n",
       "    }\n",
       "\n",
       "    .dataframe thead th {\n",
       "        text-align: right;\n",
       "    }\n",
       "</style>\n",
       "<table border=\"1\" class=\"dataframe\">\n",
       "  <thead>\n",
       "    <tr style=\"text-align: right;\">\n",
       "      <th></th>\n",
       "      <th>close</th>\n",
       "      <th>symbol</th>\n",
       "    </tr>\n",
       "    <tr>\n",
       "      <th>timestamp</th>\n",
       "      <th></th>\n",
       "      <th></th>\n",
       "    </tr>\n",
       "  </thead>\n",
       "  <tbody>\n",
       "    <tr>\n",
       "      <th>2021-01-04 05:00:00+00:00</th>\n",
       "      <td>129.41</td>\n",
       "      <td>AAPL</td>\n",
       "    </tr>\n",
       "    <tr>\n",
       "      <th>2021-01-05 05:00:00+00:00</th>\n",
       "      <td>131.01</td>\n",
       "      <td>AAPL</td>\n",
       "    </tr>\n",
       "    <tr>\n",
       "      <th>2021-01-06 05:00:00+00:00</th>\n",
       "      <td>126.60</td>\n",
       "      <td>AAPL</td>\n",
       "    </tr>\n",
       "    <tr>\n",
       "      <th>2021-01-07 05:00:00+00:00</th>\n",
       "      <td>130.92</td>\n",
       "      <td>AAPL</td>\n",
       "    </tr>\n",
       "    <tr>\n",
       "      <th>2021-01-08 05:00:00+00:00</th>\n",
       "      <td>132.05</td>\n",
       "      <td>AAPL</td>\n",
       "    </tr>\n",
       "    <tr>\n",
       "      <th>...</th>\n",
       "      <td>...</td>\n",
       "      <td>...</td>\n",
       "    </tr>\n",
       "    <tr>\n",
       "      <th>2021-12-27 05:00:00+00:00</th>\n",
       "      <td>811.43</td>\n",
       "      <td>ASML</td>\n",
       "    </tr>\n",
       "    <tr>\n",
       "      <th>2021-12-28 05:00:00+00:00</th>\n",
       "      <td>804.77</td>\n",
       "      <td>ASML</td>\n",
       "    </tr>\n",
       "    <tr>\n",
       "      <th>2021-12-29 05:00:00+00:00</th>\n",
       "      <td>801.98</td>\n",
       "      <td>ASML</td>\n",
       "    </tr>\n",
       "    <tr>\n",
       "      <th>2021-12-30 05:00:00+00:00</th>\n",
       "      <td>800.22</td>\n",
       "      <td>ASML</td>\n",
       "    </tr>\n",
       "    <tr>\n",
       "      <th>2021-12-31 05:00:00+00:00</th>\n",
       "      <td>796.14</td>\n",
       "      <td>ASML</td>\n",
       "    </tr>\n",
       "  </tbody>\n",
       "</table>\n",
       "<p>2520 rows × 2 columns</p>\n",
       "</div>"
      ],
      "text/plain": [
       "                            close symbol\n",
       "timestamp                               \n",
       "2021-01-04 05:00:00+00:00  129.41   AAPL\n",
       "2021-01-05 05:00:00+00:00  131.01   AAPL\n",
       "2021-01-06 05:00:00+00:00  126.60   AAPL\n",
       "2021-01-07 05:00:00+00:00  130.92   AAPL\n",
       "2021-01-08 05:00:00+00:00  132.05   AAPL\n",
       "...                           ...    ...\n",
       "2021-12-27 05:00:00+00:00  811.43   ASML\n",
       "2021-12-28 05:00:00+00:00  804.77   ASML\n",
       "2021-12-29 05:00:00+00:00  801.98   ASML\n",
       "2021-12-30 05:00:00+00:00  800.22   ASML\n",
       "2021-12-31 05:00:00+00:00  796.14   ASML\n",
       "\n",
       "[2520 rows x 2 columns]"
      ]
     },
     "execution_count": 10,
     "metadata": {},
     "output_type": "execute_result"
    }
   ],
   "source": [
    "df_portfolio = df_portfolio.drop(columns=[\"open\",\"high\",'low','volume','trade_count','vwap'], axis=1)\n",
    "\n",
    "df_portfolio\n"
   ]
  },
  {
   "cell_type": "code",
   "execution_count": 11,
   "metadata": {},
   "outputs": [
    {
     "data": {
      "text/plain": [
       "Timestamp('2021-01-04 00:00:00')"
      ]
     },
     "execution_count": 11,
     "metadata": {},
     "output_type": "execute_result"
    }
   ],
   "source": [
    "start = pd.to_datetime('2021-01-04')\n",
    "start"
   ]
  },
  {
   "cell_type": "code",
   "execution_count": 12,
   "metadata": {},
   "outputs": [
    {
     "data": {
      "text/html": [
       "<div>\n",
       "<style scoped>\n",
       "    .dataframe tbody tr th:only-of-type {\n",
       "        vertical-align: middle;\n",
       "    }\n",
       "\n",
       "    .dataframe tbody tr th {\n",
       "        vertical-align: top;\n",
       "    }\n",
       "\n",
       "    .dataframe thead th {\n",
       "        text-align: right;\n",
       "    }\n",
       "</style>\n",
       "<table border=\"1\" class=\"dataframe\">\n",
       "  <thead>\n",
       "    <tr style=\"text-align: right;\">\n",
       "      <th></th>\n",
       "      <th>prices</th>\n",
       "    </tr>\n",
       "  </thead>\n",
       "  <tbody>\n",
       "    <tr>\n",
       "      <th>2021-01-31</th>\n",
       "      <td>100.0</td>\n",
       "    </tr>\n",
       "    <tr>\n",
       "      <th>2021-02-28</th>\n",
       "      <td>101.0</td>\n",
       "    </tr>\n",
       "    <tr>\n",
       "      <th>2021-03-31</th>\n",
       "      <td>NaN</td>\n",
       "    </tr>\n",
       "    <tr>\n",
       "      <th>2021-04-30</th>\n",
       "      <td>100.0</td>\n",
       "    </tr>\n",
       "    <tr>\n",
       "      <th>2021-05-31</th>\n",
       "      <td>89.0</td>\n",
       "    </tr>\n",
       "    <tr>\n",
       "      <th>2021-06-30</th>\n",
       "      <td>88.0</td>\n",
       "    </tr>\n",
       "  </tbody>\n",
       "</table>\n",
       "</div>"
      ],
      "text/plain": [
       "            prices\n",
       "2021-01-31   100.0\n",
       "2021-02-28   101.0\n",
       "2021-03-31     NaN\n",
       "2021-04-30   100.0\n",
       "2021-05-31    89.0\n",
       "2021-06-30    88.0"
      ]
     },
     "execution_count": 12,
     "metadata": {},
     "output_type": "execute_result"
    }
   ],
   "source": [
    "date_index = pd.date_range('1/1/2021', periods=6, freq='M')\n",
    "df = pd.DataFrame({\"prices\": [100, 101, np.nan, 100, 89, 88]},\n",
    "                   index=date_index)\n",
    "df"
   ]
  },
  {
   "cell_type": "code",
   "execution_count": 13,
   "metadata": {},
   "outputs": [
    {
     "data": {
      "text/plain": [
       "timestamp\n",
       "2021-01-04 05:00:00+00:00    AAPL\n",
       "2021-01-05 05:00:00+00:00    AAPL\n",
       "2021-01-06 05:00:00+00:00    AAPL\n",
       "2021-01-07 05:00:00+00:00    AAPL\n",
       "2021-01-08 05:00:00+00:00    AAPL\n",
       "                             ... \n",
       "2021-12-27 05:00:00+00:00    ASML\n",
       "2021-12-28 05:00:00+00:00    ASML\n",
       "2021-12-29 05:00:00+00:00    ASML\n",
       "2021-12-30 05:00:00+00:00    ASML\n",
       "2021-12-31 05:00:00+00:00    ASML\n",
       "Name: symbol, Length: 2520, dtype: object"
      ]
     },
     "execution_count": 13,
     "metadata": {},
     "output_type": "execute_result"
    }
   ],
   "source": [
    "Top10_tickers =['AAPL', 'AMZN','AMD','ABNB','ALGN','AEP','ADI','ANSS','AMAT','FB']\n",
    "#Go to my dataframe, go to symbols column and give all the data points that contain only these top 10\n",
    "#Top10_tickers = df_portfolio.loc()\n",
    "\n",
    "stocks = df_portfolio['symbol']\n",
    "stocks"
   ]
  },
  {
   "cell_type": "code",
   "execution_count": 14,
   "metadata": {},
   "outputs": [
    {
     "data": {
      "text/html": [
       "<div>\n",
       "<style scoped>\n",
       "    .dataframe tbody tr th:only-of-type {\n",
       "        vertical-align: middle;\n",
       "    }\n",
       "\n",
       "    .dataframe tbody tr th {\n",
       "        vertical-align: top;\n",
       "    }\n",
       "\n",
       "    .dataframe thead th {\n",
       "        text-align: right;\n",
       "    }\n",
       "</style>\n",
       "<table border=\"1\" class=\"dataframe\">\n",
       "  <thead>\n",
       "    <tr style=\"text-align: right;\">\n",
       "      <th></th>\n",
       "      <th>timestamp</th>\n",
       "      <th>close</th>\n",
       "      <th>symbol</th>\n",
       "    </tr>\n",
       "  </thead>\n",
       "  <tbody>\n",
       "    <tr>\n",
       "      <th>0</th>\n",
       "      <td>2021-01-04 05:00:00+00:00</td>\n",
       "      <td>129.41</td>\n",
       "      <td>AAPL</td>\n",
       "    </tr>\n",
       "    <tr>\n",
       "      <th>1</th>\n",
       "      <td>2021-01-04 05:00:00+00:00</td>\n",
       "      <td>139.15</td>\n",
       "      <td>ABNB</td>\n",
       "    </tr>\n",
       "    <tr>\n",
       "      <th>2</th>\n",
       "      <td>2021-01-04 05:00:00+00:00</td>\n",
       "      <td>146.02</td>\n",
       "      <td>ADI</td>\n",
       "    </tr>\n",
       "    <tr>\n",
       "      <th>3</th>\n",
       "      <td>2021-01-04 05:00:00+00:00</td>\n",
       "      <td>81.54</td>\n",
       "      <td>AEP</td>\n",
       "    </tr>\n",
       "    <tr>\n",
       "      <th>4</th>\n",
       "      <td>2021-01-04 05:00:00+00:00</td>\n",
       "      <td>526.46</td>\n",
       "      <td>ALGN</td>\n",
       "    </tr>\n",
       "    <tr>\n",
       "      <th>5</th>\n",
       "      <td>2021-01-04 05:00:00+00:00</td>\n",
       "      <td>86.87</td>\n",
       "      <td>AMAT</td>\n",
       "    </tr>\n",
       "    <tr>\n",
       "      <th>6</th>\n",
       "      <td>2021-01-04 05:00:00+00:00</td>\n",
       "      <td>92.30</td>\n",
       "      <td>AMD</td>\n",
       "    </tr>\n",
       "    <tr>\n",
       "      <th>7</th>\n",
       "      <td>2021-01-04 05:00:00+00:00</td>\n",
       "      <td>3186.63</td>\n",
       "      <td>AMZN</td>\n",
       "    </tr>\n",
       "    <tr>\n",
       "      <th>8</th>\n",
       "      <td>2021-01-04 05:00:00+00:00</td>\n",
       "      <td>357.67</td>\n",
       "      <td>ANSS</td>\n",
       "    </tr>\n",
       "    <tr>\n",
       "      <th>9</th>\n",
       "      <td>2021-01-04 05:00:00+00:00</td>\n",
       "      <td>500.00</td>\n",
       "      <td>ASML</td>\n",
       "    </tr>\n",
       "  </tbody>\n",
       "</table>\n",
       "</div>"
      ],
      "text/plain": [
       "                  timestamp    close symbol\n",
       "0 2021-01-04 05:00:00+00:00   129.41   AAPL\n",
       "1 2021-01-04 05:00:00+00:00   139.15   ABNB\n",
       "2 2021-01-04 05:00:00+00:00   146.02    ADI\n",
       "3 2021-01-04 05:00:00+00:00    81.54    AEP\n",
       "4 2021-01-04 05:00:00+00:00   526.46   ALGN\n",
       "5 2021-01-04 05:00:00+00:00    86.87   AMAT\n",
       "6 2021-01-04 05:00:00+00:00    92.30    AMD\n",
       "7 2021-01-04 05:00:00+00:00  3186.63   AMZN\n",
       "8 2021-01-04 05:00:00+00:00   357.67   ANSS\n",
       "9 2021-01-04 05:00:00+00:00   500.00   ASML"
      ]
     },
     "execution_count": 14,
     "metadata": {},
     "output_type": "execute_result"
    }
   ],
   "source": [
    "first_day = df_portfolio.loc['2021-01-04']\n",
    "first_day.reset_index(inplace=True)\n",
    "first_day"
   ]
  },
  {
   "cell_type": "code",
   "execution_count": 15,
   "metadata": {},
   "outputs": [
    {
     "data": {
      "text/html": [
       "<div>\n",
       "<style scoped>\n",
       "    .dataframe tbody tr th:only-of-type {\n",
       "        vertical-align: middle;\n",
       "    }\n",
       "\n",
       "    .dataframe tbody tr th {\n",
       "        vertical-align: top;\n",
       "    }\n",
       "\n",
       "    .dataframe thead th {\n",
       "        text-align: right;\n",
       "    }\n",
       "</style>\n",
       "<table border=\"1\" class=\"dataframe\">\n",
       "  <thead>\n",
       "    <tr style=\"text-align: right;\">\n",
       "      <th></th>\n",
       "      <th>timestamp</th>\n",
       "      <th>close</th>\n",
       "      <th>symbol</th>\n",
       "    </tr>\n",
       "  </thead>\n",
       "  <tbody>\n",
       "    <tr>\n",
       "      <th>0</th>\n",
       "      <td>2021-12-31 05:00:00+00:00</td>\n",
       "      <td>177.57</td>\n",
       "      <td>AAPL</td>\n",
       "    </tr>\n",
       "    <tr>\n",
       "      <th>1</th>\n",
       "      <td>2021-12-31 05:00:00+00:00</td>\n",
       "      <td>166.49</td>\n",
       "      <td>ABNB</td>\n",
       "    </tr>\n",
       "    <tr>\n",
       "      <th>2</th>\n",
       "      <td>2021-12-31 05:00:00+00:00</td>\n",
       "      <td>175.77</td>\n",
       "      <td>ADI</td>\n",
       "    </tr>\n",
       "    <tr>\n",
       "      <th>3</th>\n",
       "      <td>2021-12-31 05:00:00+00:00</td>\n",
       "      <td>88.97</td>\n",
       "      <td>AEP</td>\n",
       "    </tr>\n",
       "    <tr>\n",
       "      <th>4</th>\n",
       "      <td>2021-12-31 05:00:00+00:00</td>\n",
       "      <td>657.18</td>\n",
       "      <td>ALGN</td>\n",
       "    </tr>\n",
       "  </tbody>\n",
       "</table>\n",
       "</div>"
      ],
      "text/plain": [
       "                  timestamp   close symbol\n",
       "0 2021-12-31 05:00:00+00:00  177.57   AAPL\n",
       "1 2021-12-31 05:00:00+00:00  166.49   ABNB\n",
       "2 2021-12-31 05:00:00+00:00  175.77    ADI\n",
       "3 2021-12-31 05:00:00+00:00   88.97    AEP\n",
       "4 2021-12-31 05:00:00+00:00  657.18   ALGN"
      ]
     },
     "execution_count": 15,
     "metadata": {},
     "output_type": "execute_result"
    }
   ],
   "source": [
    "last_day = df_portfolio.loc['2021-12-31']\n",
    "last_day.reset_index(inplace=True)\n",
    "last_day.head()"
   ]
  },
  {
   "cell_type": "code",
   "execution_count": 16,
   "metadata": {},
   "outputs": [],
   "source": [
    "initial_investment = 10000\n",
    "# 10% of 10000 = 1000 to buy a number of share\n",
    "first_day['share'] = (0.01*initial_investment)\n",
    "first_day['share'] = ((0.01*initial_investment)/first_day['close'])\n",
    "\n",
    "first_day['value'] = first_day['share'] * first_day['close']\n",
    "\n",
    "#first_day_AAPL = (.01*initial_investment)/ day_1"
   ]
  },
  {
   "cell_type": "code",
   "execution_count": 17,
   "metadata": {},
   "outputs": [
    {
     "data": {
      "text/html": [
       "<div>\n",
       "<style scoped>\n",
       "    .dataframe tbody tr th:only-of-type {\n",
       "        vertical-align: middle;\n",
       "    }\n",
       "\n",
       "    .dataframe tbody tr th {\n",
       "        vertical-align: top;\n",
       "    }\n",
       "\n",
       "    .dataframe thead th {\n",
       "        text-align: right;\n",
       "    }\n",
       "</style>\n",
       "<table border=\"1\" class=\"dataframe\">\n",
       "  <thead>\n",
       "    <tr style=\"text-align: right;\">\n",
       "      <th></th>\n",
       "      <th>timestamp</th>\n",
       "      <th>close</th>\n",
       "      <th>symbol</th>\n",
       "      <th>share</th>\n",
       "      <th>value</th>\n",
       "    </tr>\n",
       "  </thead>\n",
       "  <tbody>\n",
       "    <tr>\n",
       "      <th>0</th>\n",
       "      <td>2021-01-04 05:00:00+00:00</td>\n",
       "      <td>129.41</td>\n",
       "      <td>AAPL</td>\n",
       "      <td>0.772738</td>\n",
       "      <td>100.0</td>\n",
       "    </tr>\n",
       "    <tr>\n",
       "      <th>1</th>\n",
       "      <td>2021-01-04 05:00:00+00:00</td>\n",
       "      <td>139.15</td>\n",
       "      <td>ABNB</td>\n",
       "      <td>0.718649</td>\n",
       "      <td>100.0</td>\n",
       "    </tr>\n",
       "    <tr>\n",
       "      <th>2</th>\n",
       "      <td>2021-01-04 05:00:00+00:00</td>\n",
       "      <td>146.02</td>\n",
       "      <td>ADI</td>\n",
       "      <td>0.684838</td>\n",
       "      <td>100.0</td>\n",
       "    </tr>\n",
       "    <tr>\n",
       "      <th>3</th>\n",
       "      <td>2021-01-04 05:00:00+00:00</td>\n",
       "      <td>81.54</td>\n",
       "      <td>AEP</td>\n",
       "      <td>1.226392</td>\n",
       "      <td>100.0</td>\n",
       "    </tr>\n",
       "    <tr>\n",
       "      <th>4</th>\n",
       "      <td>2021-01-04 05:00:00+00:00</td>\n",
       "      <td>526.46</td>\n",
       "      <td>ALGN</td>\n",
       "      <td>0.189948</td>\n",
       "      <td>100.0</td>\n",
       "    </tr>\n",
       "  </tbody>\n",
       "</table>\n",
       "</div>"
      ],
      "text/plain": [
       "                  timestamp   close symbol     share  value\n",
       "0 2021-01-04 05:00:00+00:00  129.41   AAPL  0.772738  100.0\n",
       "1 2021-01-04 05:00:00+00:00  139.15   ABNB  0.718649  100.0\n",
       "2 2021-01-04 05:00:00+00:00  146.02    ADI  0.684838  100.0\n",
       "3 2021-01-04 05:00:00+00:00   81.54    AEP  1.226392  100.0\n",
       "4 2021-01-04 05:00:00+00:00  526.46   ALGN  0.189948  100.0"
      ]
     },
     "execution_count": 17,
     "metadata": {},
     "output_type": "execute_result"
    }
   ],
   "source": [
    "first_day.head()"
   ]
  },
  {
   "cell_type": "code",
   "execution_count": 18,
   "metadata": {},
   "outputs": [],
   "source": [
    "initial_investment = 10000\n",
    "# 10% of 10000 = 1000 to buy a number of share\n",
    "last_day['share'] = (0.01*initial_investment)\n",
    "last_day['share'] = ((0.01*initial_investment)/last_day['close'])\n",
    "\n",
    "last_day['value'] = first_day['share'] * last_day['close']\n",
    "\n",
    "#first_day_AAPL = (.01*initial_investment)/ day_1"
   ]
  },
  {
   "cell_type": "code",
   "execution_count": 19,
   "metadata": {},
   "outputs": [
    {
     "data": {
      "text/html": [
       "<div>\n",
       "<style scoped>\n",
       "    .dataframe tbody tr th:only-of-type {\n",
       "        vertical-align: middle;\n",
       "    }\n",
       "\n",
       "    .dataframe tbody tr th {\n",
       "        vertical-align: top;\n",
       "    }\n",
       "\n",
       "    .dataframe thead th {\n",
       "        text-align: right;\n",
       "    }\n",
       "</style>\n",
       "<table border=\"1\" class=\"dataframe\">\n",
       "  <thead>\n",
       "    <tr style=\"text-align: right;\">\n",
       "      <th></th>\n",
       "      <th>timestamp</th>\n",
       "      <th>close</th>\n",
       "      <th>symbol</th>\n",
       "      <th>share</th>\n",
       "      <th>value</th>\n",
       "    </tr>\n",
       "  </thead>\n",
       "  <tbody>\n",
       "    <tr>\n",
       "      <th>0</th>\n",
       "      <td>2021-12-31 05:00:00+00:00</td>\n",
       "      <td>177.57</td>\n",
       "      <td>AAPL</td>\n",
       "      <td>0.563158</td>\n",
       "      <td>137.215053</td>\n",
       "    </tr>\n",
       "    <tr>\n",
       "      <th>1</th>\n",
       "      <td>2021-12-31 05:00:00+00:00</td>\n",
       "      <td>166.49</td>\n",
       "      <td>ABNB</td>\n",
       "      <td>0.600637</td>\n",
       "      <td>119.647862</td>\n",
       "    </tr>\n",
       "    <tr>\n",
       "      <th>2</th>\n",
       "      <td>2021-12-31 05:00:00+00:00</td>\n",
       "      <td>175.77</td>\n",
       "      <td>ADI</td>\n",
       "      <td>0.568925</td>\n",
       "      <td>120.373921</td>\n",
       "    </tr>\n",
       "    <tr>\n",
       "      <th>3</th>\n",
       "      <td>2021-12-31 05:00:00+00:00</td>\n",
       "      <td>88.97</td>\n",
       "      <td>AEP</td>\n",
       "      <td>1.123974</td>\n",
       "      <td>109.112092</td>\n",
       "    </tr>\n",
       "    <tr>\n",
       "      <th>4</th>\n",
       "      <td>2021-12-31 05:00:00+00:00</td>\n",
       "      <td>657.18</td>\n",
       "      <td>ALGN</td>\n",
       "      <td>0.152165</td>\n",
       "      <td>124.829997</td>\n",
       "    </tr>\n",
       "  </tbody>\n",
       "</table>\n",
       "</div>"
      ],
      "text/plain": [
       "                  timestamp   close symbol     share       value\n",
       "0 2021-12-31 05:00:00+00:00  177.57   AAPL  0.563158  137.215053\n",
       "1 2021-12-31 05:00:00+00:00  166.49   ABNB  0.600637  119.647862\n",
       "2 2021-12-31 05:00:00+00:00  175.77    ADI  0.568925  120.373921\n",
       "3 2021-12-31 05:00:00+00:00   88.97    AEP  1.123974  109.112092\n",
       "4 2021-12-31 05:00:00+00:00  657.18   ALGN  0.152165  124.829997"
      ]
     },
     "execution_count": 19,
     "metadata": {},
     "output_type": "execute_result"
    }
   ],
   "source": [
    "last_day.head()"
   ]
  },
  {
   "cell_type": "code",
   "execution_count": 20,
   "metadata": {},
   "outputs": [
    {
     "data": {
      "text/plain": [
       "<seaborn.axisgrid.FacetGrid at 0x2081f680f40>"
      ]
     },
     "execution_count": 20,
     "metadata": {},
     "output_type": "execute_result"
    },
    {
     "data": {
      "image/png": "[encoded data removed]",
      "text/plain": [
       "<Figure size 360x360 with 1 Axes>"
      ]
     },
     "metadata": {
      "needs_background": "light"
     },
     "output_type": "display_data"
    }
   ],
   "source": [
    "sns.displot(first_day['symbol'], kde=False, bins= 30)"
   ]
  },
  {
   "cell_type": "code",
   "execution_count": 21,
   "metadata": {},
   "outputs": [
    {
     "data": {
      "text/plain": [
       "<seaborn.axisgrid.JointGrid at 0x208422caf70>"
      ]
     },
     "execution_count": 21,
     "metadata": {},
     "output_type": "execute_result"
    },
    {
     "data": {
      "image/png": "[encoded data removed]",
      "text/plain": [
       "<Figure size 432x432 with 3 Axes>"
      ]
     },
     "metadata": {
      "needs_background": "light"
     },
     "output_type": "display_data"
    }
   ],
   "source": [
    "sns.jointplot(x='symbol', y='close', data=first_day)"
   ]
  },
  {
   "cell_type": "code",
   "execution_count": 22,
   "metadata": {},
   "outputs": [
    {
     "data": {
      "text/plain": [
       "<seaborn.axisgrid.PairGrid at 0x2084440b490>"
      ]
     },
     "execution_count": 22,
     "metadata": {},
     "output_type": "execute_result"
    },
    {
     "data": {
      "image/png": "[encoded data removed]",
      "text/plain": [
       "<Figure size 540x540 with 12 Axes>"
      ]
     },
     "metadata": {
      "needs_background": "light"
     },
     "output_type": "display_data"
    }
   ],
   "source": [
    "sns.pairplot(first_day)"
   ]
  },
  {
   "cell_type": "code",
   "execution_count": 25,
   "metadata": {},
   "outputs": [
    {
     "data": {
      "text/plain": [
       "<AxesSubplot:>"
      ]
     },
     "execution_count": 25,
     "metadata": {},
     "output_type": "execute_result"
    },
    {
     "data": {
      "image/png": "[encoded data removed]",
      "text/plain": [
       "<Figure size 432x288 with 1 Axes>"
      ]
     },
     "metadata": {
      "needs_background": "light"
     },
     "output_type": "display_data"
    }
   ],
   "source": [
    "first_day.plot()"
   ]
  }
 ],
 "metadata": {
  "interpreter": {
   "hash": "fc0b823c51e9bc3bfb6e10b46f948bbc1d9b95c06185d6cafcf0c9a7aa8c3947"
  },
  "kernelspec": {
   "display_name": "Python 3.9.7 ('base')",
   "language": "python",
   "name": "python3"
  },
  "language_info": {
   "codemirror_mode": {
    "name": "ipython",
    "version": 3
   },
   "file_extension": ".py",
   "mimetype": "text/x-python",
   "name": "python",
   "nbconvert_exporter": "python",
   "pygments_lexer": "ipython3",
   "version": "3.9.7"
  },
  "orig_nbformat": 4
 },
 "nbformat": 4,
 "nbformat_minor": 2
}
