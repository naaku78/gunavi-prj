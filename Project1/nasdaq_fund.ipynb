{
 "cells": [
  {
   "cell_type": "code",
   "execution_count": 353,
   "metadata": {},
   "outputs": [
    {
     "data": {
      "text/html": [
       "        <script type=\"text/javascript\">\n",
       "        window.PlotlyConfig = {MathJaxConfig: 'local'};\n",
       "        if (window.MathJax) {MathJax.Hub.Config({SVG: {font: \"STIX-Web\"}});}\n",
       "        if (typeof require !== 'undefined') {\n",
       "        require.undef(\"plotly\");\n",
       "        requirejs.config({\n",
       "            paths: {\n",
       "                'plotly': ['https://cdn.plot.ly/plotly-2.11.1.min']\n",
       "            }\n",
       "        });\n",
       "        require(['plotly'], function(Plotly) {\n",
       "            window._Plotly = Plotly;\n",
       "        });\n",
       "        }\n",
       "        </script>\n",
       "        "
      ]
     },
     "metadata": {},
     "output_type": "display_data"
    }
   ],
   "source": [
    "# Initial \n",
    "import os\n",
    "import requests\n",
    "import numpy as np\n",
    "import pandas as pd\n",
    "import seaborn as sns\n",
    "import matplotlib.pyplot as plt\n",
    "from dotenv import load_dotenv\n",
    "import datetime as dt\n",
    "import chart_studio.plotly as py\n",
    "from plotly.offline import download_plotlyjs,init_notebook_mode,plot,iplot\n",
    "import cufflinks as cf\n",
    "import alpaca_trade_api as tradeapi\n",
    "import hvplot.pandas\n",
    "%matplotlib inline\n",
    "cf.go_offline()"
   ]
  },
  {
   "cell_type": "code",
   "execution_count": 354,
   "metadata": {},
   "outputs": [
    {
     "data": {
      "text/plain": [
       "True"
      ]
     },
     "execution_count": 354,
     "metadata": {},
     "output_type": "execute_result"
    }
   ],
   "source": [
    "load_dotenv()"
   ]
  },
  {
   "cell_type": "code",
   "execution_count": 355,
   "metadata": {},
   "outputs": [],
   "source": [
    "alpaca_api_key = os.getenv(\"ALPACA_API_KEY\")\n",
    "alpaca_secret_key = os.getenv(\"ALPACA_SECRET_KEY\")"
   ]
  },
  {
   "cell_type": "code",
   "execution_count": 356,
   "metadata": {},
   "outputs": [],
   "source": [
    "# Create the Alpaca API Object\n",
    "alpaca = tradeapi.REST(\n",
    "alpaca_api_key,\n",
    "alpaca_secret_key,\n",
    "api_version=\"v2\"\n",
    "\n",
    ")"
   ]
  },
  {
   "cell_type": "code",
   "execution_count": 357,
   "metadata": {},
   "outputs": [],
   "source": [
    "# format current date as ISO format\n",
    "start = pd.Timestamp(\"2021-01-01\", tz=\"America/New_York\").isoformat()\n",
    "end = pd.Timestamp(\"2021-12-31\", tz=\"America/New_York\").isoformat()\n"
   ]
  },
  {
   "cell_type": "code",
   "execution_count": 358,
   "metadata": {},
   "outputs": [
    {
     "data": {
      "text/plain": [
       "['AAPL', 'AMZN', 'AMD', 'ABNB', 'ALGN', 'AEP', 'ADI', 'ANSS', 'AMAT', 'ASML']"
      ]
     },
     "execution_count": 358,
     "metadata": {},
     "output_type": "execute_result"
    }
   ],
   "source": [
    "#create top 10 nasdaq stock tickers\n",
    "Stock_top10_tickers = ['AAPL', 'AMZN','AMD','ABNB','ALGN','AEP','ADI','ANSS','AMAT','ASML']\n",
    "Stock_top10_tickers\n"
   ]
  },
  {
   "cell_type": "code",
   "execution_count": 359,
   "metadata": {},
   "outputs": [],
   "source": [
    "# Set timeframe to one day (\"1Day\") for the Alpaca API\n",
    "timeframe = \"1Day\"\n"
   ]
  },
  {
   "cell_type": "code",
   "execution_count": 360,
   "metadata": {},
   "outputs": [
    {
     "data": {
      "text/html": [
       "<div>\n",
       "<style scoped>\n",
       "    .dataframe tbody tr th:only-of-type {\n",
       "        vertical-align: middle;\n",
       "    }\n",
       "\n",
       "    .dataframe tbody tr th {\n",
       "        vertical-align: top;\n",
       "    }\n",
       "\n",
       "    .dataframe thead th {\n",
       "        text-align: right;\n",
       "    }\n",
       "</style>\n",
       "<table border=\"1\" class=\"dataframe\">\n",
       "  <thead>\n",
       "    <tr style=\"text-align: right;\">\n",
       "      <th></th>\n",
       "      <th>open</th>\n",
       "      <th>high</th>\n",
       "      <th>low</th>\n",
       "      <th>close</th>\n",
       "      <th>volume</th>\n",
       "      <th>trade_count</th>\n",
       "      <th>vwap</th>\n",
       "      <th>symbol</th>\n",
       "    </tr>\n",
       "    <tr>\n",
       "      <th>timestamp</th>\n",
       "      <th></th>\n",
       "      <th></th>\n",
       "      <th></th>\n",
       "      <th></th>\n",
       "      <th></th>\n",
       "      <th></th>\n",
       "      <th></th>\n",
       "      <th></th>\n",
       "    </tr>\n",
       "  </thead>\n",
       "  <tbody>\n",
       "    <tr>\n",
       "      <th>2021-01-04 05:00:00+00:00</th>\n",
       "      <td>133.56</td>\n",
       "      <td>133.6116</td>\n",
       "      <td>126.760</td>\n",
       "      <td>129.41</td>\n",
       "      <td>143302687</td>\n",
       "      <td>1310228</td>\n",
       "      <td>129.732580</td>\n",
       "      <td>AAPL</td>\n",
       "    </tr>\n",
       "    <tr>\n",
       "      <th>2021-01-05 05:00:00+00:00</th>\n",
       "      <td>128.98</td>\n",
       "      <td>131.7400</td>\n",
       "      <td>128.430</td>\n",
       "      <td>131.01</td>\n",
       "      <td>97667342</td>\n",
       "      <td>707584</td>\n",
       "      <td>130.717944</td>\n",
       "      <td>AAPL</td>\n",
       "    </tr>\n",
       "    <tr>\n",
       "      <th>2021-01-06 05:00:00+00:00</th>\n",
       "      <td>127.53</td>\n",
       "      <td>131.0499</td>\n",
       "      <td>126.382</td>\n",
       "      <td>126.60</td>\n",
       "      <td>155104120</td>\n",
       "      <td>1202580</td>\n",
       "      <td>128.350036</td>\n",
       "      <td>AAPL</td>\n",
       "    </tr>\n",
       "    <tr>\n",
       "      <th>2021-01-07 05:00:00+00:00</th>\n",
       "      <td>128.38</td>\n",
       "      <td>131.6300</td>\n",
       "      <td>127.860</td>\n",
       "      <td>130.92</td>\n",
       "      <td>109581117</td>\n",
       "      <td>718363</td>\n",
       "      <td>130.153889</td>\n",
       "      <td>AAPL</td>\n",
       "    </tr>\n",
       "    <tr>\n",
       "      <th>2021-01-08 05:00:00+00:00</th>\n",
       "      <td>132.50</td>\n",
       "      <td>132.6300</td>\n",
       "      <td>130.230</td>\n",
       "      <td>132.05</td>\n",
       "      <td>105158675</td>\n",
       "      <td>800071</td>\n",
       "      <td>131.565744</td>\n",
       "      <td>AAPL</td>\n",
       "    </tr>\n",
       "  </tbody>\n",
       "</table>\n",
       "</div>"
      ],
      "text/plain": [
       "                             open      high      low   close     volume  \\\n",
       "timestamp                                                                 \n",
       "2021-01-04 05:00:00+00:00  133.56  133.6116  126.760  129.41  143302687   \n",
       "2021-01-05 05:00:00+00:00  128.98  131.7400  128.430  131.01   97667342   \n",
       "2021-01-06 05:00:00+00:00  127.53  131.0499  126.382  126.60  155104120   \n",
       "2021-01-07 05:00:00+00:00  128.38  131.6300  127.860  130.92  109581117   \n",
       "2021-01-08 05:00:00+00:00  132.50  132.6300  130.230  132.05  105158675   \n",
       "\n",
       "                           trade_count        vwap symbol  \n",
       "timestamp                                                  \n",
       "2021-01-04 05:00:00+00:00      1310228  129.732580   AAPL  \n",
       "2021-01-05 05:00:00+00:00       707584  130.717944   AAPL  \n",
       "2021-01-06 05:00:00+00:00      1202580  128.350036   AAPL  \n",
       "2021-01-07 05:00:00+00:00       718363  130.153889   AAPL  \n",
       "2021-01-08 05:00:00+00:00       800071  131.565744   AAPL  "
      ]
     },
     "execution_count": 360,
     "metadata": {},
     "output_type": "execute_result"
    }
   ],
   "source": [
    "# Get current closing prices for tickers\n",
    "df_portfolio = alpaca.get_bars(\n",
    "    Stock_top10_tickers,\n",
    "    timeframe,\n",
    "    start = start,\n",
    "    end = end\n",
    ").df\n",
    "\n",
    "# Display sample data\n",
    "df_portfolio.head()"
   ]
  },
  {
   "cell_type": "code",
   "execution_count": 361,
   "metadata": {},
   "outputs": [
    {
     "data": {
      "text/html": [
       "<div>\n",
       "<style scoped>\n",
       "    .dataframe tbody tr th:only-of-type {\n",
       "        vertical-align: middle;\n",
       "    }\n",
       "\n",
       "    .dataframe tbody tr th {\n",
       "        vertical-align: top;\n",
       "    }\n",
       "\n",
       "    .dataframe thead tr th {\n",
       "        text-align: left;\n",
       "    }\n",
       "\n",
       "    .dataframe thead tr:last-of-type th {\n",
       "        text-align: right;\n",
       "    }\n",
       "</style>\n",
       "<table border=\"1\" class=\"dataframe\">\n",
       "  <thead>\n",
       "    <tr>\n",
       "      <th></th>\n",
       "      <th colspan=\"8\" halign=\"left\">symbol</th>\n",
       "    </tr>\n",
       "    <tr>\n",
       "      <th></th>\n",
       "      <th>open</th>\n",
       "      <th>high</th>\n",
       "      <th>low</th>\n",
       "      <th>close</th>\n",
       "      <th>volume</th>\n",
       "      <th>trade_count</th>\n",
       "      <th>vwap</th>\n",
       "      <th>symbol</th>\n",
       "    </tr>\n",
       "    <tr>\n",
       "      <th>timestamp</th>\n",
       "      <th></th>\n",
       "      <th></th>\n",
       "      <th></th>\n",
       "      <th></th>\n",
       "      <th></th>\n",
       "      <th></th>\n",
       "      <th></th>\n",
       "      <th></th>\n",
       "    </tr>\n",
       "  </thead>\n",
       "  <tbody>\n",
       "    <tr>\n",
       "      <th>2021-01-04 05:00:00+00:00</th>\n",
       "      <td>133.56</td>\n",
       "      <td>133.6116</td>\n",
       "      <td>126.760</td>\n",
       "      <td>129.41</td>\n",
       "      <td>143302687</td>\n",
       "      <td>1310228</td>\n",
       "      <td>129.732580</td>\n",
       "      <td>AAPL</td>\n",
       "    </tr>\n",
       "    <tr>\n",
       "      <th>2021-01-05 05:00:00+00:00</th>\n",
       "      <td>128.98</td>\n",
       "      <td>131.7400</td>\n",
       "      <td>128.430</td>\n",
       "      <td>131.01</td>\n",
       "      <td>97667342</td>\n",
       "      <td>707584</td>\n",
       "      <td>130.717944</td>\n",
       "      <td>AAPL</td>\n",
       "    </tr>\n",
       "    <tr>\n",
       "      <th>2021-01-06 05:00:00+00:00</th>\n",
       "      <td>127.53</td>\n",
       "      <td>131.0499</td>\n",
       "      <td>126.382</td>\n",
       "      <td>126.60</td>\n",
       "      <td>155104120</td>\n",
       "      <td>1202580</td>\n",
       "      <td>128.350036</td>\n",
       "      <td>AAPL</td>\n",
       "    </tr>\n",
       "    <tr>\n",
       "      <th>2021-01-07 05:00:00+00:00</th>\n",
       "      <td>128.38</td>\n",
       "      <td>131.6300</td>\n",
       "      <td>127.860</td>\n",
       "      <td>130.92</td>\n",
       "      <td>109581117</td>\n",
       "      <td>718363</td>\n",
       "      <td>130.153889</td>\n",
       "      <td>AAPL</td>\n",
       "    </tr>\n",
       "    <tr>\n",
       "      <th>2021-01-08 05:00:00+00:00</th>\n",
       "      <td>132.50</td>\n",
       "      <td>132.6300</td>\n",
       "      <td>130.230</td>\n",
       "      <td>132.05</td>\n",
       "      <td>105158675</td>\n",
       "      <td>800071</td>\n",
       "      <td>131.565744</td>\n",
       "      <td>AAPL</td>\n",
       "    </tr>\n",
       "  </tbody>\n",
       "</table>\n",
       "</div>"
      ],
      "text/plain": [
       "                           symbol                                        \\\n",
       "                             open      high      low   close     volume   \n",
       "timestamp                                                                 \n",
       "2021-01-04 05:00:00+00:00  133.56  133.6116  126.760  129.41  143302687   \n",
       "2021-01-05 05:00:00+00:00  128.98  131.7400  128.430  131.01   97667342   \n",
       "2021-01-06 05:00:00+00:00  127.53  131.0499  126.382  126.60  155104120   \n",
       "2021-01-07 05:00:00+00:00  128.38  131.6300  127.860  130.92  109581117   \n",
       "2021-01-08 05:00:00+00:00  132.50  132.6300  130.230  132.05  105158675   \n",
       "\n",
       "                                                          \n",
       "                          trade_count        vwap symbol  \n",
       "timestamp                                                 \n",
       "2021-01-04 05:00:00+00:00     1310228  129.732580   AAPL  \n",
       "2021-01-05 05:00:00+00:00      707584  130.717944   AAPL  \n",
       "2021-01-06 05:00:00+00:00     1202580  128.350036   AAPL  \n",
       "2021-01-07 05:00:00+00:00      718363  130.153889   AAPL  \n",
       "2021-01-08 05:00:00+00:00      800071  131.565744   AAPL  "
      ]
     },
     "execution_count": 361,
     "metadata": {},
     "output_type": "execute_result"
    }
   ],
   "source": [
    "stocks_total_perf = pd.concat([df_portfolio], axis=1, join='outer', keys=['symbol'])\n",
    "stocks_total_perf.head()"
   ]
  },
  {
   "cell_type": "code",
   "execution_count": 362,
   "metadata": {},
   "outputs": [
    {
     "data": {
      "text/html": [
       "<div>\n",
       "<style scoped>\n",
       "    .dataframe tbody tr th:only-of-type {\n",
       "        vertical-align: middle;\n",
       "    }\n",
       "\n",
       "    .dataframe tbody tr th {\n",
       "        vertical-align: top;\n",
       "    }\n",
       "\n",
       "    .dataframe thead th {\n",
       "        text-align: right;\n",
       "    }\n",
       "</style>\n",
       "<table border=\"1\" class=\"dataframe\">\n",
       "  <thead>\n",
       "    <tr style=\"text-align: right;\">\n",
       "      <th></th>\n",
       "      <th>close</th>\n",
       "      <th>symbol</th>\n",
       "    </tr>\n",
       "    <tr>\n",
       "      <th>timestamp</th>\n",
       "      <th></th>\n",
       "      <th></th>\n",
       "    </tr>\n",
       "  </thead>\n",
       "  <tbody>\n",
       "    <tr>\n",
       "      <th>2021-01-04 05:00:00+00:00</th>\n",
       "      <td>129.41</td>\n",
       "      <td>AAPL</td>\n",
       "    </tr>\n",
       "    <tr>\n",
       "      <th>2021-01-05 05:00:00+00:00</th>\n",
       "      <td>131.01</td>\n",
       "      <td>AAPL</td>\n",
       "    </tr>\n",
       "    <tr>\n",
       "      <th>2021-01-06 05:00:00+00:00</th>\n",
       "      <td>126.60</td>\n",
       "      <td>AAPL</td>\n",
       "    </tr>\n",
       "    <tr>\n",
       "      <th>2021-01-07 05:00:00+00:00</th>\n",
       "      <td>130.92</td>\n",
       "      <td>AAPL</td>\n",
       "    </tr>\n",
       "    <tr>\n",
       "      <th>2021-01-08 05:00:00+00:00</th>\n",
       "      <td>132.05</td>\n",
       "      <td>AAPL</td>\n",
       "    </tr>\n",
       "  </tbody>\n",
       "</table>\n",
       "</div>"
      ],
      "text/plain": [
       "                            close symbol\n",
       "timestamp                               \n",
       "2021-01-04 05:00:00+00:00  129.41   AAPL\n",
       "2021-01-05 05:00:00+00:00  131.01   AAPL\n",
       "2021-01-06 05:00:00+00:00  126.60   AAPL\n",
       "2021-01-07 05:00:00+00:00  130.92   AAPL\n",
       "2021-01-08 05:00:00+00:00  132.05   AAPL"
      ]
     },
     "execution_count": 362,
     "metadata": {},
     "output_type": "execute_result"
    }
   ],
   "source": [
    "\n",
    "# Drop the following columns 'open', 'high', 'low', 'volume', 'trade_count', 'vwap'\n",
    "columns=['open', 'high', 'low', 'volume', 'trade_count', 'vwap']\n",
    "stock_df = df_portfolio.drop(columns, axis = 1)\n",
    "stock_df.head()\n"
   ]
  },
  {
   "cell_type": "code",
   "execution_count": 363,
   "metadata": {},
   "outputs": [
    {
     "data": {
      "text/html": [
       "<div>\n",
       "<style scoped>\n",
       "    .dataframe tbody tr th:only-of-type {\n",
       "        vertical-align: middle;\n",
       "    }\n",
       "\n",
       "    .dataframe tbody tr th {\n",
       "        vertical-align: top;\n",
       "    }\n",
       "\n",
       "    .dataframe thead th {\n",
       "        text-align: right;\n",
       "    }\n",
       "</style>\n",
       "<table border=\"1\" class=\"dataframe\">\n",
       "  <thead>\n",
       "    <tr style=\"text-align: right;\">\n",
       "      <th></th>\n",
       "      <th>timestamp</th>\n",
       "      <th>close</th>\n",
       "      <th>symbol</th>\n",
       "    </tr>\n",
       "  </thead>\n",
       "  <tbody>\n",
       "    <tr>\n",
       "      <th>0</th>\n",
       "      <td>2021-01-04 05:00:00+00:00</td>\n",
       "      <td>129.41</td>\n",
       "      <td>AAPL</td>\n",
       "    </tr>\n",
       "    <tr>\n",
       "      <th>1</th>\n",
       "      <td>2021-01-04 05:00:00+00:00</td>\n",
       "      <td>139.15</td>\n",
       "      <td>ABNB</td>\n",
       "    </tr>\n",
       "    <tr>\n",
       "      <th>2</th>\n",
       "      <td>2021-01-04 05:00:00+00:00</td>\n",
       "      <td>146.02</td>\n",
       "      <td>ADI</td>\n",
       "    </tr>\n",
       "    <tr>\n",
       "      <th>3</th>\n",
       "      <td>2021-01-04 05:00:00+00:00</td>\n",
       "      <td>81.54</td>\n",
       "      <td>AEP</td>\n",
       "    </tr>\n",
       "    <tr>\n",
       "      <th>4</th>\n",
       "      <td>2021-01-04 05:00:00+00:00</td>\n",
       "      <td>526.46</td>\n",
       "      <td>ALGN</td>\n",
       "    </tr>\n",
       "    <tr>\n",
       "      <th>5</th>\n",
       "      <td>2021-01-04 05:00:00+00:00</td>\n",
       "      <td>86.87</td>\n",
       "      <td>AMAT</td>\n",
       "    </tr>\n",
       "    <tr>\n",
       "      <th>6</th>\n",
       "      <td>2021-01-04 05:00:00+00:00</td>\n",
       "      <td>92.30</td>\n",
       "      <td>AMD</td>\n",
       "    </tr>\n",
       "    <tr>\n",
       "      <th>7</th>\n",
       "      <td>2021-01-04 05:00:00+00:00</td>\n",
       "      <td>3186.63</td>\n",
       "      <td>AMZN</td>\n",
       "    </tr>\n",
       "    <tr>\n",
       "      <th>8</th>\n",
       "      <td>2021-01-04 05:00:00+00:00</td>\n",
       "      <td>357.67</td>\n",
       "      <td>ANSS</td>\n",
       "    </tr>\n",
       "    <tr>\n",
       "      <th>9</th>\n",
       "      <td>2021-01-04 05:00:00+00:00</td>\n",
       "      <td>500.00</td>\n",
       "      <td>ASML</td>\n",
       "    </tr>\n",
       "  </tbody>\n",
       "</table>\n",
       "</div>"
      ],
      "text/plain": [
       "                  timestamp    close symbol\n",
       "0 2021-01-04 05:00:00+00:00   129.41   AAPL\n",
       "1 2021-01-04 05:00:00+00:00   139.15   ABNB\n",
       "2 2021-01-04 05:00:00+00:00   146.02    ADI\n",
       "3 2021-01-04 05:00:00+00:00    81.54    AEP\n",
       "4 2021-01-04 05:00:00+00:00   526.46   ALGN\n",
       "5 2021-01-04 05:00:00+00:00    86.87   AMAT\n",
       "6 2021-01-04 05:00:00+00:00    92.30    AMD\n",
       "7 2021-01-04 05:00:00+00:00  3186.63   AMZN\n",
       "8 2021-01-04 05:00:00+00:00   357.67   ANSS\n",
       "9 2021-01-04 05:00:00+00:00   500.00   ASML"
      ]
     },
     "execution_count": 363,
     "metadata": {},
     "output_type": "execute_result"
    }
   ],
   "source": [
    "#Find top ten performers in the portfolio at the beginning of the quarter\n",
    "top10_performers_start_df = stock_df.loc['2021-01-04']\n",
    "top10_performers_start_df.reset_index(inplace=True)\n",
    "#top10_performersQ1_1_df = top10_performersQ1_1_df.sort_values('close', ascending=False)\n",
    "#top10_performersQ1_1_df = top10_performersQ1_1_df.head(10)\n",
    "top10_performers_start_df"
   ]
  },
  {
   "cell_type": "code",
   "execution_count": 364,
   "metadata": {},
   "outputs": [
    {
     "data": {},
     "metadata": {},
     "output_type": "display_data"
    },
    {
     "data": {
      "application/vnd.holoviews_exec.v0+json": "",
      "text/html": [
       "<div id='4327'>\n",
       "\n",
       "\n",
       "\n",
       "\n",
       "\n",
       "  <div class=\"bk-root\" id=\"1ded7f9d-09fe-4d1e-abd9-4fee4363a8ed\" data-root-id=\"4327\"></div>\n",
       "</div>\n",
       "<script type=\"application/javascript\">(function(root) {\n",
       "  function embed_document(root) {\n",
       "    var docs_json = {\"89542dee-3231-492e-9c71-629eed364e42\":{\"defs\":[{\"extends\":null,\"module\":null,\"name\":\"ReactiveHTML1\",\"overrides\":[],\"properties\":[]},{\"extends\":null,\"module\":null,\"name\":\"FlexBox1\",\"overrides\":[],\"properties\":[{\"default\":\"flex-start\",\"kind\":null,\"name\":\"align_content\"},{\"default\":\"flex-start\",\"kind\":null,\"name\":\"align_items\"},{\"default\":\"row\",\"kind\":null,\"name\":\"flex_direction\"},{\"default\":\"wrap\",\"kind\":null,\"name\":\"flex_wrap\"},{\"default\":\"flex-start\",\"kind\":null,\"name\":\"justify_content\"}]},{\"extends\":null,\"module\":null,\"name\":\"TemplateActions1\",\"overrides\":[],\"properties\":[{\"default\":0,\"kind\":null,\"name\":\"open_modal\"},{\"default\":0,\"kind\":null,\"name\":\"close_modal\"}]},{\"extends\":null,\"module\":null,\"name\":\"MaterialTemplateActions1\",\"overrides\":[],\"properties\":[{\"default\":0,\"kind\":null,\"name\":\"open_modal\"},{\"default\":0,\"kind\":null,\"name\":\"close_modal\"}]}],\"roots\":{\"references\":[{\"attributes\":{},\"id\":\"4375\",\"type\":\"BasicTickFormatter\"},{\"attributes\":{},\"id\":\"4337\",\"type\":\"CategoricalScale\"},{\"attributes\":{\"tools\":[{\"id\":\"4331\"},{\"id\":\"4348\"},{\"id\":\"4349\"},{\"id\":\"4350\"},{\"id\":\"4351\"},{\"id\":\"4352\"}]},\"id\":\"4354\",\"type\":\"Toolbar\"},{\"attributes\":{\"factors\":[\"AAPL\",\"ABNB\",\"ADI\",\"AEP\",\"ALGN\",\"AMAT\",\"AMD\",\"AMZN\",\"ANSS\",\"ASML\"],\"palette\":[\"#30a2da\",\"#fc4f30\",\"#e5ae38\",\"#6d904f\",\"#8b8b8b\",\"#17becf\",\"#9467bd\",\"#d62728\",\"#1f77b4\",\"#e377c2\"]},\"id\":\"4361\",\"type\":\"CategoricalColorMapper\"},{\"attributes\":{\"below\":[{\"id\":\"4341\"}],\"center\":[{\"id\":\"4343\"},{\"id\":\"4347\"}],\"height\":300,\"left\":[{\"id\":\"4344\"}],\"margin\":[5,5,5,5],\"min_border_bottom\":10,\"min_border_left\":10,\"min_border_right\":10,\"min_border_top\":10,\"renderers\":[{\"id\":\"4368\"}],\"sizing_mode\":\"fixed\",\"title\":{\"id\":\"4333\"},\"toolbar\":{\"id\":\"4354\"},\"width\":700,\"x_range\":{\"id\":\"4329\"},\"x_scale\":{\"id\":\"4337\"},\"y_range\":{\"id\":\"4330\"},\"y_scale\":{\"id\":\"4339\"}},\"id\":\"4332\",\"subtype\":\"Figure\",\"type\":\"Plot\"},{\"attributes\":{\"fill_alpha\":{\"value\":0.1},\"fill_color\":{\"field\":\"symbol\",\"transform\":{\"id\":\"4361\"}},\"hatch_alpha\":{\"value\":0.1},\"hatch_color\":{\"field\":\"symbol\",\"transform\":{\"id\":\"4361\"}},\"line_alpha\":{\"value\":0.1},\"top\":{\"field\":\"value\"},\"width\":{\"value\":0.8},\"x\":{\"field\":\"xoffsets\"}},\"id\":\"4366\",\"type\":\"VBar\"},{\"attributes\":{},\"id\":\"4339\",\"type\":\"LinearScale\"},{\"attributes\":{\"bottom_units\":\"screen\",\"coordinates\":null,\"fill_alpha\":0.5,\"fill_color\":\"lightgrey\",\"group\":null,\"left_units\":\"screen\",\"level\":\"overlay\",\"line_alpha\":1.0,\"line_color\":\"black\",\"line_dash\":[4,4],\"line_width\":2,\"right_units\":\"screen\",\"syncable\":false,\"top_units\":\"screen\"},\"id\":\"4353\",\"type\":\"BoxAnnotation\"},{\"attributes\":{\"children\":[{\"id\":\"4328\"},{\"id\":\"4332\"},{\"id\":\"4397\"}],\"margin\":[0,0,0,0],\"name\":\"Row10092\",\"tags\":[\"embedded\"]},\"id\":\"4327\",\"type\":\"Row\"},{\"attributes\":{},\"id\":\"4373\",\"type\":\"AllLabels\"},{\"attributes\":{},\"id\":\"4345\",\"type\":\"BasicTicker\"},{\"attributes\":{},\"id\":\"4342\",\"type\":\"CategoricalTicker\"},{\"attributes\":{\"axis_label\":\"Closing Value\",\"coordinates\":null,\"formatter\":{\"id\":\"4375\"},\"group\":null,\"major_label_policy\":{\"id\":\"4376\"},\"ticker\":{\"id\":\"4345\"}},\"id\":\"4344\",\"type\":\"LinearAxis\"},{\"attributes\":{\"axis\":{\"id\":\"4344\"},\"coordinates\":null,\"dimension\":1,\"grid_line_color\":null,\"group\":null,\"ticker\":null},\"id\":\"4347\",\"type\":\"Grid\"},{\"attributes\":{\"fill_alpha\":{\"value\":0.2},\"fill_color\":{\"field\":\"symbol\",\"transform\":{\"id\":\"4361\"}},\"hatch_alpha\":{\"value\":0.2},\"hatch_color\":{\"field\":\"symbol\",\"transform\":{\"id\":\"4361\"}},\"line_alpha\":{\"value\":0.2},\"top\":{\"field\":\"value\"},\"width\":{\"value\":0.8},\"x\":{\"field\":\"xoffsets\"}},\"id\":\"4367\",\"type\":\"VBar\"},{\"attributes\":{\"bottom\":{\"value\":0},\"fill_alpha\":{\"value\":1.0},\"fill_color\":{\"field\":\"symbol\",\"transform\":{\"id\":\"4361\"}},\"hatch_alpha\":{\"value\":1.0},\"hatch_color\":{\"field\":\"symbol\",\"transform\":{\"id\":\"4361\"}},\"hatch_scale\":{\"value\":12.0},\"hatch_weight\":{\"value\":1.0},\"line_alpha\":{\"value\":1.0},\"line_cap\":{\"value\":\"butt\"},\"line_color\":{\"value\":\"black\"},\"line_dash\":{\"value\":[]},\"line_dash_offset\":{\"value\":0},\"line_join\":{\"value\":\"bevel\"},\"line_width\":{\"value\":1},\"top\":{\"field\":\"value\"},\"width\":{\"value\":0.8},\"x\":{\"field\":\"xoffsets\"}},\"id\":\"4370\",\"type\":\"VBar\"},{\"attributes\":{\"end\":3497.139,\"reset_end\":3497.139,\"reset_start\":0.0,\"tags\":[[[\"value\",\"value\",null]]]},\"id\":\"4330\",\"type\":\"Range1d\"},{\"attributes\":{},\"id\":\"4384\",\"type\":\"UnionRenderers\"},{\"attributes\":{\"source\":{\"id\":\"4362\"}},\"id\":\"4369\",\"type\":\"CDSView\"},{\"attributes\":{\"margin\":[5,5,5,5],\"name\":\"HSpacer10097\",\"sizing_mode\":\"stretch_width\"},\"id\":\"4397\",\"type\":\"Spacer\"},{\"attributes\":{\"callback\":null,\"renderers\":[{\"id\":\"4368\"}],\"tags\":[\"hv_created\"],\"tooltips\":[[\"timestamp\",\"@{timestamp}\"],[\"symbol\",\"@{symbol}\"],[\"value\",\"@{value}\"]]},\"id\":\"4331\",\"type\":\"HoverTool\"},{\"attributes\":{\"coordinates\":null,\"group\":null,\"text_color\":\"black\",\"text_font_size\":\"12pt\"},\"id\":\"4333\",\"type\":\"Title\"},{\"attributes\":{},\"id\":\"4348\",\"type\":\"SaveTool\"},{\"attributes\":{\"margin\":[5,5,5,5],\"name\":\"HSpacer10096\",\"sizing_mode\":\"stretch_width\"},\"id\":\"4328\",\"type\":\"Spacer\"},{\"attributes\":{},\"id\":\"4349\",\"type\":\"PanTool\"},{\"attributes\":{},\"id\":\"4372\",\"type\":\"CategoricalTickFormatter\"},{\"attributes\":{\"factors\":[[\"2021-01-04 05:00:00\",\"AAPL\"],[\"2021-01-04 05:00:00\",\"ABNB\"],[\"2021-01-04 05:00:00\",\"ADI\"],[\"2021-01-04 05:00:00\",\"AEP\"],[\"2021-01-04 05:00:00\",\"ALGN\"],[\"2021-01-04 05:00:00\",\"AMAT\"],[\"2021-01-04 05:00:00\",\"AMD\"],[\"2021-01-04 05:00:00\",\"AMZN\"],[\"2021-01-04 05:00:00\",\"ANSS\"],[\"2021-01-04 05:00:00\",\"ASML\"]],\"tags\":[[[\"timestamp\",\"timestamp\",null],[\"symbol\",\"symbol\",null]]]},\"id\":\"4329\",\"type\":\"FactorRange\"},{\"attributes\":{\"data\":{\"symbol\":[\"AAPL\",\"ABNB\",\"ADI\",\"AEP\",\"ALGN\",\"AMAT\",\"AMD\",\"AMZN\",\"ANSS\",\"ASML\"],\"timestamp\":[\"2021-01-04 05:00:00\",\"2021-01-04 05:00:00\",\"2021-01-04 05:00:00\",\"2021-01-04 05:00:00\",\"2021-01-04 05:00:00\",\"2021-01-04 05:00:00\",\"2021-01-04 05:00:00\",\"2021-01-04 05:00:00\",\"2021-01-04 05:00:00\",\"2021-01-04 05:00:00\"],\"value\":{\"__ndarray__\":\"hetRuB4tYEDNzMzMzGRhQHE9CtejQGJAw/UoXI9iVEBI4XoUrnOAQEjhehSut1VAMzMzMzMTV0D2KFyPQuWoQB+F61G4WnZAAAAAAABAf0A=\",\"dtype\":\"float64\",\"order\":\"little\",\"shape\":[10]},\"xoffsets\":[[\"2021-01-04 05:00:00\",\"AAPL\"],[\"2021-01-04 05:00:00\",\"ABNB\"],[\"2021-01-04 05:00:00\",\"ADI\"],[\"2021-01-04 05:00:00\",\"AEP\"],[\"2021-01-04 05:00:00\",\"ALGN\"],[\"2021-01-04 05:00:00\",\"AMAT\"],[\"2021-01-04 05:00:00\",\"AMD\"],[\"2021-01-04 05:00:00\",\"AMZN\"],[\"2021-01-04 05:00:00\",\"ANSS\"],[\"2021-01-04 05:00:00\",\"ASML\"]]},\"selected\":{\"id\":\"4363\"},\"selection_policy\":{\"id\":\"4384\"}},\"id\":\"4362\",\"type\":\"ColumnDataSource\"},{\"attributes\":{},\"id\":\"4352\",\"type\":\"ResetTool\"},{\"attributes\":{\"axis\":{\"id\":\"4341\"},\"coordinates\":null,\"grid_line_color\":null,\"group\":null,\"ticker\":null},\"id\":\"4343\",\"type\":\"Grid\"},{\"attributes\":{},\"id\":\"4350\",\"type\":\"WheelZoomTool\"},{\"attributes\":{\"coordinates\":null,\"data_source\":{\"id\":\"4362\"},\"glyph\":{\"id\":\"4365\"},\"group\":null,\"hover_glyph\":null,\"muted_glyph\":{\"id\":\"4367\"},\"nonselection_glyph\":{\"id\":\"4366\"},\"selection_glyph\":{\"id\":\"4370\"},\"view\":{\"id\":\"4369\"}},\"id\":\"4368\",\"type\":\"GlyphRenderer\"},{\"attributes\":{\"overlay\":{\"id\":\"4353\"}},\"id\":\"4351\",\"type\":\"BoxZoomTool\"},{\"attributes\":{},\"id\":\"4363\",\"type\":\"Selection\"},{\"attributes\":{},\"id\":\"4376\",\"type\":\"AllLabels\"},{\"attributes\":{\"fill_color\":{\"field\":\"symbol\",\"transform\":{\"id\":\"4361\"}},\"hatch_color\":{\"field\":\"symbol\",\"transform\":{\"id\":\"4361\"}},\"top\":{\"field\":\"value\"},\"width\":{\"value\":0.8},\"x\":{\"field\":\"xoffsets\"}},\"id\":\"4365\",\"type\":\"VBar\"},{\"attributes\":{\"axis_label\":\"Symbols\",\"coordinates\":null,\"formatter\":{\"id\":\"4372\"},\"group\":null,\"major_label_policy\":{\"id\":\"4373\"},\"ticker\":{\"id\":\"4342\"}},\"id\":\"4341\",\"type\":\"CategoricalAxis\"}],\"root_ids\":[\"4327\"]},\"title\":\"Bokeh Application\",\"version\":\"2.4.2\"}};\n",
       "    var render_items = [{\"docid\":\"89542dee-3231-492e-9c71-629eed364e42\",\"root_ids\":[\"4327\"],\"roots\":{\"4327\":\"1ded7f9d-09fe-4d1e-abd9-4fee4363a8ed\"}}];\n",
       "    root.Bokeh.embed.embed_items_notebook(docs_json, render_items);\n",
       "  }\n",
       "  if (root.Bokeh !== undefined && root.Bokeh.Panel !== undefined) {\n",
       "    embed_document(root);\n",
       "  } else {\n",
       "    var attempts = 0;\n",
       "    var timer = setInterval(function(root) {\n",
       "      if (root.Bokeh !== undefined && root.Bokeh.Panel !== undefined) {\n",
       "        clearInterval(timer);\n",
       "        embed_document(root);\n",
       "      } else if (document.readyState == \"complete\") {\n",
       "        attempts++;\n",
       "        if (attempts > 200) {\n",
       "          clearInterval(timer);\n",
       "          console.log(\"Bokeh: ERROR: Unable to run BokehJS code because BokehJS library is missing\");\n",
       "        }\n",
       "      }\n",
       "    }, 25, root)\n",
       "  }\n",
       "})(window);</script>"
      ],
      "text/plain": [
       ":Bars   [timestamp,symbol]   (value)"
      ]
     },
     "execution_count": 364,
     "metadata": {
      "application/vnd.holoviews_exec.v0+json": {
       "id": "4327"
      }
     },
     "output_type": "execute_result"
    }
   ],
   "source": [
    "#plot\n",
    "top10_pivot_start= top10_performers_start_df.pivot_table(values=\"close\", index=\"timestamp\", columns=\"symbol\")\n",
    "plot_start = top10_pivot_start.hvplot.bar(\n",
    "    xlabel='Symbols',\n",
    "    ylabel='Closing Value'\n",
    ")\n",
    "plot_start"
   ]
  },
  {
   "cell_type": "code",
   "execution_count": 365,
   "metadata": {},
   "outputs": [
    {
     "data": {
      "text/html": [
       "<div>\n",
       "<style scoped>\n",
       "    .dataframe tbody tr th:only-of-type {\n",
       "        vertical-align: middle;\n",
       "    }\n",
       "\n",
       "    .dataframe tbody tr th {\n",
       "        vertical-align: top;\n",
       "    }\n",
       "\n",
       "    .dataframe thead th {\n",
       "        text-align: right;\n",
       "    }\n",
       "</style>\n",
       "<table border=\"1\" class=\"dataframe\">\n",
       "  <thead>\n",
       "    <tr style=\"text-align: right;\">\n",
       "      <th></th>\n",
       "      <th>timestamp</th>\n",
       "      <th>close</th>\n",
       "      <th>symbol</th>\n",
       "    </tr>\n",
       "  </thead>\n",
       "  <tbody>\n",
       "    <tr>\n",
       "      <th>0</th>\n",
       "      <td>2021-12-31 05:00:00+00:00</td>\n",
       "      <td>177.57</td>\n",
       "      <td>AAPL</td>\n",
       "    </tr>\n",
       "    <tr>\n",
       "      <th>1</th>\n",
       "      <td>2021-12-31 05:00:00+00:00</td>\n",
       "      <td>166.49</td>\n",
       "      <td>ABNB</td>\n",
       "    </tr>\n",
       "    <tr>\n",
       "      <th>2</th>\n",
       "      <td>2021-12-31 05:00:00+00:00</td>\n",
       "      <td>175.77</td>\n",
       "      <td>ADI</td>\n",
       "    </tr>\n",
       "    <tr>\n",
       "      <th>3</th>\n",
       "      <td>2021-12-31 05:00:00+00:00</td>\n",
       "      <td>88.97</td>\n",
       "      <td>AEP</td>\n",
       "    </tr>\n",
       "    <tr>\n",
       "      <th>4</th>\n",
       "      <td>2021-12-31 05:00:00+00:00</td>\n",
       "      <td>657.18</td>\n",
       "      <td>ALGN</td>\n",
       "    </tr>\n",
       "    <tr>\n",
       "      <th>5</th>\n",
       "      <td>2021-12-31 05:00:00+00:00</td>\n",
       "      <td>157.36</td>\n",
       "      <td>AMAT</td>\n",
       "    </tr>\n",
       "    <tr>\n",
       "      <th>6</th>\n",
       "      <td>2021-12-31 05:00:00+00:00</td>\n",
       "      <td>143.90</td>\n",
       "      <td>AMD</td>\n",
       "    </tr>\n",
       "    <tr>\n",
       "      <th>7</th>\n",
       "      <td>2021-12-31 05:00:00+00:00</td>\n",
       "      <td>3334.34</td>\n",
       "      <td>AMZN</td>\n",
       "    </tr>\n",
       "    <tr>\n",
       "      <th>8</th>\n",
       "      <td>2021-12-31 05:00:00+00:00</td>\n",
       "      <td>401.12</td>\n",
       "      <td>ANSS</td>\n",
       "    </tr>\n",
       "    <tr>\n",
       "      <th>9</th>\n",
       "      <td>2021-12-31 05:00:00+00:00</td>\n",
       "      <td>796.14</td>\n",
       "      <td>ASML</td>\n",
       "    </tr>\n",
       "  </tbody>\n",
       "</table>\n",
       "</div>"
      ],
      "text/plain": [
       "                  timestamp    close symbol\n",
       "0 2021-12-31 05:00:00+00:00   177.57   AAPL\n",
       "1 2021-12-31 05:00:00+00:00   166.49   ABNB\n",
       "2 2021-12-31 05:00:00+00:00   175.77    ADI\n",
       "3 2021-12-31 05:00:00+00:00    88.97    AEP\n",
       "4 2021-12-31 05:00:00+00:00   657.18   ALGN\n",
       "5 2021-12-31 05:00:00+00:00   157.36   AMAT\n",
       "6 2021-12-31 05:00:00+00:00   143.90    AMD\n",
       "7 2021-12-31 05:00:00+00:00  3334.34   AMZN\n",
       "8 2021-12-31 05:00:00+00:00   401.12   ANSS\n",
       "9 2021-12-31 05:00:00+00:00   796.14   ASML"
      ]
     },
     "execution_count": 365,
     "metadata": {},
     "output_type": "execute_result"
    }
   ],
   "source": [
    "#find how top 10 performers in portfolio did at the end of the first quarter\n",
    "top10_performers_end_df = stock_df.loc['2021-12-31']\n",
    "top10_performers_end_df.reset_index(inplace=True)\n",
    "top10_performers_end_df"
   ]
  },
  {
   "cell_type": "code",
   "execution_count": 366,
   "metadata": {},
   "outputs": [
    {
     "data": {},
     "metadata": {},
     "output_type": "display_data"
    },
    {
     "data": {
      "application/vnd.holoviews_exec.v0+json": "",
      "text/html": [
       "<div id='4449'>\n",
       "\n",
       "\n",
       "\n",
       "\n",
       "\n",
       "  <div class=\"bk-root\" id=\"1994648e-c8ab-4e62-9468-e48c47ffba63\" data-root-id=\"4449\"></div>\n",
       "</div>\n",
       "<script type=\"application/javascript\">(function(root) {\n",
       "  function embed_document(root) {\n",
       "    var docs_json = {\"526ac764-7cfd-4eb9-8453-3973e366a82b\":{\"defs\":[{\"extends\":null,\"module\":null,\"name\":\"ReactiveHTML1\",\"overrides\":[],\"properties\":[]},{\"extends\":null,\"module\":null,\"name\":\"FlexBox1\",\"overrides\":[],\"properties\":[{\"default\":\"flex-start\",\"kind\":null,\"name\":\"align_content\"},{\"default\":\"flex-start\",\"kind\":null,\"name\":\"align_items\"},{\"default\":\"row\",\"kind\":null,\"name\":\"flex_direction\"},{\"default\":\"wrap\",\"kind\":null,\"name\":\"flex_wrap\"},{\"default\":\"flex-start\",\"kind\":null,\"name\":\"justify_content\"}]},{\"extends\":null,\"module\":null,\"name\":\"TemplateActions1\",\"overrides\":[],\"properties\":[{\"default\":0,\"kind\":null,\"name\":\"open_modal\"},{\"default\":0,\"kind\":null,\"name\":\"close_modal\"}]},{\"extends\":null,\"module\":null,\"name\":\"MaterialTemplateActions1\",\"overrides\":[],\"properties\":[{\"default\":0,\"kind\":null,\"name\":\"open_modal\"},{\"default\":0,\"kind\":null,\"name\":\"close_modal\"}]}],\"roots\":{\"references\":[{\"attributes\":{},\"id\":\"4497\",\"type\":\"BasicTickFormatter\"},{\"attributes\":{\"factors\":[\"AAPL\",\"ABNB\",\"ADI\",\"AEP\",\"ALGN\",\"AMAT\",\"AMD\",\"AMZN\",\"ANSS\",\"ASML\"],\"palette\":[\"#30a2da\",\"#fc4f30\",\"#e5ae38\",\"#6d904f\",\"#8b8b8b\",\"#17becf\",\"#9467bd\",\"#d62728\",\"#1f77b4\",\"#e377c2\"]},\"id\":\"4483\",\"type\":\"CategoricalColorMapper\"},{\"attributes\":{},\"id\":\"4474\",\"type\":\"ResetTool\"},{\"attributes\":{\"margin\":[5,5,5,5],\"name\":\"HSpacer10391\",\"sizing_mode\":\"stretch_width\"},\"id\":\"4450\",\"type\":\"Spacer\"},{\"attributes\":{},\"id\":\"4459\",\"type\":\"CategoricalScale\"},{\"attributes\":{\"data\":{\"symbol\":[\"AAPL\",\"ABNB\",\"ADI\",\"AEP\",\"ALGN\",\"AMAT\",\"AMD\",\"AMZN\",\"ANSS\",\"ASML\"],\"timestamp\":[\"2021-12-31 05:00:00\",\"2021-12-31 05:00:00\",\"2021-12-31 05:00:00\",\"2021-12-31 05:00:00\",\"2021-12-31 05:00:00\",\"2021-12-31 05:00:00\",\"2021-12-31 05:00:00\",\"2021-12-31 05:00:00\",\"2021-12-31 05:00:00\",\"2021-12-31 05:00:00\"],\"value\":{\"__ndarray__\":\"CtejcD0yZkBI4XoUrs9kQHE9Ctej+GVArkfhehQ+VkA9CtejcImEQOxRuB6Fq2NAzczMzMz8YUBI4XoUrgyqQFK4HoXrEXlAhetRuB7hiEA=\",\"dtype\":\"float64\",\"order\":\"little\",\"shape\":[10]},\"xoffsets\":[[\"2021-12-31 05:00:00\",\"AAPL\"],[\"2021-12-31 05:00:00\",\"ABNB\"],[\"2021-12-31 05:00:00\",\"ADI\"],[\"2021-12-31 05:00:00\",\"AEP\"],[\"2021-12-31 05:00:00\",\"ALGN\"],[\"2021-12-31 05:00:00\",\"AMAT\"],[\"2021-12-31 05:00:00\",\"AMD\"],[\"2021-12-31 05:00:00\",\"AMZN\"],[\"2021-12-31 05:00:00\",\"ANSS\"],[\"2021-12-31 05:00:00\",\"ASML\"]]},\"selected\":{\"id\":\"4485\"},\"selection_policy\":{\"id\":\"4506\"}},\"id\":\"4484\",\"type\":\"ColumnDataSource\"},{\"attributes\":{\"axis_label\":\"Symbols\",\"coordinates\":null,\"formatter\":{\"id\":\"4494\"},\"group\":null,\"major_label_policy\":{\"id\":\"4495\"},\"ticker\":{\"id\":\"4464\"}},\"id\":\"4463\",\"type\":\"CategoricalAxis\"},{\"attributes\":{\"bottom_units\":\"screen\",\"coordinates\":null,\"fill_alpha\":0.5,\"fill_color\":\"lightgrey\",\"group\":null,\"left_units\":\"screen\",\"level\":\"overlay\",\"line_alpha\":1.0,\"line_color\":\"black\",\"line_dash\":[4,4],\"line_width\":2,\"right_units\":\"screen\",\"syncable\":false,\"top_units\":\"screen\"},\"id\":\"4475\",\"type\":\"BoxAnnotation\"},{\"attributes\":{\"tools\":[{\"id\":\"4453\"},{\"id\":\"4470\"},{\"id\":\"4471\"},{\"id\":\"4472\"},{\"id\":\"4473\"},{\"id\":\"4474\"}]},\"id\":\"4476\",\"type\":\"Toolbar\"},{\"attributes\":{\"below\":[{\"id\":\"4463\"}],\"center\":[{\"id\":\"4465\"},{\"id\":\"4469\"}],\"height\":300,\"left\":[{\"id\":\"4466\"}],\"margin\":[5,5,5,5],\"min_border_bottom\":10,\"min_border_left\":10,\"min_border_right\":10,\"min_border_top\":10,\"renderers\":[{\"id\":\"4490\"}],\"sizing_mode\":\"fixed\",\"title\":{\"id\":\"4455\"},\"toolbar\":{\"id\":\"4476\"},\"width\":700,\"x_range\":{\"id\":\"4451\"},\"x_scale\":{\"id\":\"4459\"},\"y_range\":{\"id\":\"4452\"},\"y_scale\":{\"id\":\"4461\"}},\"id\":\"4454\",\"subtype\":\"Figure\",\"type\":\"Plot\"},{\"attributes\":{\"callback\":null,\"renderers\":[{\"id\":\"4490\"}],\"tags\":[\"hv_created\"],\"tooltips\":[[\"timestamp\",\"@{timestamp}\"],[\"symbol\",\"@{symbol}\"],[\"value\",\"@{value}\"]]},\"id\":\"4453\",\"type\":\"HoverTool\"},{\"attributes\":{},\"id\":\"4495\",\"type\":\"AllLabels\"},{\"attributes\":{},\"id\":\"4461\",\"type\":\"LinearScale\"},{\"attributes\":{\"overlay\":{\"id\":\"4475\"}},\"id\":\"4473\",\"type\":\"BoxZoomTool\"},{\"attributes\":{},\"id\":\"4467\",\"type\":\"BasicTicker\"},{\"attributes\":{},\"id\":\"4506\",\"type\":\"UnionRenderers\"},{\"attributes\":{},\"id\":\"4464\",\"type\":\"CategoricalTicker\"},{\"attributes\":{\"fill_alpha\":{\"value\":0.1},\"fill_color\":{\"field\":\"symbol\",\"transform\":{\"id\":\"4483\"}},\"hatch_alpha\":{\"value\":0.1},\"hatch_color\":{\"field\":\"symbol\",\"transform\":{\"id\":\"4483\"}},\"line_alpha\":{\"value\":0.1},\"top\":{\"field\":\"value\"},\"width\":{\"value\":0.8},\"x\":{\"field\":\"xoffsets\"}},\"id\":\"4488\",\"type\":\"VBar\"},{\"attributes\":{\"axis_label\":\"Closing Value\",\"coordinates\":null,\"formatter\":{\"id\":\"4497\"},\"group\":null,\"major_label_policy\":{\"id\":\"4498\"},\"ticker\":{\"id\":\"4467\"}},\"id\":\"4466\",\"type\":\"LinearAxis\"},{\"attributes\":{\"end\":3658.8770000000004,\"reset_end\":3658.8770000000004,\"reset_start\":0.0,\"tags\":[[[\"value\",\"value\",null]]]},\"id\":\"4452\",\"type\":\"Range1d\"},{\"attributes\":{\"fill_alpha\":{\"value\":0.2},\"fill_color\":{\"field\":\"symbol\",\"transform\":{\"id\":\"4483\"}},\"hatch_alpha\":{\"value\":0.2},\"hatch_color\":{\"field\":\"symbol\",\"transform\":{\"id\":\"4483\"}},\"line_alpha\":{\"value\":0.2},\"top\":{\"field\":\"value\"},\"width\":{\"value\":0.8},\"x\":{\"field\":\"xoffsets\"}},\"id\":\"4489\",\"type\":\"VBar\"},{\"attributes\":{\"axis\":{\"id\":\"4466\"},\"coordinates\":null,\"dimension\":1,\"grid_line_color\":null,\"group\":null,\"ticker\":null},\"id\":\"4469\",\"type\":\"Grid\"},{\"attributes\":{\"bottom\":{\"value\":0},\"fill_alpha\":{\"value\":1.0},\"fill_color\":{\"field\":\"symbol\",\"transform\":{\"id\":\"4483\"}},\"hatch_alpha\":{\"value\":1.0},\"hatch_color\":{\"field\":\"symbol\",\"transform\":{\"id\":\"4483\"}},\"hatch_scale\":{\"value\":12.0},\"hatch_weight\":{\"value\":1.0},\"line_alpha\":{\"value\":1.0},\"line_cap\":{\"value\":\"butt\"},\"line_color\":{\"value\":\"black\"},\"line_dash\":{\"value\":[]},\"line_dash_offset\":{\"value\":0},\"line_join\":{\"value\":\"bevel\"},\"line_width\":{\"value\":1},\"top\":{\"field\":\"value\"},\"width\":{\"value\":0.8},\"x\":{\"field\":\"xoffsets\"}},\"id\":\"4492\",\"type\":\"VBar\"},{\"attributes\":{\"source\":{\"id\":\"4484\"}},\"id\":\"4491\",\"type\":\"CDSView\"},{\"attributes\":{\"children\":[{\"id\":\"4450\"},{\"id\":\"4454\"},{\"id\":\"4519\"}],\"margin\":[0,0,0,0],\"name\":\"Row10387\",\"tags\":[\"embedded\"]},\"id\":\"4449\",\"type\":\"Row\"},{\"attributes\":{\"margin\":[5,5,5,5],\"name\":\"HSpacer10392\",\"sizing_mode\":\"stretch_width\"},\"id\":\"4519\",\"type\":\"Spacer\"},{\"attributes\":{\"coordinates\":null,\"group\":null,\"text_color\":\"black\",\"text_font_size\":\"12pt\"},\"id\":\"4455\",\"type\":\"Title\"},{\"attributes\":{},\"id\":\"4494\",\"type\":\"CategoricalTickFormatter\"},{\"attributes\":{},\"id\":\"4470\",\"type\":\"SaveTool\"},{\"attributes\":{},\"id\":\"4471\",\"type\":\"PanTool\"},{\"attributes\":{\"coordinates\":null,\"data_source\":{\"id\":\"4484\"},\"glyph\":{\"id\":\"4487\"},\"group\":null,\"hover_glyph\":null,\"muted_glyph\":{\"id\":\"4489\"},\"nonselection_glyph\":{\"id\":\"4488\"},\"selection_glyph\":{\"id\":\"4492\"},\"view\":{\"id\":\"4491\"}},\"id\":\"4490\",\"type\":\"GlyphRenderer\"},{\"attributes\":{\"axis\":{\"id\":\"4463\"},\"coordinates\":null,\"grid_line_color\":null,\"group\":null,\"ticker\":null},\"id\":\"4465\",\"type\":\"Grid\"},{\"attributes\":{\"factors\":[[\"2021-12-31 05:00:00\",\"AAPL\"],[\"2021-12-31 05:00:00\",\"ABNB\"],[\"2021-12-31 05:00:00\",\"ADI\"],[\"2021-12-31 05:00:00\",\"AEP\"],[\"2021-12-31 05:00:00\",\"ALGN\"],[\"2021-12-31 05:00:00\",\"AMAT\"],[\"2021-12-31 05:00:00\",\"AMD\"],[\"2021-12-31 05:00:00\",\"AMZN\"],[\"2021-12-31 05:00:00\",\"ANSS\"],[\"2021-12-31 05:00:00\",\"ASML\"]],\"tags\":[[[\"timestamp\",\"timestamp\",null],[\"symbol\",\"symbol\",null]]]},\"id\":\"4451\",\"type\":\"FactorRange\"},{\"attributes\":{},\"id\":\"4472\",\"type\":\"WheelZoomTool\"},{\"attributes\":{},\"id\":\"4485\",\"type\":\"Selection\"},{\"attributes\":{},\"id\":\"4498\",\"type\":\"AllLabels\"},{\"attributes\":{\"fill_color\":{\"field\":\"symbol\",\"transform\":{\"id\":\"4483\"}},\"hatch_color\":{\"field\":\"symbol\",\"transform\":{\"id\":\"4483\"}},\"top\":{\"field\":\"value\"},\"width\":{\"value\":0.8},\"x\":{\"field\":\"xoffsets\"}},\"id\":\"4487\",\"type\":\"VBar\"}],\"root_ids\":[\"4449\"]},\"title\":\"Bokeh Application\",\"version\":\"2.4.2\"}};\n",
       "    var render_items = [{\"docid\":\"526ac764-7cfd-4eb9-8453-3973e366a82b\",\"root_ids\":[\"4449\"],\"roots\":{\"4449\":\"1994648e-c8ab-4e62-9468-e48c47ffba63\"}}];\n",
       "    root.Bokeh.embed.embed_items_notebook(docs_json, render_items);\n",
       "  }\n",
       "  if (root.Bokeh !== undefined && root.Bokeh.Panel !== undefined) {\n",
       "    embed_document(root);\n",
       "  } else {\n",
       "    var attempts = 0;\n",
       "    var timer = setInterval(function(root) {\n",
       "      if (root.Bokeh !== undefined && root.Bokeh.Panel !== undefined) {\n",
       "        clearInterval(timer);\n",
       "        embed_document(root);\n",
       "      } else if (document.readyState == \"complete\") {\n",
       "        attempts++;\n",
       "        if (attempts > 200) {\n",
       "          clearInterval(timer);\n",
       "          console.log(\"Bokeh: ERROR: Unable to run BokehJS code because BokehJS library is missing\");\n",
       "        }\n",
       "      }\n",
       "    }, 25, root)\n",
       "  }\n",
       "})(window);</script>"
      ],
      "text/plain": [
       ":Bars   [timestamp,symbol]   (value)"
      ]
     },
     "execution_count": 366,
     "metadata": {
      "application/vnd.holoviews_exec.v0+json": {
       "id": "4449"
      }
     },
     "output_type": "execute_result"
    }
   ],
   "source": [
    "top10_pivot_end= top10_performers_end_df.pivot_table(values=\"close\", index=\"timestamp\", columns=\"symbol\")\n",
    "plot_end = top10_pivot_end.hvplot.bar(\n",
    "    xlabel='Symbols',\n",
    "    ylabel='Closing Value', \n",
    ")\n",
    "plot_end"
   ]
  },
  {
   "cell_type": "code",
   "execution_count": 368,
   "metadata": {},
   "outputs": [
    {
     "data": {},
     "metadata": {},
     "output_type": "display_data"
    },
    {
     "data": {
      "application/vnd.holoviews_exec.v0+json": "",
      "text/html": [
       "<div id='4571'>\n",
       "\n",
       "\n",
       "\n",
       "\n",
       "\n",
       "  <div class=\"bk-root\" id=\"61294202-c325-46c4-9a0e-d45937db5ad7\" data-root-id=\"4571\"></div>\n",
       "</div>\n",
       "<script type=\"application/javascript\">(function(root) {\n",
       "  function embed_document(root) {\n",
       "    var docs_json = {\"66c732d0-bc3d-4bf3-b3de-6e09a3e2cf86\":{\"defs\":[{\"extends\":null,\"module\":null,\"name\":\"ReactiveHTML1\",\"overrides\":[],\"properties\":[]},{\"extends\":null,\"module\":null,\"name\":\"FlexBox1\",\"overrides\":[],\"properties\":[{\"default\":\"flex-start\",\"kind\":null,\"name\":\"align_content\"},{\"default\":\"flex-start\",\"kind\":null,\"name\":\"align_items\"},{\"default\":\"row\",\"kind\":null,\"name\":\"flex_direction\"},{\"default\":\"wrap\",\"kind\":null,\"name\":\"flex_wrap\"},{\"default\":\"flex-start\",\"kind\":null,\"name\":\"justify_content\"}]},{\"extends\":null,\"module\":null,\"name\":\"TemplateActions1\",\"overrides\":[],\"properties\":[{\"default\":0,\"kind\":null,\"name\":\"open_modal\"},{\"default\":0,\"kind\":null,\"name\":\"close_modal\"}]},{\"extends\":null,\"module\":null,\"name\":\"MaterialTemplateActions1\",\"overrides\":[],\"properties\":[{\"default\":0,\"kind\":null,\"name\":\"open_modal\"},{\"default\":0,\"kind\":null,\"name\":\"close_modal\"}]}],\"roots\":{\"references\":[{\"attributes\":{},\"id\":\"4590\",\"type\":\"BasicTicker\"},{\"attributes\":{},\"id\":\"4611\",\"type\":\"AllLabels\"},{\"attributes\":{\"axis_label\":\"Closing Value\",\"coordinates\":null,\"formatter\":{\"id\":\"4610\"},\"group\":null,\"major_label_policy\":{\"id\":\"4611\"},\"ticker\":{\"id\":\"4590\"}},\"id\":\"4589\",\"type\":\"LinearAxis\"},{\"attributes\":{\"fill_color\":{\"field\":\"symbol\",\"transform\":{\"id\":\"4612\"}},\"hatch_color\":{\"field\":\"symbol\",\"transform\":{\"id\":\"4612\"}},\"top\":{\"field\":\"value\"},\"width\":{\"value\":0.8},\"x\":{\"field\":\"xoffsets\"}},\"id\":\"4616\",\"type\":\"VBar\"},{\"attributes\":{\"axis\":{\"id\":\"4589\"},\"coordinates\":null,\"dimension\":1,\"grid_line_color\":null,\"group\":null,\"ticker\":null},\"id\":\"4592\",\"type\":\"Grid\"},{\"attributes\":{\"callback\":null,\"renderers\":[{\"id\":\"4619\"},{\"id\":\"4629\"}],\"tags\":[\"hv_created\"],\"tooltips\":[[\"timestamp\",\"@{timestamp}\"],[\"symbol\",\"@{symbol}\"],[\"value\",\"@{value}\"]]},\"id\":\"4575\",\"type\":\"HoverTool\"},{\"attributes\":{\"data\":{\"symbol\":[\"AAPL\",\"ABNB\",\"ADI\",\"AEP\",\"ALGN\",\"AMAT\",\"AMD\",\"AMZN\",\"ANSS\",\"ASML\"],\"timestamp\":[\"2021-12-31 05:00:00\",\"2021-12-31 05:00:00\",\"2021-12-31 05:00:00\",\"2021-12-31 05:00:00\",\"2021-12-31 05:00:00\",\"2021-12-31 05:00:00\",\"2021-12-31 05:00:00\",\"2021-12-31 05:00:00\",\"2021-12-31 05:00:00\",\"2021-12-31 05:00:00\"],\"value\":{\"__ndarray__\":\"CtejcD0yZkBI4XoUrs9kQHE9Ctej+GVArkfhehQ+VkA9CtejcImEQOxRuB6Fq2NAzczMzMz8YUBI4XoUrgyqQFK4HoXrEXlAhetRuB7hiEA=\",\"dtype\":\"float64\",\"order\":\"little\",\"shape\":[10]},\"xoffsets\":[[\"2021-12-31 05:00:00\",\"AAPL\"],[\"2021-12-31 05:00:00\",\"ABNB\"],[\"2021-12-31 05:00:00\",\"ADI\"],[\"2021-12-31 05:00:00\",\"AEP\"],[\"2021-12-31 05:00:00\",\"ALGN\"],[\"2021-12-31 05:00:00\",\"AMAT\"],[\"2021-12-31 05:00:00\",\"AMD\"],[\"2021-12-31 05:00:00\",\"AMZN\"],[\"2021-12-31 05:00:00\",\"ANSS\"],[\"2021-12-31 05:00:00\",\"ASML\"]]},\"selected\":{\"id\":\"4624\"},\"selection_policy\":{\"id\":\"4641\"}},\"id\":\"4623\",\"type\":\"ColumnDataSource\"},{\"attributes\":{\"fill_alpha\":{\"value\":0.2},\"fill_color\":{\"field\":\"symbol\",\"transform\":{\"id\":\"4622\"}},\"hatch_alpha\":{\"value\":0.2},\"hatch_color\":{\"field\":\"symbol\",\"transform\":{\"id\":\"4622\"}},\"line_alpha\":{\"value\":0.2},\"top\":{\"field\":\"value\"},\"width\":{\"value\":0.8},\"x\":{\"field\":\"xoffsets\"}},\"id\":\"4628\",\"type\":\"VBar\"},{\"attributes\":{},\"id\":\"4607\",\"type\":\"CategoricalTickFormatter\"},{\"attributes\":{\"margin\":[5,5,5,5],\"name\":\"HSpacer10619\",\"sizing_mode\":\"stretch_width\"},\"id\":\"4572\",\"type\":\"Spacer\"},{\"attributes\":{\"margin\":[5,5,5,5],\"name\":\"HSpacer10620\",\"sizing_mode\":\"stretch_width\"},\"id\":\"4740\",\"type\":\"Spacer\"},{\"attributes\":{\"end\":3659.6200000000003,\"reset_end\":3659.6200000000003,\"reset_start\":-243.74,\"start\":-243.74,\"tags\":[[[\"value\",\"value\",null]]]},\"id\":\"4574\",\"type\":\"Range1d\"},{\"attributes\":{\"source\":{\"id\":\"4623\"}},\"id\":\"4630\",\"type\":\"CDSView\"},{\"attributes\":{},\"id\":\"4639\",\"type\":\"UnionRenderers\"},{\"attributes\":{},\"id\":\"4610\",\"type\":\"BasicTickFormatter\"},{\"attributes\":{},\"id\":\"4614\",\"type\":\"Selection\"},{\"attributes\":{\"data\":{\"symbol\":[\"AAPL\",\"ABNB\",\"ADI\",\"AEP\",\"ALGN\",\"AMAT\",\"AMD\",\"AMZN\",\"ANSS\",\"ASML\"],\"timestamp\":[\"2021-01-04 05:00:00\",\"2021-01-04 05:00:00\",\"2021-01-04 05:00:00\",\"2021-01-04 05:00:00\",\"2021-01-04 05:00:00\",\"2021-01-04 05:00:00\",\"2021-01-04 05:00:00\",\"2021-01-04 05:00:00\",\"2021-01-04 05:00:00\",\"2021-01-04 05:00:00\"],\"value\":{\"__ndarray__\":\"hetRuB4tYEDNzMzMzGRhQHE9CtejQGJAw/UoXI9iVEBI4XoUrnOAQEjhehSut1VAMzMzMzMTV0D2KFyPQuWoQB+F61G4WnZAAAAAAABAf0A=\",\"dtype\":\"float64\",\"order\":\"little\",\"shape\":[10]},\"xoffsets\":[[\"2021-01-04 05:00:00\",\"AAPL\"],[\"2021-01-04 05:00:00\",\"ABNB\"],[\"2021-01-04 05:00:00\",\"ADI\"],[\"2021-01-04 05:00:00\",\"AEP\"],[\"2021-01-04 05:00:00\",\"ALGN\"],[\"2021-01-04 05:00:00\",\"AMAT\"],[\"2021-01-04 05:00:00\",\"AMD\"],[\"2021-01-04 05:00:00\",\"AMZN\"],[\"2021-01-04 05:00:00\",\"ANSS\"],[\"2021-01-04 05:00:00\",\"ASML\"]]},\"selected\":{\"id\":\"4614\"},\"selection_policy\":{\"id\":\"4639\"}},\"id\":\"4613\",\"type\":\"ColumnDataSource\"},{\"attributes\":{\"bottom_units\":\"screen\",\"coordinates\":null,\"fill_alpha\":0.5,\"fill_color\":\"lightgrey\",\"group\":null,\"left_units\":\"screen\",\"level\":\"overlay\",\"line_alpha\":1.0,\"line_color\":\"black\",\"line_dash\":[4,4],\"line_width\":2,\"right_units\":\"screen\",\"syncable\":false,\"top_units\":\"screen\"},\"id\":\"4598\",\"type\":\"BoxAnnotation\"},{\"attributes\":{\"fill_alpha\":{\"value\":0.1},\"fill_color\":{\"field\":\"symbol\",\"transform\":{\"id\":\"4612\"}},\"hatch_alpha\":{\"value\":0.1},\"hatch_color\":{\"field\":\"symbol\",\"transform\":{\"id\":\"4612\"}},\"line_alpha\":{\"value\":0.1},\"top\":{\"field\":\"value\"},\"width\":{\"value\":0.8},\"x\":{\"field\":\"xoffsets\"}},\"id\":\"4617\",\"type\":\"VBar\"},{\"attributes\":{},\"id\":\"4593\",\"type\":\"SaveTool\"},{\"attributes\":{},\"id\":\"4594\",\"type\":\"PanTool\"},{\"attributes\":{},\"id\":\"4624\",\"type\":\"Selection\"},{\"attributes\":{\"fill_alpha\":{\"value\":0.2},\"fill_color\":{\"field\":\"symbol\",\"transform\":{\"id\":\"4612\"}},\"hatch_alpha\":{\"value\":0.2},\"hatch_color\":{\"field\":\"symbol\",\"transform\":{\"id\":\"4612\"}},\"line_alpha\":{\"value\":0.2},\"top\":{\"field\":\"value\"},\"width\":{\"value\":0.8},\"x\":{\"field\":\"xoffsets\"}},\"id\":\"4618\",\"type\":\"VBar\"},{\"attributes\":{},\"id\":\"4597\",\"type\":\"ResetTool\"},{\"attributes\":{},\"id\":\"4587\",\"type\":\"CategoricalTicker\"},{\"attributes\":{},\"id\":\"4641\",\"type\":\"UnionRenderers\"},{\"attributes\":{},\"id\":\"4595\",\"type\":\"WheelZoomTool\"},{\"attributes\":{\"coordinates\":null,\"group\":null,\"text_color\":\"black\",\"text_font_size\":\"12pt\"},\"id\":\"4578\",\"type\":\"Title\"},{\"attributes\":{},\"id\":\"4608\",\"type\":\"AllLabels\"},{\"attributes\":{\"factors\":[\"AAPL\",\"ABNB\",\"ADI\",\"AEP\",\"ALGN\",\"AMAT\",\"AMD\",\"AMZN\",\"ANSS\",\"ASML\"],\"palette\":[\"#30a2da\",\"#fc4f30\",\"#e5ae38\",\"#6d904f\",\"#8b8b8b\",\"#17becf\",\"#9467bd\",\"#d62728\",\"#1f77b4\",\"#e377c2\"]},\"id\":\"4612\",\"type\":\"CategoricalColorMapper\"},{\"attributes\":{\"source\":{\"id\":\"4613\"}},\"id\":\"4620\",\"type\":\"CDSView\"},{\"attributes\":{\"overlay\":{\"id\":\"4598\"}},\"id\":\"4596\",\"type\":\"BoxZoomTool\"},{\"attributes\":{\"children\":[{\"id\":\"4572\"},{\"id\":\"4577\"},{\"id\":\"4740\"}],\"margin\":[0,0,0,0],\"name\":\"Row10615\",\"tags\":[\"embedded\"]},\"id\":\"4571\",\"type\":\"Row\"},{\"attributes\":{\"coordinates\":null,\"data_source\":{\"id\":\"4613\"},\"glyph\":{\"id\":\"4616\"},\"group\":null,\"hover_glyph\":null,\"muted_glyph\":{\"id\":\"4618\"},\"nonselection_glyph\":{\"id\":\"4617\"},\"selection_glyph\":{\"id\":\"4621\"},\"view\":{\"id\":\"4620\"}},\"id\":\"4619\",\"type\":\"GlyphRenderer\"},{\"attributes\":{},\"id\":\"4582\",\"type\":\"CategoricalScale\"},{\"attributes\":{\"coordinates\":null,\"data_source\":{\"id\":\"4623\"},\"glyph\":{\"id\":\"4626\"},\"group\":null,\"hover_glyph\":null,\"muted_glyph\":{\"id\":\"4628\"},\"nonselection_glyph\":{\"id\":\"4627\"},\"selection_glyph\":{\"id\":\"4631\"},\"view\":{\"id\":\"4630\"}},\"id\":\"4629\",\"type\":\"GlyphRenderer\"},{\"attributes\":{\"bottom\":{\"value\":0},\"fill_alpha\":{\"value\":1.0},\"fill_color\":{\"field\":\"symbol\",\"transform\":{\"id\":\"4612\"}},\"hatch_alpha\":{\"value\":1.0},\"hatch_color\":{\"field\":\"symbol\",\"transform\":{\"id\":\"4612\"}},\"hatch_scale\":{\"value\":12.0},\"hatch_weight\":{\"value\":1.0},\"line_alpha\":{\"value\":1.0},\"line_cap\":{\"value\":\"butt\"},\"line_color\":{\"value\":\"black\"},\"line_dash\":{\"value\":[]},\"line_dash_offset\":{\"value\":0},\"line_join\":{\"value\":\"bevel\"},\"line_width\":{\"value\":1},\"top\":{\"field\":\"value\"},\"width\":{\"value\":0.8},\"x\":{\"field\":\"xoffsets\"}},\"id\":\"4621\",\"type\":\"VBar\"},{\"attributes\":{\"fill_alpha\":{\"value\":0.1},\"fill_color\":{\"field\":\"symbol\",\"transform\":{\"id\":\"4622\"}},\"hatch_alpha\":{\"value\":0.1},\"hatch_color\":{\"field\":\"symbol\",\"transform\":{\"id\":\"4622\"}},\"line_alpha\":{\"value\":0.1},\"top\":{\"field\":\"value\"},\"width\":{\"value\":0.8},\"x\":{\"field\":\"xoffsets\"}},\"id\":\"4627\",\"type\":\"VBar\"},{\"attributes\":{\"axis_label\":\"Symbols\",\"coordinates\":null,\"formatter\":{\"id\":\"4607\"},\"group\":null,\"major_label_policy\":{\"id\":\"4608\"},\"ticker\":{\"id\":\"4587\"}},\"id\":\"4586\",\"type\":\"CategoricalAxis\"},{\"attributes\":{\"factors\":[\"AAPL\",\"ABNB\",\"ADI\",\"AEP\",\"ALGN\",\"AMAT\",\"AMD\",\"AMZN\",\"ANSS\",\"ASML\"],\"palette\":[\"#30a2da\",\"#fc4f30\",\"#e5ae38\",\"#6d904f\",\"#8b8b8b\",\"#17becf\",\"#9467bd\",\"#d62728\",\"#1f77b4\",\"#e377c2\"]},\"id\":\"4622\",\"type\":\"CategoricalColorMapper\"},{\"attributes\":{\"axis\":{\"id\":\"4586\"},\"coordinates\":null,\"grid_line_color\":null,\"group\":null,\"ticker\":null},\"id\":\"4588\",\"type\":\"Grid\"},{\"attributes\":{\"factors\":[[\"2021-01-04 05:00:00\",\"AAPL\"],[\"2021-01-04 05:00:00\",\"ABNB\"],[\"2021-01-04 05:00:00\",\"ADI\"],[\"2021-01-04 05:00:00\",\"AEP\"],[\"2021-01-04 05:00:00\",\"ALGN\"],[\"2021-01-04 05:00:00\",\"AMAT\"],[\"2021-01-04 05:00:00\",\"AMD\"],[\"2021-01-04 05:00:00\",\"AMZN\"],[\"2021-01-04 05:00:00\",\"ANSS\"],[\"2021-01-04 05:00:00\",\"ASML\"],[\"2021-12-31 05:00:00\",\"AAPL\"],[\"2021-12-31 05:00:00\",\"ABNB\"],[\"2021-12-31 05:00:00\",\"ADI\"],[\"2021-12-31 05:00:00\",\"AEP\"],[\"2021-12-31 05:00:00\",\"ALGN\"],[\"2021-12-31 05:00:00\",\"AMAT\"],[\"2021-12-31 05:00:00\",\"AMD\"],[\"2021-12-31 05:00:00\",\"AMZN\"],[\"2021-12-31 05:00:00\",\"ANSS\"],[\"2021-12-31 05:00:00\",\"ASML\"]],\"tags\":[[[\"timestamp\",\"timestamp\",null],[\"symbol\",\"symbol\",null]]]},\"id\":\"4573\",\"type\":\"FactorRange\"},{\"attributes\":{\"below\":[{\"id\":\"4586\"}],\"center\":[{\"id\":\"4588\"},{\"id\":\"4592\"}],\"height\":300,\"left\":[{\"id\":\"4589\"}],\"margin\":[5,5,5,5],\"min_border_bottom\":10,\"min_border_left\":10,\"min_border_right\":10,\"min_border_top\":10,\"renderers\":[{\"id\":\"4619\"},{\"id\":\"4629\"}],\"sizing_mode\":\"fixed\",\"title\":{\"id\":\"4578\"},\"toolbar\":{\"id\":\"4599\"},\"width\":700,\"x_range\":{\"id\":\"4573\"},\"x_scale\":{\"id\":\"4582\"},\"y_range\":{\"id\":\"4574\"},\"y_scale\":{\"id\":\"4584\"}},\"id\":\"4577\",\"subtype\":\"Figure\",\"type\":\"Plot\"},{\"attributes\":{\"tools\":[{\"id\":\"4575\"},{\"id\":\"4593\"},{\"id\":\"4594\"},{\"id\":\"4595\"},{\"id\":\"4596\"},{\"id\":\"4597\"}]},\"id\":\"4599\",\"type\":\"Toolbar\"},{\"attributes\":{\"bottom\":{\"value\":0},\"fill_alpha\":{\"value\":1.0},\"fill_color\":{\"field\":\"symbol\",\"transform\":{\"id\":\"4622\"}},\"hatch_alpha\":{\"value\":1.0},\"hatch_color\":{\"field\":\"symbol\",\"transform\":{\"id\":\"4622\"}},\"hatch_scale\":{\"value\":12.0},\"hatch_weight\":{\"value\":1.0},\"line_alpha\":{\"value\":1.0},\"line_cap\":{\"value\":\"butt\"},\"line_color\":{\"value\":\"black\"},\"line_dash\":{\"value\":[]},\"line_dash_offset\":{\"value\":0},\"line_join\":{\"value\":\"bevel\"},\"line_width\":{\"value\":1},\"top\":{\"field\":\"value\"},\"width\":{\"value\":0.8},\"x\":{\"field\":\"xoffsets\"}},\"id\":\"4631\",\"type\":\"VBar\"},{\"attributes\":{},\"id\":\"4584\",\"type\":\"LinearScale\"},{\"attributes\":{\"fill_color\":{\"field\":\"symbol\",\"transform\":{\"id\":\"4622\"}},\"hatch_color\":{\"field\":\"symbol\",\"transform\":{\"id\":\"4622\"}},\"top\":{\"field\":\"value\"},\"width\":{\"value\":0.8},\"x\":{\"field\":\"xoffsets\"}},\"id\":\"4626\",\"type\":\"VBar\"}],\"root_ids\":[\"4571\"]},\"title\":\"Bokeh Application\",\"version\":\"2.4.2\"}};\n",
       "    var render_items = [{\"docid\":\"66c732d0-bc3d-4bf3-b3de-6e09a3e2cf86\",\"root_ids\":[\"4571\"],\"roots\":{\"4571\":\"61294202-c325-46c4-9a0e-d45937db5ad7\"}}];\n",
       "    root.Bokeh.embed.embed_items_notebook(docs_json, render_items);\n",
       "  }\n",
       "  if (root.Bokeh !== undefined && root.Bokeh.Panel !== undefined) {\n",
       "    embed_document(root);\n",
       "  } else {\n",
       "    var attempts = 0;\n",
       "    var timer = setInterval(function(root) {\n",
       "      if (root.Bokeh !== undefined && root.Bokeh.Panel !== undefined) {\n",
       "        clearInterval(timer);\n",
       "        embed_document(root);\n",
       "      } else if (document.readyState == \"complete\") {\n",
       "        attempts++;\n",
       "        if (attempts > 200) {\n",
       "          clearInterval(timer);\n",
       "          console.log(\"Bokeh: ERROR: Unable to run BokehJS code because BokehJS library is missing\");\n",
       "        }\n",
       "      }\n",
       "    }, 25, root)\n",
       "  }\n",
       "})(window);</script>"
      ],
      "text/plain": [
       ":Overlay\n",
       "   .Bars.I  :Bars   [timestamp,symbol]   (value)\n",
       "   .Bars.II :Bars   [timestamp,symbol]   (value)"
      ]
     },
     "execution_count": 368,
     "metadata": {
      "application/vnd.holoviews_exec.v0+json": {
       "id": "4571"
      }
     },
     "output_type": "execute_result"
    }
   ],
   "source": [
    "plot_start*plot_end"
   ]
  },
  {
   "cell_type": "code",
   "execution_count": 369,
   "metadata": {},
   "outputs": [
    {
     "name": "stderr",
     "output_type": "stream",
     "text": [
      "C:\\Users\\naaku\\anaconda3\\envs\\pyvizenv\\lib\\site-packages\\ipykernel_launcher.py:2: FutureWarning:\n",
      "\n",
      "Value based partial slicing on non-monotonic DatetimeIndexes with non-existing keys is deprecated and will raise a KeyError in a future Version.\n",
      "\n"
     ]
    },
    {
     "data": {
      "text/html": [
       "<div>\n",
       "<style scoped>\n",
       "    .dataframe tbody tr th:only-of-type {\n",
       "        vertical-align: middle;\n",
       "    }\n",
       "\n",
       "    .dataframe tbody tr th {\n",
       "        vertical-align: top;\n",
       "    }\n",
       "\n",
       "    .dataframe thead th {\n",
       "        text-align: right;\n",
       "    }\n",
       "</style>\n",
       "<table border=\"1\" class=\"dataframe\">\n",
       "  <thead>\n",
       "    <tr style=\"text-align: right;\">\n",
       "      <th></th>\n",
       "      <th>timestamp</th>\n",
       "      <th>close</th>\n",
       "      <th>symbol</th>\n",
       "    </tr>\n",
       "  </thead>\n",
       "  <tbody>\n",
       "    <tr>\n",
       "      <th>0</th>\n",
       "      <td>2021-01-04 05:00:00+00:00</td>\n",
       "      <td>129.41</td>\n",
       "      <td>AAPL</td>\n",
       "    </tr>\n",
       "    <tr>\n",
       "      <th>1</th>\n",
       "      <td>2021-01-05 05:00:00+00:00</td>\n",
       "      <td>131.01</td>\n",
       "      <td>AAPL</td>\n",
       "    </tr>\n",
       "    <tr>\n",
       "      <th>2</th>\n",
       "      <td>2021-01-06 05:00:00+00:00</td>\n",
       "      <td>126.60</td>\n",
       "      <td>AAPL</td>\n",
       "    </tr>\n",
       "    <tr>\n",
       "      <th>3</th>\n",
       "      <td>2021-01-07 05:00:00+00:00</td>\n",
       "      <td>130.92</td>\n",
       "      <td>AAPL</td>\n",
       "    </tr>\n",
       "    <tr>\n",
       "      <th>4</th>\n",
       "      <td>2021-01-08 05:00:00+00:00</td>\n",
       "      <td>132.05</td>\n",
       "      <td>AAPL</td>\n",
       "    </tr>\n",
       "    <tr>\n",
       "      <th>...</th>\n",
       "      <td>...</td>\n",
       "      <td>...</td>\n",
       "      <td>...</td>\n",
       "    </tr>\n",
       "    <tr>\n",
       "      <th>2515</th>\n",
       "      <td>2021-12-27 05:00:00+00:00</td>\n",
       "      <td>811.43</td>\n",
       "      <td>ASML</td>\n",
       "    </tr>\n",
       "    <tr>\n",
       "      <th>2516</th>\n",
       "      <td>2021-12-28 05:00:00+00:00</td>\n",
       "      <td>804.77</td>\n",
       "      <td>ASML</td>\n",
       "    </tr>\n",
       "    <tr>\n",
       "      <th>2517</th>\n",
       "      <td>2021-12-29 05:00:00+00:00</td>\n",
       "      <td>801.98</td>\n",
       "      <td>ASML</td>\n",
       "    </tr>\n",
       "    <tr>\n",
       "      <th>2518</th>\n",
       "      <td>2021-12-30 05:00:00+00:00</td>\n",
       "      <td>800.22</td>\n",
       "      <td>ASML</td>\n",
       "    </tr>\n",
       "    <tr>\n",
       "      <th>2519</th>\n",
       "      <td>2021-12-31 05:00:00+00:00</td>\n",
       "      <td>796.14</td>\n",
       "      <td>ASML</td>\n",
       "    </tr>\n",
       "  </tbody>\n",
       "</table>\n",
       "<p>2520 rows × 3 columns</p>\n",
       "</div>"
      ],
      "text/plain": [
       "                     timestamp   close symbol\n",
       "0    2021-01-04 05:00:00+00:00  129.41   AAPL\n",
       "1    2021-01-05 05:00:00+00:00  131.01   AAPL\n",
       "2    2021-01-06 05:00:00+00:00  126.60   AAPL\n",
       "3    2021-01-07 05:00:00+00:00  130.92   AAPL\n",
       "4    2021-01-08 05:00:00+00:00  132.05   AAPL\n",
       "...                        ...     ...    ...\n",
       "2515 2021-12-27 05:00:00+00:00  811.43   ASML\n",
       "2516 2021-12-28 05:00:00+00:00  804.77   ASML\n",
       "2517 2021-12-29 05:00:00+00:00  801.98   ASML\n",
       "2518 2021-12-30 05:00:00+00:00  800.22   ASML\n",
       "2519 2021-12-31 05:00:00+00:00  796.14   ASML\n",
       "\n",
       "[2520 rows x 3 columns]"
      ]
     },
     "execution_count": 369,
     "metadata": {},
     "output_type": "execute_result"
    }
   ],
   "source": [
    "# create df containing info for the first quarter of the year '2021-01-04' through '2021-03-31'\n",
    "tickers_1year = stock_df.loc['2021-01-04':'2021-12-31']\n",
    "tickers_1year.reset_index(inplace=True)\n",
    "\n",
    "tickers_1year"
   ]
  },
  {
   "cell_type": "code",
   "execution_count": 370,
   "metadata": {},
   "outputs": [
    {
     "data": {
      "text/plain": [
       "timestamp    2021-12-31 05:00:00+00:00\n",
       "close                          3731.41\n",
       "symbol                            ASML\n",
       "dtype: object"
      ]
     },
     "execution_count": 370,
     "metadata": {},
     "output_type": "execute_result"
    }
   ],
   "source": [
    "tickers_1year.max()"
   ]
  },
  {
   "cell_type": "code",
   "execution_count": 371,
   "metadata": {},
   "outputs": [
    {
     "data": {
      "text/html": [
       "<div>\n",
       "<style scoped>\n",
       "    .dataframe tbody tr th:only-of-type {\n",
       "        vertical-align: middle;\n",
       "    }\n",
       "\n",
       "    .dataframe tbody tr th {\n",
       "        vertical-align: top;\n",
       "    }\n",
       "\n",
       "    .dataframe thead th {\n",
       "        text-align: right;\n",
       "    }\n",
       "</style>\n",
       "<table border=\"1\" class=\"dataframe\">\n",
       "  <thead>\n",
       "    <tr style=\"text-align: right;\">\n",
       "      <th></th>\n",
       "      <th>timestamp</th>\n",
       "      <th>open</th>\n",
       "      <th>high</th>\n",
       "      <th>low</th>\n",
       "      <th>close</th>\n",
       "      <th>volume</th>\n",
       "      <th>trade_count</th>\n",
       "      <th>vwap</th>\n",
       "      <th>symbol</th>\n",
       "    </tr>\n",
       "  </thead>\n",
       "  <tbody>\n",
       "    <tr>\n",
       "      <th>0</th>\n",
       "      <td>2021-01-04 05:00:00+00:00</td>\n",
       "      <td>133.56</td>\n",
       "      <td>133.6116</td>\n",
       "      <td>126.760</td>\n",
       "      <td>129.41</td>\n",
       "      <td>143302687</td>\n",
       "      <td>1310228</td>\n",
       "      <td>129.732580</td>\n",
       "      <td>AAPL</td>\n",
       "    </tr>\n",
       "    <tr>\n",
       "      <th>1</th>\n",
       "      <td>2021-01-04 05:00:00+00:00</td>\n",
       "      <td>151.00</td>\n",
       "      <td>151.0050</td>\n",
       "      <td>137.000</td>\n",
       "      <td>139.15</td>\n",
       "      <td>6415486</td>\n",
       "      <td>106339</td>\n",
       "      <td>142.505350</td>\n",
       "      <td>ABNB</td>\n",
       "    </tr>\n",
       "    <tr>\n",
       "      <th>2</th>\n",
       "      <td>2021-01-04 05:00:00+00:00</td>\n",
       "      <td>148.45</td>\n",
       "      <td>150.5450</td>\n",
       "      <td>144.620</td>\n",
       "      <td>146.02</td>\n",
       "      <td>2496642</td>\n",
       "      <td>43136</td>\n",
       "      <td>146.980214</td>\n",
       "      <td>ADI</td>\n",
       "    </tr>\n",
       "    <tr>\n",
       "      <th>3</th>\n",
       "      <td>2021-01-04 05:00:00+00:00</td>\n",
       "      <td>83.33</td>\n",
       "      <td>83.4400</td>\n",
       "      <td>81.205</td>\n",
       "      <td>81.54</td>\n",
       "      <td>3232971</td>\n",
       "      <td>34798</td>\n",
       "      <td>81.783354</td>\n",
       "      <td>AEP</td>\n",
       "    </tr>\n",
       "    <tr>\n",
       "      <th>4</th>\n",
       "      <td>2021-01-04 05:00:00+00:00</td>\n",
       "      <td>549.61</td>\n",
       "      <td>560.0000</td>\n",
       "      <td>519.700</td>\n",
       "      <td>526.46</td>\n",
       "      <td>602433</td>\n",
       "      <td>18222</td>\n",
       "      <td>534.162545</td>\n",
       "      <td>ALGN</td>\n",
       "    </tr>\n",
       "    <tr>\n",
       "      <th>5</th>\n",
       "      <td>2021-01-04 05:00:00+00:00</td>\n",
       "      <td>87.14</td>\n",
       "      <td>89.3000</td>\n",
       "      <td>86.150</td>\n",
       "      <td>86.87</td>\n",
       "      <td>8449949</td>\n",
       "      <td>79765</td>\n",
       "      <td>87.348187</td>\n",
       "      <td>AMAT</td>\n",
       "    </tr>\n",
       "    <tr>\n",
       "      <th>6</th>\n",
       "      <td>2021-01-04 05:00:00+00:00</td>\n",
       "      <td>92.13</td>\n",
       "      <td>96.0600</td>\n",
       "      <td>90.915</td>\n",
       "      <td>92.30</td>\n",
       "      <td>51802652</td>\n",
       "      <td>381394</td>\n",
       "      <td>93.098152</td>\n",
       "      <td>AMD</td>\n",
       "    </tr>\n",
       "    <tr>\n",
       "      <th>7</th>\n",
       "      <td>2021-01-04 05:00:00+00:00</td>\n",
       "      <td>3270.00</td>\n",
       "      <td>3272.0000</td>\n",
       "      <td>3144.020</td>\n",
       "      <td>3186.63</td>\n",
       "      <td>4411486</td>\n",
       "      <td>244078</td>\n",
       "      <td>3193.609570</td>\n",
       "      <td>AMZN</td>\n",
       "    </tr>\n",
       "    <tr>\n",
       "      <th>8</th>\n",
       "      <td>2021-01-04 05:00:00+00:00</td>\n",
       "      <td>362.35</td>\n",
       "      <td>373.7900</td>\n",
       "      <td>353.745</td>\n",
       "      <td>357.67</td>\n",
       "      <td>521740</td>\n",
       "      <td>15462</td>\n",
       "      <td>360.304615</td>\n",
       "      <td>ANSS</td>\n",
       "    </tr>\n",
       "    <tr>\n",
       "      <th>9</th>\n",
       "      <td>2021-01-04 05:00:00+00:00</td>\n",
       "      <td>499.99</td>\n",
       "      <td>504.7500</td>\n",
       "      <td>490.710</td>\n",
       "      <td>500.00</td>\n",
       "      <td>1527642</td>\n",
       "      <td>27183</td>\n",
       "      <td>499.055421</td>\n",
       "      <td>ASML</td>\n",
       "    </tr>\n",
       "  </tbody>\n",
       "</table>\n",
       "</div>"
      ],
      "text/plain": [
       "                  timestamp     open       high       low    close     volume  \\\n",
       "0 2021-01-04 05:00:00+00:00   133.56   133.6116   126.760   129.41  143302687   \n",
       "1 2021-01-04 05:00:00+00:00   151.00   151.0050   137.000   139.15    6415486   \n",
       "2 2021-01-04 05:00:00+00:00   148.45   150.5450   144.620   146.02    2496642   \n",
       "3 2021-01-04 05:00:00+00:00    83.33    83.4400    81.205    81.54    3232971   \n",
       "4 2021-01-04 05:00:00+00:00   549.61   560.0000   519.700   526.46     602433   \n",
       "5 2021-01-04 05:00:00+00:00    87.14    89.3000    86.150    86.87    8449949   \n",
       "6 2021-01-04 05:00:00+00:00    92.13    96.0600    90.915    92.30   51802652   \n",
       "7 2021-01-04 05:00:00+00:00  3270.00  3272.0000  3144.020  3186.63    4411486   \n",
       "8 2021-01-04 05:00:00+00:00   362.35   373.7900   353.745   357.67     521740   \n",
       "9 2021-01-04 05:00:00+00:00   499.99   504.7500   490.710   500.00    1527642   \n",
       "\n",
       "   trade_count         vwap symbol  \n",
       "0      1310228   129.732580   AAPL  \n",
       "1       106339   142.505350   ABNB  \n",
       "2        43136   146.980214    ADI  \n",
       "3        34798    81.783354    AEP  \n",
       "4        18222   534.162545   ALGN  \n",
       "5        79765    87.348187   AMAT  \n",
       "6       381394    93.098152    AMD  \n",
       "7       244078  3193.609570   AMZN  \n",
       "8        15462   360.304615   ANSS  \n",
       "9        27183   499.055421   ASML  "
      ]
     },
     "execution_count": 371,
     "metadata": {},
     "output_type": "execute_result"
    }
   ],
   "source": [
    "first_day = df_portfolio.loc['2021-01-04']\n",
    "first_day.reset_index(inplace=True)\n",
    "first_day"
   ]
  },
  {
   "cell_type": "code",
   "execution_count": 372,
   "metadata": {},
   "outputs": [
    {
     "data": {
      "text/html": [
       "<div>\n",
       "<style scoped>\n",
       "    .dataframe tbody tr th:only-of-type {\n",
       "        vertical-align: middle;\n",
       "    }\n",
       "\n",
       "    .dataframe tbody tr th {\n",
       "        vertical-align: top;\n",
       "    }\n",
       "\n",
       "    .dataframe thead th {\n",
       "        text-align: right;\n",
       "    }\n",
       "</style>\n",
       "<table border=\"1\" class=\"dataframe\">\n",
       "  <thead>\n",
       "    <tr style=\"text-align: right;\">\n",
       "      <th></th>\n",
       "      <th>timestamp</th>\n",
       "      <th>open</th>\n",
       "      <th>high</th>\n",
       "      <th>low</th>\n",
       "      <th>close</th>\n",
       "      <th>volume</th>\n",
       "      <th>trade_count</th>\n",
       "      <th>vwap</th>\n",
       "      <th>symbol</th>\n",
       "    </tr>\n",
       "  </thead>\n",
       "  <tbody>\n",
       "    <tr>\n",
       "      <th>0</th>\n",
       "      <td>2021-12-31 05:00:00+00:00</td>\n",
       "      <td>178.00</td>\n",
       "      <td>179.23</td>\n",
       "      <td>177.26</td>\n",
       "      <td>177.57</td>\n",
       "      <td>64038680</td>\n",
       "      <td>451478</td>\n",
       "      <td>177.800285</td>\n",
       "      <td>AAPL</td>\n",
       "    </tr>\n",
       "    <tr>\n",
       "      <th>1</th>\n",
       "      <td>2021-12-31 05:00:00+00:00</td>\n",
       "      <td>168.78</td>\n",
       "      <td>170.87</td>\n",
       "      <td>166.08</td>\n",
       "      <td>166.49</td>\n",
       "      <td>2595087</td>\n",
       "      <td>42536</td>\n",
       "      <td>167.276451</td>\n",
       "      <td>ABNB</td>\n",
       "    </tr>\n",
       "    <tr>\n",
       "      <th>2</th>\n",
       "      <td>2021-12-31 05:00:00+00:00</td>\n",
       "      <td>174.75</td>\n",
       "      <td>176.66</td>\n",
       "      <td>174.58</td>\n",
       "      <td>175.77</td>\n",
       "      <td>1916631</td>\n",
       "      <td>33470</td>\n",
       "      <td>175.731838</td>\n",
       "      <td>ADI</td>\n",
       "    </tr>\n",
       "    <tr>\n",
       "      <th>3</th>\n",
       "      <td>2021-12-31 05:00:00+00:00</td>\n",
       "      <td>88.64</td>\n",
       "      <td>89.22</td>\n",
       "      <td>88.30</td>\n",
       "      <td>88.97</td>\n",
       "      <td>1519921</td>\n",
       "      <td>22968</td>\n",
       "      <td>88.878485</td>\n",
       "      <td>AEP</td>\n",
       "    </tr>\n",
       "    <tr>\n",
       "      <th>4</th>\n",
       "      <td>2021-12-31 05:00:00+00:00</td>\n",
       "      <td>660.95</td>\n",
       "      <td>674.89</td>\n",
       "      <td>655.62</td>\n",
       "      <td>657.18</td>\n",
       "      <td>461369</td>\n",
       "      <td>13916</td>\n",
       "      <td>664.279136</td>\n",
       "      <td>ALGN</td>\n",
       "    </tr>\n",
       "  </tbody>\n",
       "</table>\n",
       "</div>"
      ],
      "text/plain": [
       "                  timestamp    open    high     low   close    volume  \\\n",
       "0 2021-12-31 05:00:00+00:00  178.00  179.23  177.26  177.57  64038680   \n",
       "1 2021-12-31 05:00:00+00:00  168.78  170.87  166.08  166.49   2595087   \n",
       "2 2021-12-31 05:00:00+00:00  174.75  176.66  174.58  175.77   1916631   \n",
       "3 2021-12-31 05:00:00+00:00   88.64   89.22   88.30   88.97   1519921   \n",
       "4 2021-12-31 05:00:00+00:00  660.95  674.89  655.62  657.18    461369   \n",
       "\n",
       "   trade_count        vwap symbol  \n",
       "0       451478  177.800285   AAPL  \n",
       "1        42536  167.276451   ABNB  \n",
       "2        33470  175.731838    ADI  \n",
       "3        22968   88.878485    AEP  \n",
       "4        13916  664.279136   ALGN  "
      ]
     },
     "execution_count": 372,
     "metadata": {},
     "output_type": "execute_result"
    }
   ],
   "source": [
    "last_day = df_portfolio.loc['2021-12-31']\n",
    "last_day.reset_index(inplace=True)\n",
    "last_day.head()"
   ]
  },
  {
   "cell_type": "code",
   "execution_count": 373,
   "metadata": {},
   "outputs": [
    {
     "data": {
      "application/vnd.plotly.v1+json": {
       "config": {
        "linkText": "Export to plot.ly",
        "plotlyServerURL": "https://plot.ly",
        "showLink": true
       },
       "data": [
        {
         "line": {
          "color": "rgba(255, 153, 51, 1.0)",
          "dash": "solid",
          "shape": "linear",
          "width": 1.3
         },
         "mode": "lines",
         "name": "timestamp",
         "text": "",
         "type": "scatter",
         "x": [
          0,
          1,
          2,
          3,
          4,
          5,
          6,
          7,
          8,
          9
         ],
         "y": [
          "2021-12-31T05:00:00.000000000",
          "2021-12-31T05:00:00.000000000",
          "2021-12-31T05:00:00.000000000",
          "2021-12-31T05:00:00.000000000",
          "2021-12-31T05:00:00.000000000",
          "2021-12-31T05:00:00.000000000",
          "2021-12-31T05:00:00.000000000",
          "2021-12-31T05:00:00.000000000",
          "2021-12-31T05:00:00.000000000",
          "2021-12-31T05:00:00.000000000"
         ]
        },
        {
         "line": {
          "color": "rgba(55, 128, 191, 1.0)",
          "dash": "solid",
          "shape": "linear",
          "width": 1.3
         },
         "mode": "lines",
         "name": "open",
         "text": "",
         "type": "scatter",
         "x": [
          0,
          1,
          2,
          3,
          4,
          5,
          6,
          7,
          8,
          9
         ],
         "y": [
          178,
          168.78,
          174.75,
          88.64,
          660.95,
          158.14,
          145.96,
          3379.12,
          404.9,
          801.51
         ]
        },
        {
         "line": {
          "color": "rgba(50, 171, 96, 1.0)",
          "dash": "solid",
          "shape": "linear",
          "width": 1.3
         },
         "mode": "lines",
         "name": "high",
         "text": "",
         "type": "scatter",
         "x": [
          0,
          1,
          2,
          3,
          4,
          5,
          6,
          7,
          8,
          9
         ],
         "y": [
          179.23,
          170.87,
          176.66,
          89.22,
          674.89,
          159.67,
          148.61,
          3387,
          405.865,
          805.2792
         ]
        },
        {
         "line": {
          "color": "rgba(128, 0, 128, 1.0)",
          "dash": "solid",
          "shape": "linear",
          "width": 1.3
         },
         "mode": "lines",
         "name": "low",
         "text": "",
         "type": "scatter",
         "x": [
          0,
          1,
          2,
          3,
          4,
          5,
          6,
          7,
          8,
          9
         ],
         "y": [
          177.26,
          166.08,
          174.58,
          88.3,
          655.62,
          157.04,
          143.55,
          3331.17,
          400.47,
          795.88
         ]
        },
        {
         "line": {
          "color": "rgba(219, 64, 82, 1.0)",
          "dash": "solid",
          "shape": "linear",
          "width": 1.3
         },
         "mode": "lines",
         "name": "close",
         "text": "",
         "type": "scatter",
         "x": [
          0,
          1,
          2,
          3,
          4,
          5,
          6,
          7,
          8,
          9
         ],
         "y": [
          177.57,
          166.49,
          175.77,
          88.97,
          657.18,
          157.36,
          143.9,
          3334.34,
          401.12,
          796.14
         ]
        },
        {
         "line": {
          "color": "rgba(0, 128, 128, 1.0)",
          "dash": "solid",
          "shape": "linear",
          "width": 1.3
         },
         "mode": "lines",
         "name": "volume",
         "text": "",
         "type": "scatter",
         "x": [
          0,
          1,
          2,
          3,
          4,
          5,
          6,
          7,
          8,
          9
         ],
         "y": [
          64038680,
          2595087,
          1916631,
          1519921,
          461369,
          3592320,
          49445338,
          2430474,
          316756,
          236422
         ]
        },
        {
         "line": {
          "color": "rgba(255, 255, 51, 1.0)",
          "dash": "solid",
          "shape": "linear",
          "width": 1.3
         },
         "mode": "lines",
         "name": "trade_count",
         "text": "",
         "type": "scatter",
         "x": [
          0,
          1,
          2,
          3,
          4,
          5,
          6,
          7,
          8,
          9
         ],
         "y": [
          451478,
          42536,
          33470,
          22968,
          13916,
          49045,
          337980,
          140652,
          9497,
          11003
         ]
        },
        {
         "line": {
          "color": "rgba(128, 128, 0, 1.0)",
          "dash": "solid",
          "shape": "linear",
          "width": 1.3
         },
         "mode": "lines",
         "name": "vwap",
         "text": "",
         "type": "scatter",
         "x": [
          0,
          1,
          2,
          3,
          4,
          5,
          6,
          7,
          8,
          9
         ],
         "y": [
          177.800285,
          167.276451,
          175.731838,
          88.878485,
          664.279136,
          157.790413,
          145.522195,
          3350.069376,
          401.71911,
          798.856799
         ]
        },
        {
         "line": {
          "color": "rgba(251, 128, 114, 1.0)",
          "dash": "solid",
          "shape": "linear",
          "width": 1.3
         },
         "mode": "lines",
         "name": "symbol",
         "text": "",
         "type": "scatter",
         "x": [
          0,
          1,
          2,
          3,
          4,
          5,
          6,
          7,
          8,
          9
         ],
         "y": [
          "AAPL",
          "ABNB",
          "ADI",
          "AEP",
          "ALGN",
          "AMAT",
          "AMD",
          "AMZN",
          "ANSS",
          "ASML"
         ]
        }
       ],
       "layout": {
        "legend": {
         "bgcolor": "#F5F6F9",
         "font": {
          "color": "#4D5663"
         }
        },
        "paper_bgcolor": "#F5F6F9",
        "plot_bgcolor": "#F5F6F9",
        "template": {
         "data": {
          "bar": [
           {
            "error_x": {
             "color": "#2a3f5f"
            },
            "error_y": {
             "color": "#2a3f5f"
            },
            "marker": {
             "line": {
              "color": "#E5ECF6",
              "width": 0.5
             },
             "pattern": {
              "fillmode": "overlay",
              "size": 10,
              "solidity": 0.2
             }
            },
            "type": "bar"
           }
          ],
          "barpolar": [
           {
            "marker": {
             "line": {
              "color": "#E5ECF6",
              "width": 0.5
             },
             "pattern": {
              "fillmode": "overlay",
              "size": 10,
              "solidity": 0.2
             }
            },
            "type": "barpolar"
           }
          ],
          "carpet": [
           {
            "aaxis": {
             "endlinecolor": "#2a3f5f",
             "gridcolor": "white",
             "linecolor": "white",
             "minorgridcolor": "white",
             "startlinecolor": "#2a3f5f"
            },
            "baxis": {
             "endlinecolor": "#2a3f5f",
             "gridcolor": "white",
             "linecolor": "white",
             "minorgridcolor": "white",
             "startlinecolor": "#2a3f5f"
            },
            "type": "carpet"
           }
          ],
          "choropleth": [
           {
            "colorbar": {
             "outlinewidth": 0,
             "ticks": ""
            },
            "type": "choropleth"
           }
          ],
          "contour": [
           {
            "colorbar": {
             "outlinewidth": 0,
             "ticks": ""
            },
            "colorscale": [
             [
              0,
              "#0d0887"
             ],
             [
              0.1111111111111111,
              "#46039f"
             ],
             [
              0.2222222222222222,
              "#7201a8"
             ],
             [
              0.3333333333333333,
              "#9c179e"
             ],
             [
              0.4444444444444444,
              "#bd3786"
             ],
             [
              0.5555555555555556,
              "#d8576b"
             ],
             [
              0.6666666666666666,
              "#ed7953"
             ],
             [
              0.7777777777777778,
              "#fb9f3a"
             ],
             [
              0.8888888888888888,
              "#fdca26"
             ],
             [
              1,
              "#f0f921"
             ]
            ],
            "type": "contour"
           }
          ],
          "contourcarpet": [
           {
            "colorbar": {
             "outlinewidth": 0,
             "ticks": ""
            },
            "type": "contourcarpet"
           }
          ],
          "heatmap": [
           {
            "colorbar": {
             "outlinewidth": 0,
             "ticks": ""
            },
            "colorscale": [
             [
              0,
              "#0d0887"
             ],
             [
              0.1111111111111111,
              "#46039f"
             ],
             [
              0.2222222222222222,
              "#7201a8"
             ],
             [
              0.3333333333333333,
              "#9c179e"
             ],
             [
              0.4444444444444444,
              "#bd3786"
             ],
             [
              0.5555555555555556,
              "#d8576b"
             ],
             [
              0.6666666666666666,
              "#ed7953"
             ],
             [
              0.7777777777777778,
              "#fb9f3a"
             ],
             [
              0.8888888888888888,
              "#fdca26"
             ],
             [
              1,
              "#f0f921"
             ]
            ],
            "type": "heatmap"
           }
          ],
          "heatmapgl": [
           {
            "colorbar": {
             "outlinewidth": 0,
             "ticks": ""
            },
            "colorscale": [
             [
              0,
              "#0d0887"
             ],
             [
              0.1111111111111111,
              "#46039f"
             ],
             [
              0.2222222222222222,
              "#7201a8"
             ],
             [
              0.3333333333333333,
              "#9c179e"
             ],
             [
              0.4444444444444444,
              "#bd3786"
             ],
             [
              0.5555555555555556,
              "#d8576b"
             ],
             [
              0.6666666666666666,
              "#ed7953"
             ],
             [
              0.7777777777777778,
              "#fb9f3a"
             ],
             [
              0.8888888888888888,
              "#fdca26"
             ],
             [
              1,
              "#f0f921"
             ]
            ],
            "type": "heatmapgl"
           }
          ],
          "histogram": [
           {
            "marker": {
             "pattern": {
              "fillmode": "overlay",
              "size": 10,
              "solidity": 0.2
             }
            },
            "type": "histogram"
           }
          ],
          "histogram2d": [
           {
            "colorbar": {
             "outlinewidth": 0,
             "ticks": ""
            },
            "colorscale": [
             [
              0,
              "#0d0887"
             ],
             [
              0.1111111111111111,
              "#46039f"
             ],
             [
              0.2222222222222222,
              "#7201a8"
             ],
             [
              0.3333333333333333,
              "#9c179e"
             ],
             [
              0.4444444444444444,
              "#bd3786"
             ],
             [
              0.5555555555555556,
              "#d8576b"
             ],
             [
              0.6666666666666666,
              "#ed7953"
             ],
             [
              0.7777777777777778,
              "#fb9f3a"
             ],
             [
              0.8888888888888888,
              "#fdca26"
             ],
             [
              1,
              "#f0f921"
             ]
            ],
            "type": "histogram2d"
           }
          ],
          "histogram2dcontour": [
           {
            "colorbar": {
             "outlinewidth": 0,
             "ticks": ""
            },
            "colorscale": [
             [
              0,
              "#0d0887"
             ],
             [
              0.1111111111111111,
              "#46039f"
             ],
             [
              0.2222222222222222,
              "#7201a8"
             ],
             [
              0.3333333333333333,
              "#9c179e"
             ],
             [
              0.4444444444444444,
              "#bd3786"
             ],
             [
              0.5555555555555556,
              "#d8576b"
             ],
             [
              0.6666666666666666,
              "#ed7953"
             ],
             [
              0.7777777777777778,
              "#fb9f3a"
             ],
             [
              0.8888888888888888,
              "#fdca26"
             ],
             [
              1,
              "#f0f921"
             ]
            ],
            "type": "histogram2dcontour"
           }
          ],
          "mesh3d": [
           {
            "colorbar": {
             "outlinewidth": 0,
             "ticks": ""
            },
            "type": "mesh3d"
           }
          ],
          "parcoords": [
           {
            "line": {
             "colorbar": {
              "outlinewidth": 0,
              "ticks": ""
             }
            },
            "type": "parcoords"
           }
          ],
          "pie": [
           {
            "automargin": true,
            "type": "pie"
           }
          ],
          "scatter": [
           {
            "fillpattern": {
             "fillmode": "overlay",
             "size": 10,
             "solidity": 0.2
            },
            "type": "scatter"
           }
          ],
          "scatter3d": [
           {
            "line": {
             "colorbar": {
              "outlinewidth": 0,
              "ticks": ""
             }
            },
            "marker": {
             "colorbar": {
              "outlinewidth": 0,
              "ticks": ""
             }
            },
            "type": "scatter3d"
           }
          ],
          "scattercarpet": [
           {
            "marker": {
             "colorbar": {
              "outlinewidth": 0,
              "ticks": ""
             }
            },
            "type": "scattercarpet"
           }
          ],
          "scattergeo": [
           {
            "marker": {
             "colorbar": {
              "outlinewidth": 0,
              "ticks": ""
             }
            },
            "type": "scattergeo"
           }
          ],
          "scattergl": [
           {
            "marker": {
             "colorbar": {
              "outlinewidth": 0,
              "ticks": ""
             }
            },
            "type": "scattergl"
           }
          ],
          "scattermapbox": [
           {
            "marker": {
             "colorbar": {
              "outlinewidth": 0,
              "ticks": ""
             }
            },
            "type": "scattermapbox"
           }
          ],
          "scatterpolar": [
           {
            "marker": {
             "colorbar": {
              "outlinewidth": 0,
              "ticks": ""
             }
            },
            "type": "scatterpolar"
           }
          ],
          "scatterpolargl": [
           {
            "marker": {
             "colorbar": {
              "outlinewidth": 0,
              "ticks": ""
             }
            },
            "type": "scatterpolargl"
           }
          ],
          "scatterternary": [
           {
            "marker": {
             "colorbar": {
              "outlinewidth": 0,
              "ticks": ""
             }
            },
            "type": "scatterternary"
           }
          ],
          "surface": [
           {
            "colorbar": {
             "outlinewidth": 0,
             "ticks": ""
            },
            "colorscale": [
             [
              0,
              "#0d0887"
             ],
             [
              0.1111111111111111,
              "#46039f"
             ],
             [
              0.2222222222222222,
              "#7201a8"
             ],
             [
              0.3333333333333333,
              "#9c179e"
             ],
             [
              0.4444444444444444,
              "#bd3786"
             ],
             [
              0.5555555555555556,
              "#d8576b"
             ],
             [
              0.6666666666666666,
              "#ed7953"
             ],
             [
              0.7777777777777778,
              "#fb9f3a"
             ],
             [
              0.8888888888888888,
              "#fdca26"
             ],
             [
              1,
              "#f0f921"
             ]
            ],
            "type": "surface"
           }
          ],
          "table": [
           {
            "cells": {
             "fill": {
              "color": "#EBF0F8"
             },
             "line": {
              "color": "white"
             }
            },
            "header": {
             "fill": {
              "color": "#C8D4E3"
             },
             "line": {
              "color": "white"
             }
            },
            "type": "table"
           }
          ]
         },
         "layout": {
          "annotationdefaults": {
           "arrowcolor": "#2a3f5f",
           "arrowhead": 0,
           "arrowwidth": 1
          },
          "autotypenumbers": "strict",
          "coloraxis": {
           "colorbar": {
            "outlinewidth": 0,
            "ticks": ""
           }
          },
          "colorscale": {
           "diverging": [
            [
             0,
             "#8e0152"
            ],
            [
             0.1,
             "#c51b7d"
            ],
            [
             0.2,
             "#de77ae"
            ],
            [
             0.3,
             "#f1b6da"
            ],
            [
             0.4,
             "#fde0ef"
            ],
            [
             0.5,
             "#f7f7f7"
            ],
            [
             0.6,
             "#e6f5d0"
            ],
            [
             0.7,
             "#b8e186"
            ],
            [
             0.8,
             "#7fbc41"
            ],
            [
             0.9,
             "#4d9221"
            ],
            [
             1,
             "#276419"
            ]
           ],
           "sequential": [
            [
             0,
             "#0d0887"
            ],
            [
             0.1111111111111111,
             "#46039f"
            ],
            [
             0.2222222222222222,
             "#7201a8"
            ],
            [
             0.3333333333333333,
             "#9c179e"
            ],
            [
             0.4444444444444444,
             "#bd3786"
            ],
            [
             0.5555555555555556,
             "#d8576b"
            ],
            [
             0.6666666666666666,
             "#ed7953"
            ],
            [
             0.7777777777777778,
             "#fb9f3a"
            ],
            [
             0.8888888888888888,
             "#fdca26"
            ],
            [
             1,
             "#f0f921"
            ]
           ],
           "sequentialminus": [
            [
             0,
             "#0d0887"
            ],
            [
             0.1111111111111111,
             "#46039f"
            ],
            [
             0.2222222222222222,
             "#7201a8"
            ],
            [
             0.3333333333333333,
             "#9c179e"
            ],
            [
             0.4444444444444444,
             "#bd3786"
            ],
            [
             0.5555555555555556,
             "#d8576b"
            ],
            [
             0.6666666666666666,
             "#ed7953"
            ],
            [
             0.7777777777777778,
             "#fb9f3a"
            ],
            [
             0.8888888888888888,
             "#fdca26"
            ],
            [
             1,
             "#f0f921"
            ]
           ]
          },
          "colorway": [
           "#636efa",
           "#EF553B",
           "#00cc96",
           "#ab63fa",
           "#FFA15A",
           "#19d3f3",
           "#FF6692",
           "#B6E880",
           "#FF97FF",
           "#FECB52"
          ],
          "font": {
           "color": "#2a3f5f"
          },
          "geo": {
           "bgcolor": "white",
           "lakecolor": "white",
           "landcolor": "#E5ECF6",
           "showlakes": true,
           "showland": true,
           "subunitcolor": "white"
          },
          "hoverlabel": {
           "align": "left"
          },
          "hovermode": "closest",
          "mapbox": {
           "style": "light"
          },
          "paper_bgcolor": "white",
          "plot_bgcolor": "#E5ECF6",
          "polar": {
           "angularaxis": {
            "gridcolor": "white",
            "linecolor": "white",
            "ticks": ""
           },
           "bgcolor": "#E5ECF6",
           "radialaxis": {
            "gridcolor": "white",
            "linecolor": "white",
            "ticks": ""
           }
          },
          "scene": {
           "xaxis": {
            "backgroundcolor": "#E5ECF6",
            "gridcolor": "white",
            "gridwidth": 2,
            "linecolor": "white",
            "showbackground": true,
            "ticks": "",
            "zerolinecolor": "white"
           },
           "yaxis": {
            "backgroundcolor": "#E5ECF6",
            "gridcolor": "white",
            "gridwidth": 2,
            "linecolor": "white",
            "showbackground": true,
            "ticks": "",
            "zerolinecolor": "white"
           },
           "zaxis": {
            "backgroundcolor": "#E5ECF6",
            "gridcolor": "white",
            "gridwidth": 2,
            "linecolor": "white",
            "showbackground": true,
            "ticks": "",
            "zerolinecolor": "white"
           }
          },
          "shapedefaults": {
           "line": {
            "color": "#2a3f5f"
           }
          },
          "ternary": {
           "aaxis": {
            "gridcolor": "white",
            "linecolor": "white",
            "ticks": ""
           },
           "baxis": {
            "gridcolor": "white",
            "linecolor": "white",
            "ticks": ""
           },
           "bgcolor": "#E5ECF6",
           "caxis": {
            "gridcolor": "white",
            "linecolor": "white",
            "ticks": ""
           }
          },
          "title": {
           "x": 0.05
          },
          "xaxis": {
           "automargin": true,
           "gridcolor": "white",
           "linecolor": "white",
           "ticks": "",
           "title": {
            "standoff": 15
           },
           "zerolinecolor": "white",
           "zerolinewidth": 2
          },
          "yaxis": {
           "automargin": true,
           "gridcolor": "white",
           "linecolor": "white",
           "ticks": "",
           "title": {
            "standoff": 15
           },
           "zerolinecolor": "white",
           "zerolinewidth": 2
          }
         }
        },
        "title": {
         "font": {
          "color": "#4D5663"
         }
        },
        "xaxis": {
         "gridcolor": "#E1E5ED",
         "showgrid": true,
         "tickfont": {
          "color": "#4D5663"
         },
         "title": {
          "font": {
           "color": "#4D5663"
          },
          "text": ""
         },
         "zerolinecolor": "#E1E5ED"
        },
        "yaxis": {
         "gridcolor": "#E1E5ED",
         "showgrid": true,
         "tickfont": {
          "color": "#4D5663"
         },
         "title": {
          "font": {
           "color": "#4D5663"
          },
          "text": ""
         },
         "zerolinecolor": "#E1E5ED"
        }
       }
      },
      "text/html": [
       "<div>                            <div id=\"af8ccd62-4d7a-4e98-b758-dc036eb09eb1\" class=\"plotly-graph-div\" style=\"height:525px; width:100%;\"></div>            <script type=\"text/javascript\">                require([\"plotly\"], function(Plotly) {                    window.PLOTLYENV=window.PLOTLYENV || {};\n",
       "                    window.PLOTLYENV.BASE_URL='https://plot.ly';                                    if (document.getElementById(\"af8ccd62-4d7a-4e98-b758-dc036eb09eb1\")) {                    Plotly.newPlot(                        \"af8ccd62-4d7a-4e98-b758-dc036eb09eb1\",                        [{\"line\":{\"color\":\"rgba(255, 153, 51, 1.0)\",\"dash\":\"solid\",\"shape\":\"linear\",\"width\":1.3},\"mode\":\"lines\",\"name\":\"timestamp\",\"text\":\"\",\"x\":[0,1,2,3,4,5,6,7,8,9],\"y\":[\"2021-12-31T05:00:00.000000000\",\"2021-12-31T05:00:00.000000000\",\"2021-12-31T05:00:00.000000000\",\"2021-12-31T05:00:00.000000000\",\"2021-12-31T05:00:00.000000000\",\"2021-12-31T05:00:00.000000000\",\"2021-12-31T05:00:00.000000000\",\"2021-12-31T05:00:00.000000000\",\"2021-12-31T05:00:00.000000000\",\"2021-12-31T05:00:00.000000000\"],\"type\":\"scatter\"},{\"line\":{\"color\":\"rgba(55, 128, 191, 1.0)\",\"dash\":\"solid\",\"shape\":\"linear\",\"width\":1.3},\"mode\":\"lines\",\"name\":\"open\",\"text\":\"\",\"x\":[0,1,2,3,4,5,6,7,8,9],\"y\":[178.0,168.78,174.75,88.64,660.95,158.14,145.96,3379.12,404.9,801.51],\"type\":\"scatter\"},{\"line\":{\"color\":\"rgba(50, 171, 96, 1.0)\",\"dash\":\"solid\",\"shape\":\"linear\",\"width\":1.3},\"mode\":\"lines\",\"name\":\"high\",\"text\":\"\",\"x\":[0,1,2,3,4,5,6,7,8,9],\"y\":[179.23,170.87,176.66,89.22,674.89,159.67,148.61,3387.0,405.865,805.2792],\"type\":\"scatter\"},{\"line\":{\"color\":\"rgba(128, 0, 128, 1.0)\",\"dash\":\"solid\",\"shape\":\"linear\",\"width\":1.3},\"mode\":\"lines\",\"name\":\"low\",\"text\":\"\",\"x\":[0,1,2,3,4,5,6,7,8,9],\"y\":[177.26,166.08,174.58,88.3,655.62,157.04,143.55,3331.17,400.47,795.88],\"type\":\"scatter\"},{\"line\":{\"color\":\"rgba(219, 64, 82, 1.0)\",\"dash\":\"solid\",\"shape\":\"linear\",\"width\":1.3},\"mode\":\"lines\",\"name\":\"close\",\"text\":\"\",\"x\":[0,1,2,3,4,5,6,7,8,9],\"y\":[177.57,166.49,175.77,88.97,657.18,157.36,143.9,3334.34,401.12,796.14],\"type\":\"scatter\"},{\"line\":{\"color\":\"rgba(0, 128, 128, 1.0)\",\"dash\":\"solid\",\"shape\":\"linear\",\"width\":1.3},\"mode\":\"lines\",\"name\":\"volume\",\"text\":\"\",\"x\":[0,1,2,3,4,5,6,7,8,9],\"y\":[64038680,2595087,1916631,1519921,461369,3592320,49445338,2430474,316756,236422],\"type\":\"scatter\"},{\"line\":{\"color\":\"rgba(255, 255, 51, 1.0)\",\"dash\":\"solid\",\"shape\":\"linear\",\"width\":1.3},\"mode\":\"lines\",\"name\":\"trade_count\",\"text\":\"\",\"x\":[0,1,2,3,4,5,6,7,8,9],\"y\":[451478,42536,33470,22968,13916,49045,337980,140652,9497,11003],\"type\":\"scatter\"},{\"line\":{\"color\":\"rgba(128, 128, 0, 1.0)\",\"dash\":\"solid\",\"shape\":\"linear\",\"width\":1.3},\"mode\":\"lines\",\"name\":\"vwap\",\"text\":\"\",\"x\":[0,1,2,3,4,5,6,7,8,9],\"y\":[177.800285,167.276451,175.731838,88.878485,664.279136,157.790413,145.522195,3350.069376,401.71911,798.856799],\"type\":\"scatter\"},{\"line\":{\"color\":\"rgba(251, 128, 114, 1.0)\",\"dash\":\"solid\",\"shape\":\"linear\",\"width\":1.3},\"mode\":\"lines\",\"name\":\"symbol\",\"text\":\"\",\"x\":[0,1,2,3,4,5,6,7,8,9],\"y\":[\"AAPL\",\"ABNB\",\"ADI\",\"AEP\",\"ALGN\",\"AMAT\",\"AMD\",\"AMZN\",\"ANSS\",\"ASML\"],\"type\":\"scatter\"}],                        {\"legend\":{\"bgcolor\":\"#F5F6F9\",\"font\":{\"color\":\"#4D5663\"}},\"paper_bgcolor\":\"#F5F6F9\",\"plot_bgcolor\":\"#F5F6F9\",\"template\":{\"data\":{\"barpolar\":[{\"marker\":{\"line\":{\"color\":\"#E5ECF6\",\"width\":0.5},\"pattern\":{\"fillmode\":\"overlay\",\"size\":10,\"solidity\":0.2}},\"type\":\"barpolar\"}],\"bar\":[{\"error_x\":{\"color\":\"#2a3f5f\"},\"error_y\":{\"color\":\"#2a3f5f\"},\"marker\":{\"line\":{\"color\":\"#E5ECF6\",\"width\":0.5},\"pattern\":{\"fillmode\":\"overlay\",\"size\":10,\"solidity\":0.2}},\"type\":\"bar\"}],\"carpet\":[{\"aaxis\":{\"endlinecolor\":\"#2a3f5f\",\"gridcolor\":\"white\",\"linecolor\":\"white\",\"minorgridcolor\":\"white\",\"startlinecolor\":\"#2a3f5f\"},\"baxis\":{\"endlinecolor\":\"#2a3f5f\",\"gridcolor\":\"white\",\"linecolor\":\"white\",\"minorgridcolor\":\"white\",\"startlinecolor\":\"#2a3f5f\"},\"type\":\"carpet\"}],\"choropleth\":[{\"colorbar\":{\"outlinewidth\":0,\"ticks\":\"\"},\"type\":\"choropleth\"}],\"contourcarpet\":[{\"colorbar\":{\"outlinewidth\":0,\"ticks\":\"\"},\"type\":\"contourcarpet\"}],\"contour\":[{\"colorbar\":{\"outlinewidth\":0,\"ticks\":\"\"},\"colorscale\":[[0.0,\"#0d0887\"],[0.1111111111111111,\"#46039f\"],[0.2222222222222222,\"#7201a8\"],[0.3333333333333333,\"#9c179e\"],[0.4444444444444444,\"#bd3786\"],[0.5555555555555556,\"#d8576b\"],[0.6666666666666666,\"#ed7953\"],[0.7777777777777778,\"#fb9f3a\"],[0.8888888888888888,\"#fdca26\"],[1.0,\"#f0f921\"]],\"type\":\"contour\"}],\"heatmapgl\":[{\"colorbar\":{\"outlinewidth\":0,\"ticks\":\"\"},\"colorscale\":[[0.0,\"#0d0887\"],[0.1111111111111111,\"#46039f\"],[0.2222222222222222,\"#7201a8\"],[0.3333333333333333,\"#9c179e\"],[0.4444444444444444,\"#bd3786\"],[0.5555555555555556,\"#d8576b\"],[0.6666666666666666,\"#ed7953\"],[0.7777777777777778,\"#fb9f3a\"],[0.8888888888888888,\"#fdca26\"],[1.0,\"#f0f921\"]],\"type\":\"heatmapgl\"}],\"heatmap\":[{\"colorbar\":{\"outlinewidth\":0,\"ticks\":\"\"},\"colorscale\":[[0.0,\"#0d0887\"],[0.1111111111111111,\"#46039f\"],[0.2222222222222222,\"#7201a8\"],[0.3333333333333333,\"#9c179e\"],[0.4444444444444444,\"#bd3786\"],[0.5555555555555556,\"#d8576b\"],[0.6666666666666666,\"#ed7953\"],[0.7777777777777778,\"#fb9f3a\"],[0.8888888888888888,\"#fdca26\"],[1.0,\"#f0f921\"]],\"type\":\"heatmap\"}],\"histogram2dcontour\":[{\"colorbar\":{\"outlinewidth\":0,\"ticks\":\"\"},\"colorscale\":[[0.0,\"#0d0887\"],[0.1111111111111111,\"#46039f\"],[0.2222222222222222,\"#7201a8\"],[0.3333333333333333,\"#9c179e\"],[0.4444444444444444,\"#bd3786\"],[0.5555555555555556,\"#d8576b\"],[0.6666666666666666,\"#ed7953\"],[0.7777777777777778,\"#fb9f3a\"],[0.8888888888888888,\"#fdca26\"],[1.0,\"#f0f921\"]],\"type\":\"histogram2dcontour\"}],\"histogram2d\":[{\"colorbar\":{\"outlinewidth\":0,\"ticks\":\"\"},\"colorscale\":[[0.0,\"#0d0887\"],[0.1111111111111111,\"#46039f\"],[0.2222222222222222,\"#7201a8\"],[0.3333333333333333,\"#9c179e\"],[0.4444444444444444,\"#bd3786\"],[0.5555555555555556,\"#d8576b\"],[0.6666666666666666,\"#ed7953\"],[0.7777777777777778,\"#fb9f3a\"],[0.8888888888888888,\"#fdca26\"],[1.0,\"#f0f921\"]],\"type\":\"histogram2d\"}],\"histogram\":[{\"marker\":{\"pattern\":{\"fillmode\":\"overlay\",\"size\":10,\"solidity\":0.2}},\"type\":\"histogram\"}],\"mesh3d\":[{\"colorbar\":{\"outlinewidth\":0,\"ticks\":\"\"},\"type\":\"mesh3d\"}],\"parcoords\":[{\"line\":{\"colorbar\":{\"outlinewidth\":0,\"ticks\":\"\"}},\"type\":\"parcoords\"}],\"pie\":[{\"automargin\":true,\"type\":\"pie\"}],\"scatter3d\":[{\"line\":{\"colorbar\":{\"outlinewidth\":0,\"ticks\":\"\"}},\"marker\":{\"colorbar\":{\"outlinewidth\":0,\"ticks\":\"\"}},\"type\":\"scatter3d\"}],\"scattercarpet\":[{\"marker\":{\"colorbar\":{\"outlinewidth\":0,\"ticks\":\"\"}},\"type\":\"scattercarpet\"}],\"scattergeo\":[{\"marker\":{\"colorbar\":{\"outlinewidth\":0,\"ticks\":\"\"}},\"type\":\"scattergeo\"}],\"scattergl\":[{\"marker\":{\"colorbar\":{\"outlinewidth\":0,\"ticks\":\"\"}},\"type\":\"scattergl\"}],\"scattermapbox\":[{\"marker\":{\"colorbar\":{\"outlinewidth\":0,\"ticks\":\"\"}},\"type\":\"scattermapbox\"}],\"scatterpolargl\":[{\"marker\":{\"colorbar\":{\"outlinewidth\":0,\"ticks\":\"\"}},\"type\":\"scatterpolargl\"}],\"scatterpolar\":[{\"marker\":{\"colorbar\":{\"outlinewidth\":0,\"ticks\":\"\"}},\"type\":\"scatterpolar\"}],\"scatter\":[{\"fillpattern\":{\"fillmode\":\"overlay\",\"size\":10,\"solidity\":0.2},\"type\":\"scatter\"}],\"scatterternary\":[{\"marker\":{\"colorbar\":{\"outlinewidth\":0,\"ticks\":\"\"}},\"type\":\"scatterternary\"}],\"surface\":[{\"colorbar\":{\"outlinewidth\":0,\"ticks\":\"\"},\"colorscale\":[[0.0,\"#0d0887\"],[0.1111111111111111,\"#46039f\"],[0.2222222222222222,\"#7201a8\"],[0.3333333333333333,\"#9c179e\"],[0.4444444444444444,\"#bd3786\"],[0.5555555555555556,\"#d8576b\"],[0.6666666666666666,\"#ed7953\"],[0.7777777777777778,\"#fb9f3a\"],[0.8888888888888888,\"#fdca26\"],[1.0,\"#f0f921\"]],\"type\":\"surface\"}],\"table\":[{\"cells\":{\"fill\":{\"color\":\"#EBF0F8\"},\"line\":{\"color\":\"white\"}},\"header\":{\"fill\":{\"color\":\"#C8D4E3\"},\"line\":{\"color\":\"white\"}},\"type\":\"table\"}]},\"layout\":{\"annotationdefaults\":{\"arrowcolor\":\"#2a3f5f\",\"arrowhead\":0,\"arrowwidth\":1},\"autotypenumbers\":\"strict\",\"coloraxis\":{\"colorbar\":{\"outlinewidth\":0,\"ticks\":\"\"}},\"colorscale\":{\"diverging\":[[0,\"#8e0152\"],[0.1,\"#c51b7d\"],[0.2,\"#de77ae\"],[0.3,\"#f1b6da\"],[0.4,\"#fde0ef\"],[0.5,\"#f7f7f7\"],[0.6,\"#e6f5d0\"],[0.7,\"#b8e186\"],[0.8,\"#7fbc41\"],[0.9,\"#4d9221\"],[1,\"#276419\"]],\"sequential\":[[0.0,\"#0d0887\"],[0.1111111111111111,\"#46039f\"],[0.2222222222222222,\"#7201a8\"],[0.3333333333333333,\"#9c179e\"],[0.4444444444444444,\"#bd3786\"],[0.5555555555555556,\"#d8576b\"],[0.6666666666666666,\"#ed7953\"],[0.7777777777777778,\"#fb9f3a\"],[0.8888888888888888,\"#fdca26\"],[1.0,\"#f0f921\"]],\"sequentialminus\":[[0.0,\"#0d0887\"],[0.1111111111111111,\"#46039f\"],[0.2222222222222222,\"#7201a8\"],[0.3333333333333333,\"#9c179e\"],[0.4444444444444444,\"#bd3786\"],[0.5555555555555556,\"#d8576b\"],[0.6666666666666666,\"#ed7953\"],[0.7777777777777778,\"#fb9f3a\"],[0.8888888888888888,\"#fdca26\"],[1.0,\"#f0f921\"]]},\"colorway\":[\"#636efa\",\"#EF553B\",\"#00cc96\",\"#ab63fa\",\"#FFA15A\",\"#19d3f3\",\"#FF6692\",\"#B6E880\",\"#FF97FF\",\"#FECB52\"],\"font\":{\"color\":\"#2a3f5f\"},\"geo\":{\"bgcolor\":\"white\",\"lakecolor\":\"white\",\"landcolor\":\"#E5ECF6\",\"showlakes\":true,\"showland\":true,\"subunitcolor\":\"white\"},\"hoverlabel\":{\"align\":\"left\"},\"hovermode\":\"closest\",\"mapbox\":{\"style\":\"light\"},\"paper_bgcolor\":\"white\",\"plot_bgcolor\":\"#E5ECF6\",\"polar\":{\"angularaxis\":{\"gridcolor\":\"white\",\"linecolor\":\"white\",\"ticks\":\"\"},\"bgcolor\":\"#E5ECF6\",\"radialaxis\":{\"gridcolor\":\"white\",\"linecolor\":\"white\",\"ticks\":\"\"}},\"scene\":{\"xaxis\":{\"backgroundcolor\":\"#E5ECF6\",\"gridcolor\":\"white\",\"gridwidth\":2,\"linecolor\":\"white\",\"showbackground\":true,\"ticks\":\"\",\"zerolinecolor\":\"white\"},\"yaxis\":{\"backgroundcolor\":\"#E5ECF6\",\"gridcolor\":\"white\",\"gridwidth\":2,\"linecolor\":\"white\",\"showbackground\":true,\"ticks\":\"\",\"zerolinecolor\":\"white\"},\"zaxis\":{\"backgroundcolor\":\"#E5ECF6\",\"gridcolor\":\"white\",\"gridwidth\":2,\"linecolor\":\"white\",\"showbackground\":true,\"ticks\":\"\",\"zerolinecolor\":\"white\"}},\"shapedefaults\":{\"line\":{\"color\":\"#2a3f5f\"}},\"ternary\":{\"aaxis\":{\"gridcolor\":\"white\",\"linecolor\":\"white\",\"ticks\":\"\"},\"baxis\":{\"gridcolor\":\"white\",\"linecolor\":\"white\",\"ticks\":\"\"},\"bgcolor\":\"#E5ECF6\",\"caxis\":{\"gridcolor\":\"white\",\"linecolor\":\"white\",\"ticks\":\"\"}},\"title\":{\"x\":0.05},\"xaxis\":{\"automargin\":true,\"gridcolor\":\"white\",\"linecolor\":\"white\",\"ticks\":\"\",\"title\":{\"standoff\":15},\"zerolinecolor\":\"white\",\"zerolinewidth\":2},\"yaxis\":{\"automargin\":true,\"gridcolor\":\"white\",\"linecolor\":\"white\",\"ticks\":\"\",\"title\":{\"standoff\":15},\"zerolinecolor\":\"white\",\"zerolinewidth\":2}}},\"title\":{\"font\":{\"color\":\"#4D5663\"}},\"xaxis\":{\"gridcolor\":\"#E1E5ED\",\"showgrid\":true,\"tickfont\":{\"color\":\"#4D5663\"},\"title\":{\"font\":{\"color\":\"#4D5663\"},\"text\":\"\"},\"zerolinecolor\":\"#E1E5ED\"},\"yaxis\":{\"gridcolor\":\"#E1E5ED\",\"showgrid\":true,\"tickfont\":{\"color\":\"#4D5663\"},\"title\":{\"font\":{\"color\":\"#4D5663\"},\"text\":\"\"},\"zerolinecolor\":\"#E1E5ED\"}},                        {\"showLink\": true, \"linkText\": \"Export to plot.ly\", \"plotlyServerURL\": \"https://plot.ly\", \"responsive\": true}                    ).then(function(){\n",
       "                            \n",
       "var gd = document.getElementById('af8ccd62-4d7a-4e98-b758-dc036eb09eb1');\n",
       "var x = new MutationObserver(function (mutations, observer) {{\n",
       "        var display = window.getComputedStyle(gd).display;\n",
       "        if (!display || display === 'none') {{\n",
       "            console.log([gd, 'removed!']);\n",
       "            Plotly.purge(gd);\n",
       "            observer.disconnect();\n",
       "        }}\n",
       "}});\n",
       "\n",
       "// Listen for the removal of the full notebook cells\n",
       "var notebookContainer = gd.closest('#notebook-container');\n",
       "if (notebookContainer) {{\n",
       "    x.observe(notebookContainer, {childList: true});\n",
       "}}\n",
       "\n",
       "// Listen for the clearing of the current output cell\n",
       "var outputEl = gd.closest('.output');\n",
       "if (outputEl) {{\n",
       "    x.observe(outputEl, {childList: true});\n",
       "}}\n",
       "\n",
       "                        })                };                });            </script>        </div>"
      ]
     },
     "metadata": {},
     "output_type": "display_data"
    }
   ],
   "source": [
    "last_day.iplot()"
   ]
  },
  {
   "cell_type": "code",
   "execution_count": 374,
   "metadata": {},
   "outputs": [],
   "source": [
    "initial_investment = 10000\n",
    "# 10% of 10000 = 1000 to buy a number of share\n",
    "first_day['share'] = (0.01*initial_investment)\n",
    "first_day['share'] = ((0.01*initial_investment)/first_day['close'])\n",
    "\n",
    "first_day['value'] = first_day['share'] * first_day['close']\n",
    "\n",
    "#first_day_AAPL = (.01*initial_investment)/ day_1"
   ]
  },
  {
   "cell_type": "code",
   "execution_count": 375,
   "metadata": {},
   "outputs": [
    {
     "data": {
      "text/html": [
       "<div>\n",
       "<style scoped>\n",
       "    .dataframe tbody tr th:only-of-type {\n",
       "        vertical-align: middle;\n",
       "    }\n",
       "\n",
       "    .dataframe tbody tr th {\n",
       "        vertical-align: top;\n",
       "    }\n",
       "\n",
       "    .dataframe thead th {\n",
       "        text-align: right;\n",
       "    }\n",
       "</style>\n",
       "<table border=\"1\" class=\"dataframe\">\n",
       "  <thead>\n",
       "    <tr style=\"text-align: right;\">\n",
       "      <th></th>\n",
       "      <th>timestamp</th>\n",
       "      <th>open</th>\n",
       "      <th>high</th>\n",
       "      <th>low</th>\n",
       "      <th>close</th>\n",
       "      <th>volume</th>\n",
       "      <th>trade_count</th>\n",
       "      <th>vwap</th>\n",
       "      <th>symbol</th>\n",
       "      <th>share</th>\n",
       "      <th>value</th>\n",
       "    </tr>\n",
       "  </thead>\n",
       "  <tbody>\n",
       "    <tr>\n",
       "      <th>0</th>\n",
       "      <td>2021-01-04 05:00:00+00:00</td>\n",
       "      <td>133.56</td>\n",
       "      <td>133.6116</td>\n",
       "      <td>126.760</td>\n",
       "      <td>129.41</td>\n",
       "      <td>143302687</td>\n",
       "      <td>1310228</td>\n",
       "      <td>129.732580</td>\n",
       "      <td>AAPL</td>\n",
       "      <td>0.772738</td>\n",
       "      <td>100.0</td>\n",
       "    </tr>\n",
       "    <tr>\n",
       "      <th>1</th>\n",
       "      <td>2021-01-04 05:00:00+00:00</td>\n",
       "      <td>151.00</td>\n",
       "      <td>151.0050</td>\n",
       "      <td>137.000</td>\n",
       "      <td>139.15</td>\n",
       "      <td>6415486</td>\n",
       "      <td>106339</td>\n",
       "      <td>142.505350</td>\n",
       "      <td>ABNB</td>\n",
       "      <td>0.718649</td>\n",
       "      <td>100.0</td>\n",
       "    </tr>\n",
       "    <tr>\n",
       "      <th>2</th>\n",
       "      <td>2021-01-04 05:00:00+00:00</td>\n",
       "      <td>148.45</td>\n",
       "      <td>150.5450</td>\n",
       "      <td>144.620</td>\n",
       "      <td>146.02</td>\n",
       "      <td>2496642</td>\n",
       "      <td>43136</td>\n",
       "      <td>146.980214</td>\n",
       "      <td>ADI</td>\n",
       "      <td>0.684838</td>\n",
       "      <td>100.0</td>\n",
       "    </tr>\n",
       "    <tr>\n",
       "      <th>3</th>\n",
       "      <td>2021-01-04 05:00:00+00:00</td>\n",
       "      <td>83.33</td>\n",
       "      <td>83.4400</td>\n",
       "      <td>81.205</td>\n",
       "      <td>81.54</td>\n",
       "      <td>3232971</td>\n",
       "      <td>34798</td>\n",
       "      <td>81.783354</td>\n",
       "      <td>AEP</td>\n",
       "      <td>1.226392</td>\n",
       "      <td>100.0</td>\n",
       "    </tr>\n",
       "    <tr>\n",
       "      <th>4</th>\n",
       "      <td>2021-01-04 05:00:00+00:00</td>\n",
       "      <td>549.61</td>\n",
       "      <td>560.0000</td>\n",
       "      <td>519.700</td>\n",
       "      <td>526.46</td>\n",
       "      <td>602433</td>\n",
       "      <td>18222</td>\n",
       "      <td>534.162545</td>\n",
       "      <td>ALGN</td>\n",
       "      <td>0.189948</td>\n",
       "      <td>100.0</td>\n",
       "    </tr>\n",
       "  </tbody>\n",
       "</table>\n",
       "</div>"
      ],
      "text/plain": [
       "                  timestamp    open      high      low   close     volume  \\\n",
       "0 2021-01-04 05:00:00+00:00  133.56  133.6116  126.760  129.41  143302687   \n",
       "1 2021-01-04 05:00:00+00:00  151.00  151.0050  137.000  139.15    6415486   \n",
       "2 2021-01-04 05:00:00+00:00  148.45  150.5450  144.620  146.02    2496642   \n",
       "3 2021-01-04 05:00:00+00:00   83.33   83.4400   81.205   81.54    3232971   \n",
       "4 2021-01-04 05:00:00+00:00  549.61  560.0000  519.700  526.46     602433   \n",
       "\n",
       "   trade_count        vwap symbol     share  value  \n",
       "0      1310228  129.732580   AAPL  0.772738  100.0  \n",
       "1       106339  142.505350   ABNB  0.718649  100.0  \n",
       "2        43136  146.980214    ADI  0.684838  100.0  \n",
       "3        34798   81.783354    AEP  1.226392  100.0  \n",
       "4        18222  534.162545   ALGN  0.189948  100.0  "
      ]
     },
     "execution_count": 375,
     "metadata": {},
     "output_type": "execute_result"
    }
   ],
   "source": [
    "first_day.head()"
   ]
  },
  {
   "cell_type": "code",
   "execution_count": 376,
   "metadata": {},
   "outputs": [],
   "source": [
    "#first_day.columns.names = ['Stock Info']\n",
    "\n",
    "#first_day"
   ]
  },
  {
   "cell_type": "code",
   "execution_count": 377,
   "metadata": {},
   "outputs": [
    {
     "name": "stderr",
     "output_type": "stream",
     "text": [
      "C:\\Users\\naaku\\anaconda3\\envs\\pyvizenv\\lib\\site-packages\\ipykernel_launcher.py:1: FutureWarning:\n",
      "\n",
      "Passing lists as key for xs is deprecated and will be removed in a future version. Pass key as a tuple instead.\n",
      "\n"
     ]
    },
    {
     "data": {
      "text/html": [
       "<div>\n",
       "<style scoped>\n",
       "    .dataframe tbody tr th:only-of-type {\n",
       "        vertical-align: middle;\n",
       "    }\n",
       "\n",
       "    .dataframe tbody tr th {\n",
       "        vertical-align: top;\n",
       "    }\n",
       "\n",
       "    .dataframe thead th {\n",
       "        text-align: right;\n",
       "    }\n",
       "</style>\n",
       "<table border=\"1\" class=\"dataframe\">\n",
       "  <thead>\n",
       "    <tr style=\"text-align: right;\">\n",
       "      <th></th>\n",
       "      <th>open</th>\n",
       "      <th>close</th>\n",
       "      <th>symbol</th>\n",
       "    </tr>\n",
       "  </thead>\n",
       "  <tbody>\n",
       "    <tr>\n",
       "      <th>0</th>\n",
       "      <td>133.56</td>\n",
       "      <td>129.41</td>\n",
       "      <td>AAPL</td>\n",
       "    </tr>\n",
       "    <tr>\n",
       "      <th>1</th>\n",
       "      <td>151.00</td>\n",
       "      <td>139.15</td>\n",
       "      <td>ABNB</td>\n",
       "    </tr>\n",
       "    <tr>\n",
       "      <th>2</th>\n",
       "      <td>148.45</td>\n",
       "      <td>146.02</td>\n",
       "      <td>ADI</td>\n",
       "    </tr>\n",
       "    <tr>\n",
       "      <th>3</th>\n",
       "      <td>83.33</td>\n",
       "      <td>81.54</td>\n",
       "      <td>AEP</td>\n",
       "    </tr>\n",
       "    <tr>\n",
       "      <th>4</th>\n",
       "      <td>549.61</td>\n",
       "      <td>526.46</td>\n",
       "      <td>ALGN</td>\n",
       "    </tr>\n",
       "    <tr>\n",
       "      <th>5</th>\n",
       "      <td>87.14</td>\n",
       "      <td>86.87</td>\n",
       "      <td>AMAT</td>\n",
       "    </tr>\n",
       "    <tr>\n",
       "      <th>6</th>\n",
       "      <td>92.13</td>\n",
       "      <td>92.30</td>\n",
       "      <td>AMD</td>\n",
       "    </tr>\n",
       "    <tr>\n",
       "      <th>7</th>\n",
       "      <td>3270.00</td>\n",
       "      <td>3186.63</td>\n",
       "      <td>AMZN</td>\n",
       "    </tr>\n",
       "    <tr>\n",
       "      <th>8</th>\n",
       "      <td>362.35</td>\n",
       "      <td>357.67</td>\n",
       "      <td>ANSS</td>\n",
       "    </tr>\n",
       "    <tr>\n",
       "      <th>9</th>\n",
       "      <td>499.99</td>\n",
       "      <td>500.00</td>\n",
       "      <td>ASML</td>\n",
       "    </tr>\n",
       "  </tbody>\n",
       "</table>\n",
       "</div>"
      ],
      "text/plain": [
       "      open    close symbol\n",
       "0   133.56   129.41   AAPL\n",
       "1   151.00   139.15   ABNB\n",
       "2   148.45   146.02    ADI\n",
       "3    83.33    81.54    AEP\n",
       "4   549.61   526.46   ALGN\n",
       "5    87.14    86.87   AMAT\n",
       "6    92.13    92.30    AMD\n",
       "7  3270.00  3186.63   AMZN\n",
       "8   362.35   357.67   ANSS\n",
       "9   499.99   500.00   ASML"
      ]
     },
     "execution_count": 377,
     "metadata": {},
     "output_type": "execute_result"
    }
   ],
   "source": [
    "first_day_return =first_day.xs(key=['open','close','symbol'], axis=1)\n",
    "first_day_return"
   ]
  },
  {
   "cell_type": "code",
   "execution_count": 378,
   "metadata": {},
   "outputs": [
    {
     "data": {
      "text/plain": [
       "<seaborn.axisgrid.PairGrid at 0x1fa9cbf2548>"
      ]
     },
     "execution_count": 378,
     "metadata": {},
     "output_type": "execute_result"
    },
    {
     "data": {
      "image/png": "[encoded data removed]",
      "text/plain": [
       "<Figure size 360x360 with 6 Axes>"
      ]
     },
     "metadata": {
      "needs_background": "light"
     },
     "output_type": "display_data"
    }
   ],
   "source": [
    "#Create a pairplot using seaborn of first_day_return dataframe. What stocks stands out?\n",
    "sns.pairplot(first_day_return[1:])\n"
   ]
  },
  {
   "cell_type": "code",
   "execution_count": 379,
   "metadata": {},
   "outputs": [
    {
     "data": {
      "text/plain": [
       "open      83.33\n",
       "close     81.54\n",
       "symbol     AAPL\n",
       "dtype: object"
      ]
     },
     "execution_count": 379,
     "metadata": {},
     "output_type": "execute_result"
    }
   ],
   "source": [
    "first_day_return.min()"
   ]
  },
  {
   "cell_type": "code",
   "execution_count": 380,
   "metadata": {},
   "outputs": [],
   "source": [
    "initial_investment = 10000\n",
    "# 10% of 10000 = 1000 to buy a number of share\n",
    "last_day['share'] = (0.01*initial_investment)\n",
    "last_day['share'] = ((0.01*initial_investment)/last_day['close'])\n",
    "\n",
    "last_day['value'] = first_day['share'] * last_day['close']\n",
    "\n",
    "#first_day_AAPL = (.01*initial_investment)/ day_1"
   ]
  },
  {
   "cell_type": "code",
   "execution_count": 381,
   "metadata": {},
   "outputs": [
    {
     "data": {
      "text/html": [
       "<div>\n",
       "<style scoped>\n",
       "    .dataframe tbody tr th:only-of-type {\n",
       "        vertical-align: middle;\n",
       "    }\n",
       "\n",
       "    .dataframe tbody tr th {\n",
       "        vertical-align: top;\n",
       "    }\n",
       "\n",
       "    .dataframe thead th {\n",
       "        text-align: right;\n",
       "    }\n",
       "</style>\n",
       "<table border=\"1\" class=\"dataframe\">\n",
       "  <thead>\n",
       "    <tr style=\"text-align: right;\">\n",
       "      <th></th>\n",
       "      <th>timestamp</th>\n",
       "      <th>open</th>\n",
       "      <th>high</th>\n",
       "      <th>low</th>\n",
       "      <th>close</th>\n",
       "      <th>volume</th>\n",
       "      <th>trade_count</th>\n",
       "      <th>vwap</th>\n",
       "      <th>symbol</th>\n",
       "      <th>share</th>\n",
       "      <th>value</th>\n",
       "    </tr>\n",
       "  </thead>\n",
       "  <tbody>\n",
       "    <tr>\n",
       "      <th>0</th>\n",
       "      <td>2021-12-31 05:00:00+00:00</td>\n",
       "      <td>178.00</td>\n",
       "      <td>179.23</td>\n",
       "      <td>177.26</td>\n",
       "      <td>177.57</td>\n",
       "      <td>64038680</td>\n",
       "      <td>451478</td>\n",
       "      <td>177.800285</td>\n",
       "      <td>AAPL</td>\n",
       "      <td>0.563158</td>\n",
       "      <td>137.215053</td>\n",
       "    </tr>\n",
       "    <tr>\n",
       "      <th>1</th>\n",
       "      <td>2021-12-31 05:00:00+00:00</td>\n",
       "      <td>168.78</td>\n",
       "      <td>170.87</td>\n",
       "      <td>166.08</td>\n",
       "      <td>166.49</td>\n",
       "      <td>2595087</td>\n",
       "      <td>42536</td>\n",
       "      <td>167.276451</td>\n",
       "      <td>ABNB</td>\n",
       "      <td>0.600637</td>\n",
       "      <td>119.647862</td>\n",
       "    </tr>\n",
       "    <tr>\n",
       "      <th>2</th>\n",
       "      <td>2021-12-31 05:00:00+00:00</td>\n",
       "      <td>174.75</td>\n",
       "      <td>176.66</td>\n",
       "      <td>174.58</td>\n",
       "      <td>175.77</td>\n",
       "      <td>1916631</td>\n",
       "      <td>33470</td>\n",
       "      <td>175.731838</td>\n",
       "      <td>ADI</td>\n",
       "      <td>0.568925</td>\n",
       "      <td>120.373921</td>\n",
       "    </tr>\n",
       "    <tr>\n",
       "      <th>3</th>\n",
       "      <td>2021-12-31 05:00:00+00:00</td>\n",
       "      <td>88.64</td>\n",
       "      <td>89.22</td>\n",
       "      <td>88.30</td>\n",
       "      <td>88.97</td>\n",
       "      <td>1519921</td>\n",
       "      <td>22968</td>\n",
       "      <td>88.878485</td>\n",
       "      <td>AEP</td>\n",
       "      <td>1.123974</td>\n",
       "      <td>109.112092</td>\n",
       "    </tr>\n",
       "    <tr>\n",
       "      <th>4</th>\n",
       "      <td>2021-12-31 05:00:00+00:00</td>\n",
       "      <td>660.95</td>\n",
       "      <td>674.89</td>\n",
       "      <td>655.62</td>\n",
       "      <td>657.18</td>\n",
       "      <td>461369</td>\n",
       "      <td>13916</td>\n",
       "      <td>664.279136</td>\n",
       "      <td>ALGN</td>\n",
       "      <td>0.152165</td>\n",
       "      <td>124.829997</td>\n",
       "    </tr>\n",
       "  </tbody>\n",
       "</table>\n",
       "</div>"
      ],
      "text/plain": [
       "                  timestamp    open    high     low   close    volume  \\\n",
       "0 2021-12-31 05:00:00+00:00  178.00  179.23  177.26  177.57  64038680   \n",
       "1 2021-12-31 05:00:00+00:00  168.78  170.87  166.08  166.49   2595087   \n",
       "2 2021-12-31 05:00:00+00:00  174.75  176.66  174.58  175.77   1916631   \n",
       "3 2021-12-31 05:00:00+00:00   88.64   89.22   88.30   88.97   1519921   \n",
       "4 2021-12-31 05:00:00+00:00  660.95  674.89  655.62  657.18    461369   \n",
       "\n",
       "   trade_count        vwap symbol     share       value  \n",
       "0       451478  177.800285   AAPL  0.563158  137.215053  \n",
       "1        42536  167.276451   ABNB  0.600637  119.647862  \n",
       "2        33470  175.731838    ADI  0.568925  120.373921  \n",
       "3        22968   88.878485    AEP  1.123974  109.112092  \n",
       "4        13916  664.279136   ALGN  0.152165  124.829997  "
      ]
     },
     "execution_count": 381,
     "metadata": {},
     "output_type": "execute_result"
    }
   ],
   "source": [
    "last_day.head()"
   ]
  },
  {
   "cell_type": "code",
   "execution_count": 382,
   "metadata": {},
   "outputs": [
    {
     "data": {
      "text/plain": [
       "<seaborn.axisgrid.FacetGrid at 0x1fa9de89a48>"
      ]
     },
     "execution_count": 382,
     "metadata": {},
     "output_type": "execute_result"
    },
    {
     "data": {
      "image/png": "[encoded data removed]",
      "text/plain": [
       "<Figure size 360x360 with 1 Axes>"
      ]
     },
     "metadata": {
      "needs_background": "light"
     },
     "output_type": "display_data"
    }
   ],
   "source": [
    "sns.displot(first_day['symbol'], kde=False, bins= 30)"
   ]
  },
  {
   "cell_type": "code",
   "execution_count": 383,
   "metadata": {},
   "outputs": [
    {
     "data": {
      "text/plain": [
       "<seaborn.axisgrid.JointGrid at 0x1fa9de897c8>"
      ]
     },
     "execution_count": 383,
     "metadata": {},
     "output_type": "execute_result"
    },
    {
     "data": {
      "image/png": "[encoded data removed]",
      "text/plain": [
       "<Figure size 432x432 with 3 Axes>"
      ]
     },
     "metadata": {
      "needs_background": "light"
     },
     "output_type": "display_data"
    }
   ],
   "source": [
    "sns.jointplot(x='symbol', y='close', data=first_day)"
   ]
  },
  {
   "cell_type": "code",
   "execution_count": 384,
   "metadata": {},
   "outputs": [
    {
     "data": {
      "text/plain": [
       "<seaborn.axisgrid.PairGrid at 0x1fa9de5e088>"
      ]
     },
     "execution_count": 384,
     "metadata": {},
     "output_type": "execute_result"
    },
    {
     "data": {
      "image/png": "[encoded data removed]",
      "text/plain": [
       "<Figure size 1620x1620 with 90 Axes>"
      ]
     },
     "metadata": {
      "needs_background": "light"
     },
     "output_type": "display_data"
    }
   ],
   "source": [
    "sns.pairplot(first_day)"
   ]
  },
  {
   "cell_type": "code",
   "execution_count": 385,
   "metadata": {},
   "outputs": [
    {
     "data": {
      "application/vnd.plotly.v1+json": {
       "config": {
        "linkText": "Export to plot.ly",
        "plotlyServerURL": "https://plot.ly",
        "showLink": true
       },
       "data": [
        {
         "line": {
          "color": "rgba(255, 153, 51, 1.0)",
          "dash": "solid",
          "shape": "linear",
          "width": 1.3
         },
         "mode": "lines",
         "name": "timestamp",
         "text": "",
         "type": "scatter",
         "x": [
          0,
          1,
          2,
          3,
          4,
          5,
          6,
          7,
          8,
          9
         ],
         "y": [
          "2021-01-04T05:00:00.000000000",
          "2021-01-04T05:00:00.000000000",
          "2021-01-04T05:00:00.000000000",
          "2021-01-04T05:00:00.000000000",
          "2021-01-04T05:00:00.000000000",
          "2021-01-04T05:00:00.000000000",
          "2021-01-04T05:00:00.000000000",
          "2021-01-04T05:00:00.000000000",
          "2021-01-04T05:00:00.000000000",
          "2021-01-04T05:00:00.000000000"
         ]
        },
        {
         "line": {
          "color": "rgba(55, 128, 191, 1.0)",
          "dash": "solid",
          "shape": "linear",
          "width": 1.3
         },
         "mode": "lines",
         "name": "open",
         "text": "",
         "type": "scatter",
         "x": [
          0,
          1,
          2,
          3,
          4,
          5,
          6,
          7,
          8,
          9
         ],
         "y": [
          133.56,
          151,
          148.45,
          83.33,
          549.61,
          87.14,
          92.13,
          3270,
          362.35,
          499.99
         ]
        },
        {
         "line": {
          "color": "rgba(50, 171, 96, 1.0)",
          "dash": "solid",
          "shape": "linear",
          "width": 1.3
         },
         "mode": "lines",
         "name": "high",
         "text": "",
         "type": "scatter",
         "x": [
          0,
          1,
          2,
          3,
          4,
          5,
          6,
          7,
          8,
          9
         ],
         "y": [
          133.6116,
          151.005,
          150.545,
          83.44,
          560,
          89.3,
          96.06,
          3272,
          373.79,
          504.75
         ]
        },
        {
         "line": {
          "color": "rgba(128, 0, 128, 1.0)",
          "dash": "solid",
          "shape": "linear",
          "width": 1.3
         },
         "mode": "lines",
         "name": "low",
         "text": "",
         "type": "scatter",
         "x": [
          0,
          1,
          2,
          3,
          4,
          5,
          6,
          7,
          8,
          9
         ],
         "y": [
          126.76,
          137,
          144.62,
          81.205,
          519.7,
          86.15,
          90.915,
          3144.02,
          353.745,
          490.71
         ]
        },
        {
         "line": {
          "color": "rgba(219, 64, 82, 1.0)",
          "dash": "solid",
          "shape": "linear",
          "width": 1.3
         },
         "mode": "lines",
         "name": "close",
         "text": "",
         "type": "scatter",
         "x": [
          0,
          1,
          2,
          3,
          4,
          5,
          6,
          7,
          8,
          9
         ],
         "y": [
          129.41,
          139.15,
          146.02,
          81.54,
          526.46,
          86.87,
          92.3,
          3186.63,
          357.67,
          500
         ]
        },
        {
         "line": {
          "color": "rgba(0, 128, 128, 1.0)",
          "dash": "solid",
          "shape": "linear",
          "width": 1.3
         },
         "mode": "lines",
         "name": "volume",
         "text": "",
         "type": "scatter",
         "x": [
          0,
          1,
          2,
          3,
          4,
          5,
          6,
          7,
          8,
          9
         ],
         "y": [
          143302687,
          6415486,
          2496642,
          3232971,
          602433,
          8449949,
          51802652,
          4411486,
          521740,
          1527642
         ]
        },
        {
         "line": {
          "color": "rgba(255, 255, 51, 1.0)",
          "dash": "solid",
          "shape": "linear",
          "width": 1.3
         },
         "mode": "lines",
         "name": "trade_count",
         "text": "",
         "type": "scatter",
         "x": [
          0,
          1,
          2,
          3,
          4,
          5,
          6,
          7,
          8,
          9
         ],
         "y": [
          1310228,
          106339,
          43136,
          34798,
          18222,
          79765,
          381394,
          244078,
          15462,
          27183
         ]
        },
        {
         "line": {
          "color": "rgba(128, 128, 0, 1.0)",
          "dash": "solid",
          "shape": "linear",
          "width": 1.3
         },
         "mode": "lines",
         "name": "vwap",
         "text": "",
         "type": "scatter",
         "x": [
          0,
          1,
          2,
          3,
          4,
          5,
          6,
          7,
          8,
          9
         ],
         "y": [
          129.73258,
          142.50535,
          146.980214,
          81.783354,
          534.162545,
          87.348187,
          93.098152,
          3193.60957,
          360.304615,
          499.055421
         ]
        },
        {
         "line": {
          "color": "rgba(251, 128, 114, 1.0)",
          "dash": "solid",
          "shape": "linear",
          "width": 1.3
         },
         "mode": "lines",
         "name": "symbol",
         "text": "",
         "type": "scatter",
         "x": [
          0,
          1,
          2,
          3,
          4,
          5,
          6,
          7,
          8,
          9
         ],
         "y": [
          "AAPL",
          "ABNB",
          "ADI",
          "AEP",
          "ALGN",
          "AMAT",
          "AMD",
          "AMZN",
          "ANSS",
          "ASML"
         ]
        },
        {
         "line": {
          "color": "rgba(128, 177, 211, 1.0)",
          "dash": "solid",
          "shape": "linear",
          "width": 1.3
         },
         "mode": "lines",
         "name": "share",
         "text": "",
         "type": "scatter",
         "x": [
          0,
          1,
          2,
          3,
          4,
          5,
          6,
          7,
          8,
          9
         ],
         "y": [
          0.7727378100610464,
          0.7186489399928134,
          0.6848376934666484,
          1.226391954868776,
          0.1899479542605326,
          1.1511453896627144,
          1.0834236186348862,
          0.03138111421784142,
          0.2795873291022451,
          0.2
         ]
        },
        {
         "line": {
          "color": "rgba(128, 177, 211, 0.8999999999999999)",
          "dash": "solid",
          "shape": "linear",
          "width": 1.3
         },
         "mode": "lines",
         "name": "value",
         "text": "",
         "type": "scatter",
         "x": [
          0,
          1,
          2,
          3,
          4,
          5,
          6,
          7,
          8,
          9
         ],
         "y": [
          100,
          99.99999999999999,
          100,
          100.00000000000001,
          100,
          100,
          100,
          100.00000000000001,
          100.00000000000001,
          100
         ]
        }
       ],
       "layout": {
        "legend": {
         "bgcolor": "#F5F6F9",
         "font": {
          "color": "#4D5663"
         }
        },
        "paper_bgcolor": "#F5F6F9",
        "plot_bgcolor": "#F5F6F9",
        "template": {
         "data": {
          "bar": [
           {
            "error_x": {
             "color": "#2a3f5f"
            },
            "error_y": {
             "color": "#2a3f5f"
            },
            "marker": {
             "line": {
              "color": "#E5ECF6",
              "width": 0.5
             },
             "pattern": {
              "fillmode": "overlay",
              "size": 10,
              "solidity": 0.2
             }
            },
            "type": "bar"
           }
          ],
          "barpolar": [
           {
            "marker": {
             "line": {
              "color": "#E5ECF6",
              "width": 0.5
             },
             "pattern": {
              "fillmode": "overlay",
              "size": 10,
              "solidity": 0.2
             }
            },
            "type": "barpolar"
           }
          ],
          "carpet": [
           {
            "aaxis": {
             "endlinecolor": "#2a3f5f",
             "gridcolor": "white",
             "linecolor": "white",
             "minorgridcolor": "white",
             "startlinecolor": "#2a3f5f"
            },
            "baxis": {
             "endlinecolor": "#2a3f5f",
             "gridcolor": "white",
             "linecolor": "white",
             "minorgridcolor": "white",
             "startlinecolor": "#2a3f5f"
            },
            "type": "carpet"
           }
          ],
          "choropleth": [
           {
            "colorbar": {
             "outlinewidth": 0,
             "ticks": ""
            },
            "type": "choropleth"
           }
          ],
          "contour": [
           {
            "colorbar": {
             "outlinewidth": 0,
             "ticks": ""
            },
            "colorscale": [
             [
              0,
              "#0d0887"
             ],
             [
              0.1111111111111111,
              "#46039f"
             ],
             [
              0.2222222222222222,
              "#7201a8"
             ],
             [
              0.3333333333333333,
              "#9c179e"
             ],
             [
              0.4444444444444444,
              "#bd3786"
             ],
             [
              0.5555555555555556,
              "#d8576b"
             ],
             [
              0.6666666666666666,
              "#ed7953"
             ],
             [
              0.7777777777777778,
              "#fb9f3a"
             ],
             [
              0.8888888888888888,
              "#fdca26"
             ],
             [
              1,
              "#f0f921"
             ]
            ],
            "type": "contour"
           }
          ],
          "contourcarpet": [
           {
            "colorbar": {
             "outlinewidth": 0,
             "ticks": ""
            },
            "type": "contourcarpet"
           }
          ],
          "heatmap": [
           {
            "colorbar": {
             "outlinewidth": 0,
             "ticks": ""
            },
            "colorscale": [
             [
              0,
              "#0d0887"
             ],
             [
              0.1111111111111111,
              "#46039f"
             ],
             [
              0.2222222222222222,
              "#7201a8"
             ],
             [
              0.3333333333333333,
              "#9c179e"
             ],
             [
              0.4444444444444444,
              "#bd3786"
             ],
             [
              0.5555555555555556,
              "#d8576b"
             ],
             [
              0.6666666666666666,
              "#ed7953"
             ],
             [
              0.7777777777777778,
              "#fb9f3a"
             ],
             [
              0.8888888888888888,
              "#fdca26"
             ],
             [
              1,
              "#f0f921"
             ]
            ],
            "type": "heatmap"
           }
          ],
          "heatmapgl": [
           {
            "colorbar": {
             "outlinewidth": 0,
             "ticks": ""
            },
            "colorscale": [
             [
              0,
              "#0d0887"
             ],
             [
              0.1111111111111111,
              "#46039f"
             ],
             [
              0.2222222222222222,
              "#7201a8"
             ],
             [
              0.3333333333333333,
              "#9c179e"
             ],
             [
              0.4444444444444444,
              "#bd3786"
             ],
             [
              0.5555555555555556,
              "#d8576b"
             ],
             [
              0.6666666666666666,
              "#ed7953"
             ],
             [
              0.7777777777777778,
              "#fb9f3a"
             ],
             [
              0.8888888888888888,
              "#fdca26"
             ],
             [
              1,
              "#f0f921"
             ]
            ],
            "type": "heatmapgl"
           }
          ],
          "histogram": [
           {
            "marker": {
             "pattern": {
              "fillmode": "overlay",
              "size": 10,
              "solidity": 0.2
             }
            },
            "type": "histogram"
           }
          ],
          "histogram2d": [
           {
            "colorbar": {
             "outlinewidth": 0,
             "ticks": ""
            },
            "colorscale": [
             [
              0,
              "#0d0887"
             ],
             [
              0.1111111111111111,
              "#46039f"
             ],
             [
              0.2222222222222222,
              "#7201a8"
             ],
             [
              0.3333333333333333,
              "#9c179e"
             ],
             [
              0.4444444444444444,
              "#bd3786"
             ],
             [
              0.5555555555555556,
              "#d8576b"
             ],
             [
              0.6666666666666666,
              "#ed7953"
             ],
             [
              0.7777777777777778,
              "#fb9f3a"
             ],
             [
              0.8888888888888888,
              "#fdca26"
             ],
             [
              1,
              "#f0f921"
             ]
            ],
            "type": "histogram2d"
           }
          ],
          "histogram2dcontour": [
           {
            "colorbar": {
             "outlinewidth": 0,
             "ticks": ""
            },
            "colorscale": [
             [
              0,
              "#0d0887"
             ],
             [
              0.1111111111111111,
              "#46039f"
             ],
             [
              0.2222222222222222,
              "#7201a8"
             ],
             [
              0.3333333333333333,
              "#9c179e"
             ],
             [
              0.4444444444444444,
              "#bd3786"
             ],
             [
              0.5555555555555556,
              "#d8576b"
             ],
             [
              0.6666666666666666,
              "#ed7953"
             ],
             [
              0.7777777777777778,
              "#fb9f3a"
             ],
             [
              0.8888888888888888,
              "#fdca26"
             ],
             [
              1,
              "#f0f921"
             ]
            ],
            "type": "histogram2dcontour"
           }
          ],
          "mesh3d": [
           {
            "colorbar": {
             "outlinewidth": 0,
             "ticks": ""
            },
            "type": "mesh3d"
           }
          ],
          "parcoords": [
           {
            "line": {
             "colorbar": {
              "outlinewidth": 0,
              "ticks": ""
             }
            },
            "type": "parcoords"
           }
          ],
          "pie": [
           {
            "automargin": true,
            "type": "pie"
           }
          ],
          "scatter": [
           {
            "fillpattern": {
             "fillmode": "overlay",
             "size": 10,
             "solidity": 0.2
            },
            "type": "scatter"
           }
          ],
          "scatter3d": [
           {
            "line": {
             "colorbar": {
              "outlinewidth": 0,
              "ticks": ""
             }
            },
            "marker": {
             "colorbar": {
              "outlinewidth": 0,
              "ticks": ""
             }
            },
            "type": "scatter3d"
           }
          ],
          "scattercarpet": [
           {
            "marker": {
             "colorbar": {
              "outlinewidth": 0,
              "ticks": ""
             }
            },
            "type": "scattercarpet"
           }
          ],
          "scattergeo": [
           {
            "marker": {
             "colorbar": {
              "outlinewidth": 0,
              "ticks": ""
             }
            },
            "type": "scattergeo"
           }
          ],
          "scattergl": [
           {
            "marker": {
             "colorbar": {
              "outlinewidth": 0,
              "ticks": ""
             }
            },
            "type": "scattergl"
           }
          ],
          "scattermapbox": [
           {
            "marker": {
             "colorbar": {
              "outlinewidth": 0,
              "ticks": ""
             }
            },
            "type": "scattermapbox"
           }
          ],
          "scatterpolar": [
           {
            "marker": {
             "colorbar": {
              "outlinewidth": 0,
              "ticks": ""
             }
            },
            "type": "scatterpolar"
           }
          ],
          "scatterpolargl": [
           {
            "marker": {
             "colorbar": {
              "outlinewidth": 0,
              "ticks": ""
             }
            },
            "type": "scatterpolargl"
           }
          ],
          "scatterternary": [
           {
            "marker": {
             "colorbar": {
              "outlinewidth": 0,
              "ticks": ""
             }
            },
            "type": "scatterternary"
           }
          ],
          "surface": [
           {
            "colorbar": {
             "outlinewidth": 0,
             "ticks": ""
            },
            "colorscale": [
             [
              0,
              "#0d0887"
             ],
             [
              0.1111111111111111,
              "#46039f"
             ],
             [
              0.2222222222222222,
              "#7201a8"
             ],
             [
              0.3333333333333333,
              "#9c179e"
             ],
             [
              0.4444444444444444,
              "#bd3786"
             ],
             [
              0.5555555555555556,
              "#d8576b"
             ],
             [
              0.6666666666666666,
              "#ed7953"
             ],
             [
              0.7777777777777778,
              "#fb9f3a"
             ],
             [
              0.8888888888888888,
              "#fdca26"
             ],
             [
              1,
              "#f0f921"
             ]
            ],
            "type": "surface"
           }
          ],
          "table": [
           {
            "cells": {
             "fill": {
              "color": "#EBF0F8"
             },
             "line": {
              "color": "white"
             }
            },
            "header": {
             "fill": {
              "color": "#C8D4E3"
             },
             "line": {
              "color": "white"
             }
            },
            "type": "table"
           }
          ]
         },
         "layout": {
          "annotationdefaults": {
           "arrowcolor": "#2a3f5f",
           "arrowhead": 0,
           "arrowwidth": 1
          },
          "autotypenumbers": "strict",
          "coloraxis": {
           "colorbar": {
            "outlinewidth": 0,
            "ticks": ""
           }
          },
          "colorscale": {
           "diverging": [
            [
             0,
             "#8e0152"
            ],
            [
             0.1,
             "#c51b7d"
            ],
            [
             0.2,
             "#de77ae"
            ],
            [
             0.3,
             "#f1b6da"
            ],
            [
             0.4,
             "#fde0ef"
            ],
            [
             0.5,
             "#f7f7f7"
            ],
            [
             0.6,
             "#e6f5d0"
            ],
            [
             0.7,
             "#b8e186"
            ],
            [
             0.8,
             "#7fbc41"
            ],
            [
             0.9,
             "#4d9221"
            ],
            [
             1,
             "#276419"
            ]
           ],
           "sequential": [
            [
             0,
             "#0d0887"
            ],
            [
             0.1111111111111111,
             "#46039f"
            ],
            [
             0.2222222222222222,
             "#7201a8"
            ],
            [
             0.3333333333333333,
             "#9c179e"
            ],
            [
             0.4444444444444444,
             "#bd3786"
            ],
            [
             0.5555555555555556,
             "#d8576b"
            ],
            [
             0.6666666666666666,
             "#ed7953"
            ],
            [
             0.7777777777777778,
             "#fb9f3a"
            ],
            [
             0.8888888888888888,
             "#fdca26"
            ],
            [
             1,
             "#f0f921"
            ]
           ],
           "sequentialminus": [
            [
             0,
             "#0d0887"
            ],
            [
             0.1111111111111111,
             "#46039f"
            ],
            [
             0.2222222222222222,
             "#7201a8"
            ],
            [
             0.3333333333333333,
             "#9c179e"
            ],
            [
             0.4444444444444444,
             "#bd3786"
            ],
            [
             0.5555555555555556,
             "#d8576b"
            ],
            [
             0.6666666666666666,
             "#ed7953"
            ],
            [
             0.7777777777777778,
             "#fb9f3a"
            ],
            [
             0.8888888888888888,
             "#fdca26"
            ],
            [
             1,
             "#f0f921"
            ]
           ]
          },
          "colorway": [
           "#636efa",
           "#EF553B",
           "#00cc96",
           "#ab63fa",
           "#FFA15A",
           "#19d3f3",
           "#FF6692",
           "#B6E880",
           "#FF97FF",
           "#FECB52"
          ],
          "font": {
           "color": "#2a3f5f"
          },
          "geo": {
           "bgcolor": "white",
           "lakecolor": "white",
           "landcolor": "#E5ECF6",
           "showlakes": true,
           "showland": true,
           "subunitcolor": "white"
          },
          "hoverlabel": {
           "align": "left"
          },
          "hovermode": "closest",
          "mapbox": {
           "style": "light"
          },
          "paper_bgcolor": "white",
          "plot_bgcolor": "#E5ECF6",
          "polar": {
           "angularaxis": {
            "gridcolor": "white",
            "linecolor": "white",
            "ticks": ""
           },
           "bgcolor": "#E5ECF6",
           "radialaxis": {
            "gridcolor": "white",
            "linecolor": "white",
            "ticks": ""
           }
          },
          "scene": {
           "xaxis": {
            "backgroundcolor": "#E5ECF6",
            "gridcolor": "white",
            "gridwidth": 2,
            "linecolor": "white",
            "showbackground": true,
            "ticks": "",
            "zerolinecolor": "white"
           },
           "yaxis": {
            "backgroundcolor": "#E5ECF6",
            "gridcolor": "white",
            "gridwidth": 2,
            "linecolor": "white",
            "showbackground": true,
            "ticks": "",
            "zerolinecolor": "white"
           },
           "zaxis": {
            "backgroundcolor": "#E5ECF6",
            "gridcolor": "white",
            "gridwidth": 2,
            "linecolor": "white",
            "showbackground": true,
            "ticks": "",
            "zerolinecolor": "white"
           }
          },
          "shapedefaults": {
           "line": {
            "color": "#2a3f5f"
           }
          },
          "ternary": {
           "aaxis": {
            "gridcolor": "white",
            "linecolor": "white",
            "ticks": ""
           },
           "baxis": {
            "gridcolor": "white",
            "linecolor": "white",
            "ticks": ""
           },
           "bgcolor": "#E5ECF6",
           "caxis": {
            "gridcolor": "white",
            "linecolor": "white",
            "ticks": ""
           }
          },
          "title": {
           "x": 0.05
          },
          "xaxis": {
           "automargin": true,
           "gridcolor": "white",
           "linecolor": "white",
           "ticks": "",
           "title": {
            "standoff": 15
           },
           "zerolinecolor": "white",
           "zerolinewidth": 2
          },
          "yaxis": {
           "automargin": true,
           "gridcolor": "white",
           "linecolor": "white",
           "ticks": "",
           "title": {
            "standoff": 15
           },
           "zerolinecolor": "white",
           "zerolinewidth": 2
          }
         }
        },
        "title": {
         "font": {
          "color": "#4D5663"
         }
        },
        "xaxis": {
         "gridcolor": "#E1E5ED",
         "showgrid": true,
         "tickfont": {
          "color": "#4D5663"
         },
         "title": {
          "font": {
           "color": "#4D5663"
          },
          "text": ""
         },
         "zerolinecolor": "#E1E5ED"
        },
        "yaxis": {
         "gridcolor": "#E1E5ED",
         "showgrid": true,
         "tickfont": {
          "color": "#4D5663"
         },
         "title": {
          "font": {
           "color": "#4D5663"
          },
          "text": ""
         },
         "zerolinecolor": "#E1E5ED"
        }
       }
      },
      "text/html": [
       "<div>                            <div id=\"c230d9ab-64a2-46bb-96a4-dbb478bbbf5a\" class=\"plotly-graph-div\" style=\"height:525px; width:100%;\"></div>            <script type=\"text/javascript\">                require([\"plotly\"], function(Plotly) {                    window.PLOTLYENV=window.PLOTLYENV || {};\n",
       "                    window.PLOTLYENV.BASE_URL='https://plot.ly';                                    if (document.getElementById(\"c230d9ab-64a2-46bb-96a4-dbb478bbbf5a\")) {                    Plotly.newPlot(                        \"c230d9ab-64a2-46bb-96a4-dbb478bbbf5a\",                        [{\"line\":{\"color\":\"rgba(255, 153, 51, 1.0)\",\"dash\":\"solid\",\"shape\":\"linear\",\"width\":1.3},\"mode\":\"lines\",\"name\":\"timestamp\",\"text\":\"\",\"x\":[0,1,2,3,4,5,6,7,8,9],\"y\":[\"2021-01-04T05:00:00.000000000\",\"2021-01-04T05:00:00.000000000\",\"2021-01-04T05:00:00.000000000\",\"2021-01-04T05:00:00.000000000\",\"2021-01-04T05:00:00.000000000\",\"2021-01-04T05:00:00.000000000\",\"2021-01-04T05:00:00.000000000\",\"2021-01-04T05:00:00.000000000\",\"2021-01-04T05:00:00.000000000\",\"2021-01-04T05:00:00.000000000\"],\"type\":\"scatter\"},{\"line\":{\"color\":\"rgba(55, 128, 191, 1.0)\",\"dash\":\"solid\",\"shape\":\"linear\",\"width\":1.3},\"mode\":\"lines\",\"name\":\"open\",\"text\":\"\",\"x\":[0,1,2,3,4,5,6,7,8,9],\"y\":[133.56,151.0,148.45,83.33,549.61,87.14,92.13,3270.0,362.35,499.99],\"type\":\"scatter\"},{\"line\":{\"color\":\"rgba(50, 171, 96, 1.0)\",\"dash\":\"solid\",\"shape\":\"linear\",\"width\":1.3},\"mode\":\"lines\",\"name\":\"high\",\"text\":\"\",\"x\":[0,1,2,3,4,5,6,7,8,9],\"y\":[133.6116,151.005,150.545,83.44,560.0,89.3,96.06,3272.0,373.79,504.75],\"type\":\"scatter\"},{\"line\":{\"color\":\"rgba(128, 0, 128, 1.0)\",\"dash\":\"solid\",\"shape\":\"linear\",\"width\":1.3},\"mode\":\"lines\",\"name\":\"low\",\"text\":\"\",\"x\":[0,1,2,3,4,5,6,7,8,9],\"y\":[126.76,137.0,144.62,81.205,519.7,86.15,90.915,3144.02,353.745,490.71],\"type\":\"scatter\"},{\"line\":{\"color\":\"rgba(219, 64, 82, 1.0)\",\"dash\":\"solid\",\"shape\":\"linear\",\"width\":1.3},\"mode\":\"lines\",\"name\":\"close\",\"text\":\"\",\"x\":[0,1,2,3,4,5,6,7,8,9],\"y\":[129.41,139.15,146.02,81.54,526.46,86.87,92.3,3186.63,357.67,500.0],\"type\":\"scatter\"},{\"line\":{\"color\":\"rgba(0, 128, 128, 1.0)\",\"dash\":\"solid\",\"shape\":\"linear\",\"width\":1.3},\"mode\":\"lines\",\"name\":\"volume\",\"text\":\"\",\"x\":[0,1,2,3,4,5,6,7,8,9],\"y\":[143302687,6415486,2496642,3232971,602433,8449949,51802652,4411486,521740,1527642],\"type\":\"scatter\"},{\"line\":{\"color\":\"rgba(255, 255, 51, 1.0)\",\"dash\":\"solid\",\"shape\":\"linear\",\"width\":1.3},\"mode\":\"lines\",\"name\":\"trade_count\",\"text\":\"\",\"x\":[0,1,2,3,4,5,6,7,8,9],\"y\":[1310228,106339,43136,34798,18222,79765,381394,244078,15462,27183],\"type\":\"scatter\"},{\"line\":{\"color\":\"rgba(128, 128, 0, 1.0)\",\"dash\":\"solid\",\"shape\":\"linear\",\"width\":1.3},\"mode\":\"lines\",\"name\":\"vwap\",\"text\":\"\",\"x\":[0,1,2,3,4,5,6,7,8,9],\"y\":[129.73258,142.50535,146.980214,81.783354,534.162545,87.348187,93.098152,3193.60957,360.304615,499.055421],\"type\":\"scatter\"},{\"line\":{\"color\":\"rgba(251, 128, 114, 1.0)\",\"dash\":\"solid\",\"shape\":\"linear\",\"width\":1.3},\"mode\":\"lines\",\"name\":\"symbol\",\"text\":\"\",\"x\":[0,1,2,3,4,5,6,7,8,9],\"y\":[\"AAPL\",\"ABNB\",\"ADI\",\"AEP\",\"ALGN\",\"AMAT\",\"AMD\",\"AMZN\",\"ANSS\",\"ASML\"],\"type\":\"scatter\"},{\"line\":{\"color\":\"rgba(128, 177, 211, 1.0)\",\"dash\":\"solid\",\"shape\":\"linear\",\"width\":1.3},\"mode\":\"lines\",\"name\":\"share\",\"text\":\"\",\"x\":[0,1,2,3,4,5,6,7,8,9],\"y\":[0.7727378100610464,0.7186489399928134,0.6848376934666484,1.226391954868776,0.1899479542605326,1.1511453896627144,1.0834236186348862,0.03138111421784142,0.2795873291022451,0.2],\"type\":\"scatter\"},{\"line\":{\"color\":\"rgba(128, 177, 211, 0.8999999999999999)\",\"dash\":\"solid\",\"shape\":\"linear\",\"width\":1.3},\"mode\":\"lines\",\"name\":\"value\",\"text\":\"\",\"x\":[0,1,2,3,4,5,6,7,8,9],\"y\":[100.0,99.99999999999999,100.0,100.00000000000001,100.0,100.0,100.0,100.00000000000001,100.00000000000001,100.0],\"type\":\"scatter\"}],                        {\"legend\":{\"bgcolor\":\"#F5F6F9\",\"font\":{\"color\":\"#4D5663\"}},\"paper_bgcolor\":\"#F5F6F9\",\"plot_bgcolor\":\"#F5F6F9\",\"template\":{\"data\":{\"barpolar\":[{\"marker\":{\"line\":{\"color\":\"#E5ECF6\",\"width\":0.5},\"pattern\":{\"fillmode\":\"overlay\",\"size\":10,\"solidity\":0.2}},\"type\":\"barpolar\"}],\"bar\":[{\"error_x\":{\"color\":\"#2a3f5f\"},\"error_y\":{\"color\":\"#2a3f5f\"},\"marker\":{\"line\":{\"color\":\"#E5ECF6\",\"width\":0.5},\"pattern\":{\"fillmode\":\"overlay\",\"size\":10,\"solidity\":0.2}},\"type\":\"bar\"}],\"carpet\":[{\"aaxis\":{\"endlinecolor\":\"#2a3f5f\",\"gridcolor\":\"white\",\"linecolor\":\"white\",\"minorgridcolor\":\"white\",\"startlinecolor\":\"#2a3f5f\"},\"baxis\":{\"endlinecolor\":\"#2a3f5f\",\"gridcolor\":\"white\",\"linecolor\":\"white\",\"minorgridcolor\":\"white\",\"startlinecolor\":\"#2a3f5f\"},\"type\":\"carpet\"}],\"choropleth\":[{\"colorbar\":{\"outlinewidth\":0,\"ticks\":\"\"},\"type\":\"choropleth\"}],\"contourcarpet\":[{\"colorbar\":{\"outlinewidth\":0,\"ticks\":\"\"},\"type\":\"contourcarpet\"}],\"contour\":[{\"colorbar\":{\"outlinewidth\":0,\"ticks\":\"\"},\"colorscale\":[[0.0,\"#0d0887\"],[0.1111111111111111,\"#46039f\"],[0.2222222222222222,\"#7201a8\"],[0.3333333333333333,\"#9c179e\"],[0.4444444444444444,\"#bd3786\"],[0.5555555555555556,\"#d8576b\"],[0.6666666666666666,\"#ed7953\"],[0.7777777777777778,\"#fb9f3a\"],[0.8888888888888888,\"#fdca26\"],[1.0,\"#f0f921\"]],\"type\":\"contour\"}],\"heatmapgl\":[{\"colorbar\":{\"outlinewidth\":0,\"ticks\":\"\"},\"colorscale\":[[0.0,\"#0d0887\"],[0.1111111111111111,\"#46039f\"],[0.2222222222222222,\"#7201a8\"],[0.3333333333333333,\"#9c179e\"],[0.4444444444444444,\"#bd3786\"],[0.5555555555555556,\"#d8576b\"],[0.6666666666666666,\"#ed7953\"],[0.7777777777777778,\"#fb9f3a\"],[0.8888888888888888,\"#fdca26\"],[1.0,\"#f0f921\"]],\"type\":\"heatmapgl\"}],\"heatmap\":[{\"colorbar\":{\"outlinewidth\":0,\"ticks\":\"\"},\"colorscale\":[[0.0,\"#0d0887\"],[0.1111111111111111,\"#46039f\"],[0.2222222222222222,\"#7201a8\"],[0.3333333333333333,\"#9c179e\"],[0.4444444444444444,\"#bd3786\"],[0.5555555555555556,\"#d8576b\"],[0.6666666666666666,\"#ed7953\"],[0.7777777777777778,\"#fb9f3a\"],[0.8888888888888888,\"#fdca26\"],[1.0,\"#f0f921\"]],\"type\":\"heatmap\"}],\"histogram2dcontour\":[{\"colorbar\":{\"outlinewidth\":0,\"ticks\":\"\"},\"colorscale\":[[0.0,\"#0d0887\"],[0.1111111111111111,\"#46039f\"],[0.2222222222222222,\"#7201a8\"],[0.3333333333333333,\"#9c179e\"],[0.4444444444444444,\"#bd3786\"],[0.5555555555555556,\"#d8576b\"],[0.6666666666666666,\"#ed7953\"],[0.7777777777777778,\"#fb9f3a\"],[0.8888888888888888,\"#fdca26\"],[1.0,\"#f0f921\"]],\"type\":\"histogram2dcontour\"}],\"histogram2d\":[{\"colorbar\":{\"outlinewidth\":0,\"ticks\":\"\"},\"colorscale\":[[0.0,\"#0d0887\"],[0.1111111111111111,\"#46039f\"],[0.2222222222222222,\"#7201a8\"],[0.3333333333333333,\"#9c179e\"],[0.4444444444444444,\"#bd3786\"],[0.5555555555555556,\"#d8576b\"],[0.6666666666666666,\"#ed7953\"],[0.7777777777777778,\"#fb9f3a\"],[0.8888888888888888,\"#fdca26\"],[1.0,\"#f0f921\"]],\"type\":\"histogram2d\"}],\"histogram\":[{\"marker\":{\"pattern\":{\"fillmode\":\"overlay\",\"size\":10,\"solidity\":0.2}},\"type\":\"histogram\"}],\"mesh3d\":[{\"colorbar\":{\"outlinewidth\":0,\"ticks\":\"\"},\"type\":\"mesh3d\"}],\"parcoords\":[{\"line\":{\"colorbar\":{\"outlinewidth\":0,\"ticks\":\"\"}},\"type\":\"parcoords\"}],\"pie\":[{\"automargin\":true,\"type\":\"pie\"}],\"scatter3d\":[{\"line\":{\"colorbar\":{\"outlinewidth\":0,\"ticks\":\"\"}},\"marker\":{\"colorbar\":{\"outlinewidth\":0,\"ticks\":\"\"}},\"type\":\"scatter3d\"}],\"scattercarpet\":[{\"marker\":{\"colorbar\":{\"outlinewidth\":0,\"ticks\":\"\"}},\"type\":\"scattercarpet\"}],\"scattergeo\":[{\"marker\":{\"colorbar\":{\"outlinewidth\":0,\"ticks\":\"\"}},\"type\":\"scattergeo\"}],\"scattergl\":[{\"marker\":{\"colorbar\":{\"outlinewidth\":0,\"ticks\":\"\"}},\"type\":\"scattergl\"}],\"scattermapbox\":[{\"marker\":{\"colorbar\":{\"outlinewidth\":0,\"ticks\":\"\"}},\"type\":\"scattermapbox\"}],\"scatterpolargl\":[{\"marker\":{\"colorbar\":{\"outlinewidth\":0,\"ticks\":\"\"}},\"type\":\"scatterpolargl\"}],\"scatterpolar\":[{\"marker\":{\"colorbar\":{\"outlinewidth\":0,\"ticks\":\"\"}},\"type\":\"scatterpolar\"}],\"scatter\":[{\"fillpattern\":{\"fillmode\":\"overlay\",\"size\":10,\"solidity\":0.2},\"type\":\"scatter\"}],\"scatterternary\":[{\"marker\":{\"colorbar\":{\"outlinewidth\":0,\"ticks\":\"\"}},\"type\":\"scatterternary\"}],\"surface\":[{\"colorbar\":{\"outlinewidth\":0,\"ticks\":\"\"},\"colorscale\":[[0.0,\"#0d0887\"],[0.1111111111111111,\"#46039f\"],[0.2222222222222222,\"#7201a8\"],[0.3333333333333333,\"#9c179e\"],[0.4444444444444444,\"#bd3786\"],[0.5555555555555556,\"#d8576b\"],[0.6666666666666666,\"#ed7953\"],[0.7777777777777778,\"#fb9f3a\"],[0.8888888888888888,\"#fdca26\"],[1.0,\"#f0f921\"]],\"type\":\"surface\"}],\"table\":[{\"cells\":{\"fill\":{\"color\":\"#EBF0F8\"},\"line\":{\"color\":\"white\"}},\"header\":{\"fill\":{\"color\":\"#C8D4E3\"},\"line\":{\"color\":\"white\"}},\"type\":\"table\"}]},\"layout\":{\"annotationdefaults\":{\"arrowcolor\":\"#2a3f5f\",\"arrowhead\":0,\"arrowwidth\":1},\"autotypenumbers\":\"strict\",\"coloraxis\":{\"colorbar\":{\"outlinewidth\":0,\"ticks\":\"\"}},\"colorscale\":{\"diverging\":[[0,\"#8e0152\"],[0.1,\"#c51b7d\"],[0.2,\"#de77ae\"],[0.3,\"#f1b6da\"],[0.4,\"#fde0ef\"],[0.5,\"#f7f7f7\"],[0.6,\"#e6f5d0\"],[0.7,\"#b8e186\"],[0.8,\"#7fbc41\"],[0.9,\"#4d9221\"],[1,\"#276419\"]],\"sequential\":[[0.0,\"#0d0887\"],[0.1111111111111111,\"#46039f\"],[0.2222222222222222,\"#7201a8\"],[0.3333333333333333,\"#9c179e\"],[0.4444444444444444,\"#bd3786\"],[0.5555555555555556,\"#d8576b\"],[0.6666666666666666,\"#ed7953\"],[0.7777777777777778,\"#fb9f3a\"],[0.8888888888888888,\"#fdca26\"],[1.0,\"#f0f921\"]],\"sequentialminus\":[[0.0,\"#0d0887\"],[0.1111111111111111,\"#46039f\"],[0.2222222222222222,\"#7201a8\"],[0.3333333333333333,\"#9c179e\"],[0.4444444444444444,\"#bd3786\"],[0.5555555555555556,\"#d8576b\"],[0.6666666666666666,\"#ed7953\"],[0.7777777777777778,\"#fb9f3a\"],[0.8888888888888888,\"#fdca26\"],[1.0,\"#f0f921\"]]},\"colorway\":[\"#636efa\",\"#EF553B\",\"#00cc96\",\"#ab63fa\",\"#FFA15A\",\"#19d3f3\",\"#FF6692\",\"#B6E880\",\"#FF97FF\",\"#FECB52\"],\"font\":{\"color\":\"#2a3f5f\"},\"geo\":{\"bgcolor\":\"white\",\"lakecolor\":\"white\",\"landcolor\":\"#E5ECF6\",\"showlakes\":true,\"showland\":true,\"subunitcolor\":\"white\"},\"hoverlabel\":{\"align\":\"left\"},\"hovermode\":\"closest\",\"mapbox\":{\"style\":\"light\"},\"paper_bgcolor\":\"white\",\"plot_bgcolor\":\"#E5ECF6\",\"polar\":{\"angularaxis\":{\"gridcolor\":\"white\",\"linecolor\":\"white\",\"ticks\":\"\"},\"bgcolor\":\"#E5ECF6\",\"radialaxis\":{\"gridcolor\":\"white\",\"linecolor\":\"white\",\"ticks\":\"\"}},\"scene\":{\"xaxis\":{\"backgroundcolor\":\"#E5ECF6\",\"gridcolor\":\"white\",\"gridwidth\":2,\"linecolor\":\"white\",\"showbackground\":true,\"ticks\":\"\",\"zerolinecolor\":\"white\"},\"yaxis\":{\"backgroundcolor\":\"#E5ECF6\",\"gridcolor\":\"white\",\"gridwidth\":2,\"linecolor\":\"white\",\"showbackground\":true,\"ticks\":\"\",\"zerolinecolor\":\"white\"},\"zaxis\":{\"backgroundcolor\":\"#E5ECF6\",\"gridcolor\":\"white\",\"gridwidth\":2,\"linecolor\":\"white\",\"showbackground\":true,\"ticks\":\"\",\"zerolinecolor\":\"white\"}},\"shapedefaults\":{\"line\":{\"color\":\"#2a3f5f\"}},\"ternary\":{\"aaxis\":{\"gridcolor\":\"white\",\"linecolor\":\"white\",\"ticks\":\"\"},\"baxis\":{\"gridcolor\":\"white\",\"linecolor\":\"white\",\"ticks\":\"\"},\"bgcolor\":\"#E5ECF6\",\"caxis\":{\"gridcolor\":\"white\",\"linecolor\":\"white\",\"ticks\":\"\"}},\"title\":{\"x\":0.05},\"xaxis\":{\"automargin\":true,\"gridcolor\":\"white\",\"linecolor\":\"white\",\"ticks\":\"\",\"title\":{\"standoff\":15},\"zerolinecolor\":\"white\",\"zerolinewidth\":2},\"yaxis\":{\"automargin\":true,\"gridcolor\":\"white\",\"linecolor\":\"white\",\"ticks\":\"\",\"title\":{\"standoff\":15},\"zerolinecolor\":\"white\",\"zerolinewidth\":2}}},\"title\":{\"font\":{\"color\":\"#4D5663\"}},\"xaxis\":{\"gridcolor\":\"#E1E5ED\",\"showgrid\":true,\"tickfont\":{\"color\":\"#4D5663\"},\"title\":{\"font\":{\"color\":\"#4D5663\"},\"text\":\"\"},\"zerolinecolor\":\"#E1E5ED\"},\"yaxis\":{\"gridcolor\":\"#E1E5ED\",\"showgrid\":true,\"tickfont\":{\"color\":\"#4D5663\"},\"title\":{\"font\":{\"color\":\"#4D5663\"},\"text\":\"\"},\"zerolinecolor\":\"#E1E5ED\"}},                        {\"showLink\": true, \"linkText\": \"Export to plot.ly\", \"plotlyServerURL\": \"https://plot.ly\", \"responsive\": true}                    ).then(function(){\n",
       "                            \n",
       "var gd = document.getElementById('c230d9ab-64a2-46bb-96a4-dbb478bbbf5a');\n",
       "var x = new MutationObserver(function (mutations, observer) {{\n",
       "        var display = window.getComputedStyle(gd).display;\n",
       "        if (!display || display === 'none') {{\n",
       "            console.log([gd, 'removed!']);\n",
       "            Plotly.purge(gd);\n",
       "            observer.disconnect();\n",
       "        }}\n",
       "}});\n",
       "\n",
       "// Listen for the removal of the full notebook cells\n",
       "var notebookContainer = gd.closest('#notebook-container');\n",
       "if (notebookContainer) {{\n",
       "    x.observe(notebookContainer, {childList: true});\n",
       "}}\n",
       "\n",
       "// Listen for the clearing of the current output cell\n",
       "var outputEl = gd.closest('.output');\n",
       "if (outputEl) {{\n",
       "    x.observe(outputEl, {childList: true});\n",
       "}}\n",
       "\n",
       "                        })                };                });            </script>        </div>"
      ]
     },
     "metadata": {},
     "output_type": "display_data"
    }
   ],
   "source": [
    "first_day.iplot()"
   ]
  }
 ],
 "metadata": {
  "interpreter": {
   "hash": "fc0b823c51e9bc3bfb6e10b46f948bbc1d9b95c06185d6cafcf0c9a7aa8c3947"
  },
  "kernelspec": {
   "display_name": "Python 3 (ipykernel)",
   "language": "python",
   "name": "python3"
  },
  "language_info": {
   "codemirror_mode": {
    "name": "ipython",
    "version": 3
   },
   "file_extension": ".py",
   "mimetype": "text/x-python",
   "name": "python",
   "nbconvert_exporter": "python",
   "pygments_lexer": "ipython3",
   "version": "3.7.13"
  }
 },
 "nbformat": 4,
 "nbformat_minor": 4
}
